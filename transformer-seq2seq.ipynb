{
 "cells": [
  {
   "cell_type": "markdown",
   "metadata": {
    "ExecuteTime": {
     "end_time": "2018-05-20T13:35:34.005852Z",
     "start_time": "2018-05-20T13:35:34.001184Z"
    },
    "collapsed": true
   },
   "source": [
    "# Transformer - Attention is all you Need\n",
    "Implementation of the non autoregressive seq2seq model - Transformer, outlined in [this](https://arxiv.org/abs/1706.03762) paper. Code is taken with minor changes from HarvardNLP's [implementation](https://github.com/harvardnlp/annotated-transformer) adapted for [CMU pronouncing dataset](http://www.speech.cs.cmu.edu/cgi-bin/cmudict)."
   ]
  },
  {
   "cell_type": "code",
   "execution_count": 1,
   "metadata": {
    "ExecuteTime": {
     "end_time": "2018-05-22T10:03:10.845467Z",
     "start_time": "2018-05-22T10:03:09.529929Z"
    },
    "collapsed": true
   },
   "outputs": [],
   "source": [
    "import numpy as np\n",
    "import torch\n",
    "import torch.nn as nn\n",
    "import torch.nn.functional as F\n",
    "import math, copy, time\n",
    "from torch.autograd import Variable\n",
    "import matplotlib.pyplot as plt\n",
    "import seaborn \n",
    "%matplotlib inline\n",
    "\n",
    "import pdb"
   ]
  },
  {
   "cell_type": "code",
   "execution_count": 2,
   "metadata": {
    "ExecuteTime": {
     "end_time": "2018-05-22T10:03:10.892155Z",
     "start_time": "2018-05-22T10:03:10.846376Z"
    },
    "collapsed": true
   },
   "outputs": [],
   "source": [
    "device = torch.device(\"cuda:0\" if torch.cuda.is_available() else \"cpu\")"
   ]
  },
  {
   "cell_type": "markdown",
   "metadata": {},
   "source": [
    "## Model"
   ]
  },
  {
   "cell_type": "code",
   "execution_count": 3,
   "metadata": {
    "ExecuteTime": {
     "end_time": "2018-05-22T10:03:10.903785Z",
     "start_time": "2018-05-22T10:03:10.893745Z"
    },
    "collapsed": true
   },
   "outputs": [],
   "source": [
    "class EncoderDecoder(nn.Module):\n",
    "\n",
    "    def __init__(self, encoder, decoder, src_embed, tgt_embed, generator):\n",
    "        super(EncoderDecoder, self).__init__()\n",
    "        self.encoder = encoder\n",
    "        self.decoder = decoder\n",
    "        self.src_embed = src_embed\n",
    "        self.tgt_embed = tgt_embed\n",
    "        self.generator = generator\n",
    "        \n",
    "    def forward(self, src, tgt, src_mask, tgt_mask):\n",
    "        return self.decode(self.encode(src, src_mask), src_mask,\n",
    "                            tgt, tgt_mask)\n",
    "    \n",
    "    def encode(self, src, src_mask):\n",
    "        return self.encoder(self.src_embed(src), src_mask)\n",
    "    \n",
    "    def decode(self, memory, src_mask, tgt, tgt_mask):\n",
    "        return self.decoder(self.tgt_embed(tgt), memory, src_mask, tgt_mask)"
   ]
  },
  {
   "cell_type": "code",
   "execution_count": 4,
   "metadata": {
    "ExecuteTime": {
     "end_time": "2018-05-22T10:03:10.908133Z",
     "start_time": "2018-05-22T10:03:10.904534Z"
    },
    "collapsed": true
   },
   "outputs": [],
   "source": [
    "class Generator(nn.Module):\n",
    "    def __init__(self, d_model, vocab):\n",
    "        super(Generator, self).__init__()\n",
    "        self.proj = nn.Linear(d_model, vocab)\n",
    "\n",
    "    def forward(self, x):\n",
    "        return F.log_softmax(self.proj(x), dim=-1)"
   ]
  },
  {
   "cell_type": "markdown",
   "metadata": {},
   "source": [
    "### Layers"
   ]
  },
  {
   "cell_type": "code",
   "execution_count": 5,
   "metadata": {
    "ExecuteTime": {
     "end_time": "2018-05-22T10:03:10.914348Z",
     "start_time": "2018-05-22T10:03:10.908860Z"
    },
    "collapsed": true
   },
   "outputs": [],
   "source": [
    "class Encoder(nn.Module):\n",
    "    def __init__(self, layer, N):\n",
    "        super(Encoder, self).__init__()\n",
    "        self.layers = clones(layer, N)\n",
    "        self.norm = LayerNorm(layer.size)\n",
    "        \n",
    "    def forward(self, x, mask):\n",
    "        #pdb.set_trace()\n",
    "        for layer in self.layers:\n",
    "            x = layer(x, mask)\n",
    "        return self.norm(x)"
   ]
  },
  {
   "cell_type": "code",
   "execution_count": 88,
   "metadata": {
    "ExecuteTime": {
     "end_time": "2018-05-22T11:13:13.975361Z",
     "start_time": "2018-05-22T11:13:13.953656Z"
    },
    "collapsed": true
   },
   "outputs": [],
   "source": [
    "class Decoder(nn.Module):\n",
    "    def __init__(self, layer, N):\n",
    "        super(Decoder, self).__init__()\n",
    "        self.layers = clones(layer, N)\n",
    "        self.norm = LayerNorm(layer.size)\n",
    "        \n",
    "    def forward(self, x, memory, src_mask, tgt_mask):\n",
    "        for layer in self.layers:\n",
    "            x = layer(x, memory, src_mask, tgt_mask)\n",
    "        return self.norm(x)"
   ]
  },
  {
   "cell_type": "code",
   "execution_count": 89,
   "metadata": {
    "ExecuteTime": {
     "end_time": "2018-05-22T11:13:14.779203Z",
     "start_time": "2018-05-22T11:13:14.755196Z"
    },
    "collapsed": true
   },
   "outputs": [],
   "source": [
    "class EncoderLayer(nn.Module):\n",
    "    def __init__(self, size, self_attn, feed_forward, dropout):\n",
    "        super(EncoderLayer, self).__init__()\n",
    "        self.self_attn = self_attn\n",
    "        self.feed_forward = feed_forward\n",
    "        self.sublayer = clones(SublayerConnection(size, dropout), 2)\n",
    "        self.size = size\n",
    "\n",
    "    def forward(self, x, mask):\n",
    "        x = self.sublayer[0](x, lambda x: self.self_attn(x, x, x, mask))\n",
    "        return self.sublayer[1](x, self.feed_forward)"
   ]
  },
  {
   "cell_type": "code",
   "execution_count": 8,
   "metadata": {
    "ExecuteTime": {
     "end_time": "2018-05-22T10:03:10.937814Z",
     "start_time": "2018-05-22T10:03:10.929330Z"
    },
    "collapsed": true
   },
   "outputs": [],
   "source": [
    "class DecoderLayer(nn.Module):\n",
    "    def __init__(self, size, self_attn, src_attn, feed_forward, dropout):\n",
    "        super(DecoderLayer, self).__init__()\n",
    "        self.size = size\n",
    "        self.self_attn = self_attn\n",
    "        self.src_attn = src_attn\n",
    "        self.feed_forward = feed_forward\n",
    "        self.sublayer = clones(SublayerConnection(size, dropout), 3)\n",
    " \n",
    "    def forward(self, x, memory, src_mask, tgt_mask):\n",
    "        m = memory\n",
    "        x = self.sublayer[0](x, lambda x: self.self_attn(x, x, x, tgt_mask))\n",
    "        x = self.sublayer[1](x, lambda x: self.src_attn(x, m, m, src_mask))\n",
    "        return self.sublayer[2](x, self.feed_forward)"
   ]
  },
  {
   "cell_type": "code",
   "execution_count": 9,
   "metadata": {
    "ExecuteTime": {
     "end_time": "2018-05-22T10:03:10.941940Z",
     "start_time": "2018-05-22T10:03:10.938662Z"
    },
    "collapsed": true
   },
   "outputs": [],
   "source": [
    "def clones(module, N):\n",
    "    \"Produce N identical layers.\"\n",
    "    return nn.ModuleList([copy.deepcopy(module) for _ in range(N)])"
   ]
  },
  {
   "cell_type": "markdown",
   "metadata": {},
   "source": [
    "### Sub-Layer"
   ]
  },
  {
   "cell_type": "code",
   "execution_count": 10,
   "metadata": {
    "ExecuteTime": {
     "end_time": "2018-05-22T10:03:10.971380Z",
     "start_time": "2018-05-22T10:03:10.963426Z"
    },
    "collapsed": true
   },
   "outputs": [],
   "source": [
    "class LayerNorm(nn.Module):\n",
    "    def __init__(self, features, eps=1e-6):\n",
    "        super(LayerNorm, self).__init__()\n",
    "        self.a_2 = nn.Parameter(torch.ones(features))\n",
    "        self.b_2 = nn.Parameter(torch.zeros(features))\n",
    "        self.eps = eps\n",
    "\n",
    "    def forward(self, x):\n",
    "        mean = x.mean(-1, keepdim=True)\n",
    "        std = x.std(-1, keepdim=True)\n",
    "        return self.a_2 * (x - mean) / (std + self.eps) + self.b_2"
   ]
  },
  {
   "cell_type": "code",
   "execution_count": 11,
   "metadata": {
    "ExecuteTime": {
     "end_time": "2018-05-22T10:03:11.020789Z",
     "start_time": "2018-05-22T10:03:11.016590Z"
    },
    "collapsed": true
   },
   "outputs": [],
   "source": [
    "class SublayerConnection(nn.Module):\n",
    "\n",
    "    def __init__(self, size, dropout):\n",
    "        super(SublayerConnection, self).__init__()\n",
    "        self.norm = LayerNorm(size)\n",
    "        self.dropout = nn.Dropout(dropout)\n",
    "\n",
    "    def forward(self, x, sublayer):\n",
    "        return x + self.dropout(sublayer(self.norm(x)))"
   ]
  },
  {
   "cell_type": "code",
   "execution_count": 12,
   "metadata": {
    "ExecuteTime": {
     "end_time": "2018-05-22T10:03:11.083566Z",
     "start_time": "2018-05-22T10:03:11.079878Z"
    },
    "collapsed": true
   },
   "outputs": [],
   "source": [
    "def subsequent_mask(size):\n",
    "    \"Mask out subsequent positions.\"\n",
    "    attn_shape = (1, size, size)\n",
    "    subsequent_mask = np.triu(np.ones(attn_shape), k=1).astype('uint8')\n",
    "    return torch.from_numpy(subsequent_mask) == 0"
   ]
  },
  {
   "cell_type": "code",
   "execution_count": 13,
   "metadata": {
    "ExecuteTime": {
     "end_time": "2018-05-22T10:03:11.131804Z",
     "start_time": "2018-05-22T10:03:11.126000Z"
    },
    "collapsed": true
   },
   "outputs": [],
   "source": [
    "def attention(query, key, value, mask=None, dropout=None):\n",
    "    \"Compute 'Scaled Dot Product Attention'\"\n",
    "    d_k = query.size(-1)\n",
    "    scores = torch.matmul(query, key.transpose(-2, -1)) \\\n",
    "             / math.sqrt(d_k)\n",
    "    if mask is not None:\n",
    "        scores = scores.masked_fill(mask == 0, -1e9)\n",
    "    p_attn = F.softmax(scores, dim = -1)\n",
    "    if dropout is not None:\n",
    "        p_attn = dropout(p_attn)\n",
    "    return torch.matmul(p_attn, value), p_attn"
   ]
  },
  {
   "cell_type": "code",
   "execution_count": 14,
   "metadata": {
    "ExecuteTime": {
     "end_time": "2018-05-22T10:03:11.699829Z",
     "start_time": "2018-05-22T10:03:11.648635Z"
    },
    "collapsed": true
   },
   "outputs": [],
   "source": [
    "class MultiHeadedAttention(nn.Module):\n",
    "    def __init__(self, h, d_model, dropout=0.1):\n",
    "        super(MultiHeadedAttention, self).__init__()\n",
    "        assert d_model % h == 0\n",
    "        # We assume d_v always equals d_k\n",
    "        self.d_k = d_model // h\n",
    "        self.h = h\n",
    "        self.linears = clones(nn.Linear(d_model, d_model), 4)\n",
    "        self.attn = None\n",
    "        self.dropout = nn.Dropout(p=dropout)\n",
    "        \n",
    "    def forward(self, query, key, value, mask=None):\n",
    "        if mask is not None:\n",
    "            # Same mask applied to all h heads.\n",
    "            mask = mask.unsqueeze(1)\n",
    "        nbatches = query.size(0)\n",
    "        \n",
    "        # 1) Do all the linear projections in batch from d_model => h x d_k \n",
    "        query, key, value = \\\n",
    "            [l(x).view(nbatches, -1, self.h, self.d_k).transpose(1, 2)\n",
    "             for l, x in zip(self.linears, (query, key, value))]\n",
    "        \n",
    "        # 2) Apply attention on all the projected vectors in batch. \n",
    "        x, self.attn = attention(query, key, value, mask=mask, \n",
    "                                 dropout=self.dropout)\n",
    "        \n",
    "        # 3) \"Concat\" using a view and apply a final linear. \n",
    "        x = x.transpose(1, 2).contiguous() \\\n",
    "             .view(nbatches, -1, self.h * self.d_k)\n",
    "        return self.linears[-1](x)"
   ]
  },
  {
   "cell_type": "code",
   "execution_count": 15,
   "metadata": {
    "ExecuteTime": {
     "end_time": "2018-05-22T10:03:12.170553Z",
     "start_time": "2018-05-22T10:03:12.155343Z"
    },
    "collapsed": true
   },
   "outputs": [],
   "source": [
    "class PositionwiseFeedForward(nn.Module):\n",
    "    \"Implements FFN equation.\"\n",
    "    def __init__(self, d_model, d_ff, dropout=0.1):\n",
    "        super(PositionwiseFeedForward, self).__init__()\n",
    "        self.w_1 = nn.Linear(d_model, d_ff)\n",
    "        self.w_2 = nn.Linear(d_ff, d_model)\n",
    "        self.dropout = nn.Dropout(dropout)\n",
    "\n",
    "    def forward(self, x):\n",
    "        return self.w_2(self.dropout(F.relu(self.w_1(x))))"
   ]
  },
  {
   "cell_type": "code",
   "execution_count": 16,
   "metadata": {
    "ExecuteTime": {
     "end_time": "2018-05-22T10:03:12.261977Z",
     "start_time": "2018-05-22T10:03:12.249491Z"
    },
    "collapsed": true
   },
   "outputs": [],
   "source": [
    "class Embeddings(nn.Module):\n",
    "    def __init__(self, d_model, vocab):\n",
    "        super(Embeddings, self).__init__()\n",
    "        self.lut = nn.Embedding(vocab, d_model)\n",
    "        self.d_model = d_model\n",
    "\n",
    "    def forward(self, x):\n",
    "        return self.lut(x) * math.sqrt(self.d_model)"
   ]
  },
  {
   "cell_type": "code",
   "execution_count": 17,
   "metadata": {
    "ExecuteTime": {
     "end_time": "2018-05-22T10:03:12.749003Z",
     "start_time": "2018-05-22T10:03:12.727452Z"
    },
    "collapsed": true
   },
   "outputs": [],
   "source": [
    "class PositionalEncoding(nn.Module):\n",
    "    \"Implement the PE function.\"\n",
    "    def __init__(self, d_model, dropout, max_len=5000):\n",
    "        super(PositionalEncoding, self).__init__()\n",
    "        self.dropout = nn.Dropout(p=dropout)\n",
    "        \n",
    "        # Compute the positional encodings once in log space.\n",
    "        pe = torch.zeros(max_len, d_model)\n",
    "        position = torch.arange(0, max_len).unsqueeze(1)\n",
    "        div_term = torch.exp(torch.arange(0, d_model, 2) *\n",
    "                             -(math.log(10000.0) / d_model))\n",
    "        pe[:, 0::2] = torch.sin(position * div_term)\n",
    "        pe[:, 1::2] = torch.cos(position * div_term)\n",
    "        pe = pe.unsqueeze(0)\n",
    "        self.register_buffer('pe', pe)\n",
    "        \n",
    "    def forward(self, x):\n",
    "        x = x + Variable(self.pe[:, :x.size(1)], \n",
    "                         requires_grad=False)\n",
    "        return self.dropout(x)"
   ]
  },
  {
   "cell_type": "markdown",
   "metadata": {},
   "source": [
    "### Define Model"
   ]
  },
  {
   "cell_type": "code",
   "execution_count": 18,
   "metadata": {
    "ExecuteTime": {
     "end_time": "2018-05-22T10:03:13.336601Z",
     "start_time": "2018-05-22T10:03:13.327621Z"
    },
    "collapsed": true
   },
   "outputs": [],
   "source": [
    "def make_model(src_vocab, tgt_vocab, N=6, \n",
    "               d_model=512, d_ff=2048, h=8, dropout=0.1):\n",
    "    c = copy.deepcopy\n",
    "    attn = MultiHeadedAttention(h, d_model)\n",
    "    ff = PositionwiseFeedForward(d_model, d_ff, dropout)\n",
    "    position = PositionalEncoding(d_model, dropout)\n",
    "    model = EncoderDecoder(\n",
    "        Encoder(EncoderLayer(d_model, c(attn), c(ff), dropout), N),\n",
    "        Decoder(DecoderLayer(d_model, c(attn), c(attn), \n",
    "                             c(ff), dropout), N),\n",
    "        nn.Sequential(Embeddings(d_model, src_vocab), c(position)),\n",
    "        nn.Sequential(Embeddings(d_model, tgt_vocab), c(position)),\n",
    "        Generator(d_model, tgt_vocab))\n",
    "    \n",
    "    for p in model.parameters():\n",
    "        if p.dim() > 1:\n",
    "            nn.init.xavier_uniform_(p)\n",
    "    return model"
   ]
  },
  {
   "cell_type": "markdown",
   "metadata": {},
   "source": [
    "## Training"
   ]
  },
  {
   "cell_type": "markdown",
   "metadata": {},
   "source": [
    "### Batches and Masking"
   ]
  },
  {
   "cell_type": "code",
   "execution_count": 19,
   "metadata": {
    "ExecuteTime": {
     "end_time": "2018-05-22T10:03:13.487403Z",
     "start_time": "2018-05-22T10:03:13.478079Z"
    },
    "collapsed": true
   },
   "outputs": [],
   "source": [
    "class Batch:\n",
    "    def __init__(self, src, trg=None, pad=0):\n",
    "        self.src = src\n",
    "        self.src_mask = torch.tensor((src != pad).unsqueeze(-2)).to(device)\n",
    "        if trg is not None:\n",
    "            self.trg = trg[:, :-1]\n",
    "            self.trg_y = trg[:, 1:]\n",
    "            self.trg_mask = torch.tensor(self.make_std_mask(self.trg, pad)).to(device)\n",
    "            self.ntokens = (self.trg_y != pad).data.sum()\n",
    "    \n",
    "    @staticmethod\n",
    "    def make_std_mask(tgt, pad):\n",
    "        tgt_mask = (tgt != pad).unsqueeze(-2)\n",
    "        tgt_mask = tgt_mask & Variable(\n",
    "            subsequent_mask(tgt.size(-1)).type_as(tgt_mask.data))\n",
    "        return tgt_mask"
   ]
  },
  {
   "cell_type": "markdown",
   "metadata": {},
   "source": [
    "### Training Loop"
   ]
  },
  {
   "cell_type": "code",
   "execution_count": 20,
   "metadata": {
    "ExecuteTime": {
     "end_time": "2018-05-22T10:03:14.030145Z",
     "start_time": "2018-05-22T10:03:13.991647Z"
    },
    "collapsed": true
   },
   "outputs": [],
   "source": [
    "def run_epoch(data_iter, model, loss_compute, epoch):\n",
    "    start = time.time()\n",
    "    total_tokens = 0\n",
    "    total_loss = 0\n",
    "    tokens = 0\n",
    "    for i, batch in enumerate(data_iter):\n",
    "        out = model.forward(batch.src, batch.trg, \n",
    "                            batch.src_mask, batch.trg_mask)\n",
    "        #if (epoch) > 0:\n",
    "        #    pdb.set_trace()\n",
    "        loss = loss_compute(out, batch.trg_y, batch.ntokens, epoch)\n",
    "        total_loss += loss\n",
    "        total_tokens += batch.ntokens.item()\n",
    "        tokens += batch.ntokens.item()\n",
    "        if i % 50 == 1:\n",
    "            elapsed = time.time() - start\n",
    "            print(\"Epoch Step: %d Loss: %f Tokens per Sec: %f\" %\n",
    "                    (epoch, loss / batch.ntokens.float(), tokens / elapsed))\n",
    "            start = time.time()\n",
    "            tokens = 0\n",
    "    return total_loss / total_tokens"
   ]
  },
  {
   "cell_type": "markdown",
   "metadata": {},
   "source": [
    "### Optimizer"
   ]
  },
  {
   "cell_type": "code",
   "execution_count": 21,
   "metadata": {
    "ExecuteTime": {
     "end_time": "2018-05-22T10:03:14.555800Z",
     "start_time": "2018-05-22T10:03:14.539588Z"
    },
    "collapsed": true
   },
   "outputs": [],
   "source": [
    "\n",
    "class NoamOpt:\n",
    "    \"Optim wrapper that implements rate.\"\n",
    "    def __init__(self, model_size, factor, warmup, optimizer):\n",
    "        self.optimizer = optimizer\n",
    "        self._step = 0\n",
    "        self.warmup = warmup\n",
    "        self.factor = factor\n",
    "        self.model_size = model_size\n",
    "        self._rate = 0\n",
    "        \n",
    "    def step(self):\n",
    "        \"Update parameters and rate\"\n",
    "        self._step += 1\n",
    "        rate = self.rate()\n",
    "        for p in self.optimizer.param_groups:\n",
    "            p['lr'] = rate\n",
    "        self._rate = rate\n",
    "        self.optimizer.step()\n",
    "        \n",
    "    def rate(self, step = None):\n",
    "        \"Implement `lrate` above\"\n",
    "        if step is None:\n",
    "            step = self._step\n",
    "        return self.factor * \\\n",
    "            (self.model_size ** (-0.5) *\n",
    "            min(step ** (-0.5), step * self.warmup ** (-1.5)))\n",
    "        \n",
    "def get_std_opt(model):\n",
    "    return NoamOpt(model.src_embed[0].d_model, 2, 4000,\n",
    "            torch.optim.Adam(model.parameters(), lr=0, betas=(0.9, 0.98), eps=1e-9))"
   ]
  },
  {
   "cell_type": "markdown",
   "metadata": {},
   "source": [
    "### Label Smoothing"
   ]
  },
  {
   "cell_type": "code",
   "execution_count": 22,
   "metadata": {
    "ExecuteTime": {
     "end_time": "2018-05-22T10:03:17.617513Z",
     "start_time": "2018-05-22T10:03:17.602659Z"
    },
    "collapsed": true
   },
   "outputs": [],
   "source": [
    "class LabelSmoothing(nn.Module):\n",
    "    \"Implement label smoothing.\"\n",
    "    def __init__(self, size, padding_idx, smoothing=0.0):\n",
    "        super(LabelSmoothing, self).__init__()\n",
    "        self.criterion = nn.KLDivLoss(size_average=False)\n",
    "        self.padding_idx = padding_idx\n",
    "        self.confidence = 1.0 - smoothing\n",
    "        self.smoothing = smoothing\n",
    "        self.size = size\n",
    "        self.true_dist = None\n",
    "        \n",
    "    def forward(self, x, target, epoch):\n",
    "        #if epoch > 0:\n",
    "         #   pdb.set_trace()\n",
    "        assert x.size(1) == self.size\n",
    "        true_dist = x.detach().clone()\n",
    "        true_dist.fill_(self.smoothing / (self.size - 2))\n",
    "        true_dist.scatter_(1, target.detach().unsqueeze(1), self.confidence)\n",
    "        #true_dist[:, self.padding_idx] = 0\n",
    "        #mask = torch.nonzero(target.detach() == self.padding_idx)\n",
    "        #if mask.dim() > 1:\n",
    "        #    true_dist.index_fill_(0, mask.squeeze(), 0.0)\n",
    "        self.true_dist = true_dist\n",
    "        return self.criterion(x, torch.tensor(true_dist, requires_grad=False))"
   ]
  },
  {
   "cell_type": "markdown",
   "metadata": {},
   "source": [
    "### Loss"
   ]
  },
  {
   "cell_type": "code",
   "execution_count": 23,
   "metadata": {
    "ExecuteTime": {
     "end_time": "2018-05-22T10:03:18.237357Z",
     "start_time": "2018-05-22T10:03:18.208809Z"
    },
    "collapsed": true
   },
   "outputs": [],
   "source": [
    "class SimpleLossCompute:\n",
    "    \"A simple loss compute and train function.\"\n",
    "    def __init__(self, generator, criterion, opt=None):\n",
    "        self.generator = generator\n",
    "        self.criterion = criterion\n",
    "        self.opt = opt\n",
    "        \n",
    "    def __call__(self, x, y, norm, epoch):\n",
    "        x = self.generator(x)\n",
    "        loss = self.criterion(x.contiguous().view(-1, x.size(-1)), \n",
    "                              y.contiguous().view(-1), epoch) / norm.item()\n",
    "        loss.backward()\n",
    "        if self.opt is not None:\n",
    "            self.opt.step()\n",
    "            self.opt.optimizer.zero_grad()\n",
    "        return loss.item() * norm.item()"
   ]
  },
  {
   "cell_type": "markdown",
   "metadata": {},
   "source": [
    "## Loading Dataset "
   ]
  },
  {
   "cell_type": "code",
   "execution_count": 24,
   "metadata": {
    "ExecuteTime": {
     "end_time": "2018-05-22T10:03:18.698505Z",
     "start_time": "2018-05-22T10:03:18.648997Z"
    },
    "collapsed": true
   },
   "outputs": [],
   "source": [
    "import re\n",
    "from sklearn.model_selection import train_test_split\n"
   ]
  },
  {
   "cell_type": "code",
   "execution_count": 25,
   "metadata": {
    "ExecuteTime": {
     "end_time": "2018-05-22T10:03:21.318606Z",
     "start_time": "2018-05-22T10:03:21.311918Z"
    },
    "collapsed": true
   },
   "outputs": [],
   "source": [
    "Path = 'data/'"
   ]
  },
  {
   "cell_type": "code",
   "execution_count": 26,
   "metadata": {
    "ExecuteTime": {
     "end_time": "2018-05-22T10:03:22.019465Z",
     "start_time": "2018-05-22T10:03:21.658466Z"
    }
   },
   "outputs": [
    {
     "data": {
      "text/plain": [
       "('A', ['AH0'])"
      ]
     },
     "execution_count": 26,
     "metadata": {},
     "output_type": "execute_result"
    }
   ],
   "source": [
    "#Get each word that begins with A-Z from each line into a list \n",
    "lines = [l.strip().split(\"  \") for l in open(Path+'cmudict-0.7b', encoding='latin1') \n",
    "         if re.match('^[A-Z]', l)]\n",
    "#Split words and phonemes\n",
    "lines = [(w, ps.split()) for w, ps in lines]\n",
    "lines[0]"
   ]
  },
  {
   "cell_type": "code",
   "execution_count": 27,
   "metadata": {
    "ExecuteTime": {
     "end_time": "2018-05-22T10:03:22.075295Z",
     "start_time": "2018-05-22T10:03:22.020605Z"
    }
   },
   "outputs": [
    {
     "data": {
      "text/plain": [
       "70"
      ]
     },
     "execution_count": 27,
     "metadata": {},
     "output_type": "execute_result"
    }
   ],
   "source": [
    "#Get a list of all the unique phonemes from lines and adding _ to position 0 because it corresponds to padding\n",
    "#when tokenised\n",
    "phonemes = [\"_\"]+sorted(set(p for w, ps in lines for p in ps))\n",
    "len(phonemes)"
   ]
  },
  {
   "cell_type": "code",
   "execution_count": 28,
   "metadata": {
    "ExecuteTime": {
     "end_time": "2018-05-22T10:03:22.465287Z",
     "start_time": "2018-05-22T10:03:22.459137Z"
    },
    "collapsed": true
   },
   "outputs": [],
   "source": [
    "#Map phonemes to indices and letters to indices.\n",
    "p2i = dict((v, k) for k, v in enumerate(phonemes))\n",
    "letters = \"_*!abcdefghijklmnopqrstuvwxyz\"\n",
    "l2i = dict((v, k) for k, v in enumerate(letters))"
   ]
  },
  {
   "cell_type": "code",
   "execution_count": 29,
   "metadata": {
    "ExecuteTime": {
     "end_time": "2018-05-22T10:03:23.082314Z",
     "start_time": "2018-05-22T10:03:22.865807Z"
    }
   },
   "outputs": [
    {
     "data": {
      "text/plain": [
       "108006"
      ]
     },
     "execution_count": 29,
     "metadata": {},
     "output_type": "execute_result"
    }
   ],
   "source": [
    "maxlen = 15\n",
    "#Map words to corresponding list of phoneme indices with constraints. \n",
    "pronounce_dict = {w.lower(): [p2i[p] for p in ps] for w, ps in lines\n",
    "                    if (5<=len(w)<=maxlen) and re.match(\"^[A-Z]+$\", w)}\n",
    "len(pronounce_dict)"
   ]
  },
  {
   "cell_type": "code",
   "execution_count": 30,
   "metadata": {
    "ExecuteTime": {
     "end_time": "2018-05-22T10:03:23.455102Z",
     "start_time": "2018-05-22T10:03:23.433183Z"
    }
   },
   "outputs": [
    {
     "data": {
      "text/plain": [
       "16"
      ]
     },
     "execution_count": 30,
     "metadata": {},
     "output_type": "execute_result"
    }
   ],
   "source": [
    "maxlen_p = max([len(v) for k,v in pronounce_dict.items()]); maxlen_p"
   ]
  },
  {
   "cell_type": "code",
   "execution_count": 31,
   "metadata": {
    "ExecuteTime": {
     "end_time": "2018-05-22T10:03:23.831922Z",
     "start_time": "2018-05-22T10:03:23.805838Z"
    },
    "collapsed": true
   },
   "outputs": [],
   "source": [
    "#words contain the number of words in the filtered dictionary\n",
    "words = np.random.permutation(list(pronounce_dict.keys()))\n",
    "n = len(words)"
   ]
  },
  {
   "cell_type": "code",
   "execution_count": 32,
   "metadata": {
    "ExecuteTime": {
     "end_time": "2018-05-22T10:03:24.806054Z",
     "start_time": "2018-05-22T10:03:24.244421Z"
    },
    "collapsed": true
   },
   "outputs": [],
   "source": [
    "#Initialise the input and labels array with zeros so that everywhere except \n",
    "#the position of values is padded\n",
    "input_ = np.zeros((n, maxlen_p), np.int32)\n",
    "labels_ = np.zeros((n, maxlen+2), np.int32)\n",
    "\n",
    "#Fill in the non zero indices\n",
    "for i, k in enumerate(words):\n",
    "    for j, p in enumerate(pronounce_dict[k]): \n",
    "        input_[i][j]=p\n",
    "    labels_[i][0] = 1\n",
    "    for j, p in enumerate(k): \n",
    "        labels_[i][j+1] = l2i[p]\n",
    "    labels_[i][j+2]=2"
   ]
  },
  {
   "cell_type": "code",
   "execution_count": 33,
   "metadata": {
    "ExecuteTime": {
     "end_time": "2018-05-22T10:03:24.818345Z",
     "start_time": "2018-05-22T10:03:24.806828Z"
    },
    "collapsed": true
   },
   "outputs": [],
   "source": [
    "#Create train, validation sets\n",
    "(input_train, input_test, labels_train, labels_test, \n",
    "    ) = train_test_split(input_, labels_, test_size=0.1)"
   ]
  },
  {
   "cell_type": "code",
   "execution_count": 34,
   "metadata": {
    "ExecuteTime": {
     "end_time": "2018-05-22T10:03:25.414167Z",
     "start_time": "2018-05-22T10:03:25.403824Z"
    }
   },
   "outputs": [
    {
     "data": {
      "text/plain": [
       "(70, 29)"
      ]
     },
     "execution_count": 34,
     "metadata": {},
     "output_type": "execute_result"
    }
   ],
   "source": [
    "input_vocab_size, output_vocab_size = len(phonemes), len(letters);input_vocab_size, output_vocab_size"
   ]
  },
  {
   "cell_type": "code",
   "execution_count": 35,
   "metadata": {
    "ExecuteTime": {
     "end_time": "2018-05-22T10:03:25.831087Z",
     "start_time": "2018-05-22T10:03:25.816696Z"
    },
    "collapsed": true
   },
   "outputs": [],
   "source": [
    "def get_batch(x, y, nbatches, batch_size=64):\n",
    "    for i in range(nbatches):\n",
    "        #pdb.set_trace()\n",
    "        idxs = np.random.permutation(len(x))[:batch_size]\n",
    "        src = torch.tensor(x[idxs].astype('int64'), requires_grad=False).to(device)\n",
    "        tgt = torch.tensor(y[idxs].astype('int64'), requires_grad=False).to(device)\n",
    "        yield Batch(src, tgt, 0)"
   ]
  },
  {
   "cell_type": "code",
   "execution_count": 36,
   "metadata": {
    "ExecuteTime": {
     "end_time": "2018-05-22T10:03:29.577568Z",
     "start_time": "2018-05-22T10:03:26.284359Z"
    },
    "collapsed": true,
    "scrolled": false
   },
   "outputs": [],
   "source": [
    "# Train the simple copy task.\n",
    "criterion = LabelSmoothing(size=len(letters), padding_idx=0, smoothing=0.1).to(device)\n",
    "model = make_model(len(phonemes), len(letters), N=6).to(device)\n",
    "len(phonemes)\n",
    "model_opt = NoamOpt(model.src_embed[0].d_model, 1, 10000,\n",
    "        torch.optim.Adam(model.parameters(), lr=0, betas=(0.9, 0.98), eps=1e-9))"
   ]
  },
  {
   "cell_type": "code",
   "execution_count": 98,
   "metadata": {
    "ExecuteTime": {
     "end_time": "2018-05-22T14:23:56.000271Z",
     "start_time": "2018-05-22T13:36:26.615293Z"
    },
    "scrolled": false
   },
   "outputs": [
    {
     "name": "stdout",
     "output_type": "stream",
     "text": [
      "Epoch Step: 0 Loss: 0.178106 Tokens per Sec: 5361.126843\n",
      "Epoch Step: 0 Loss: 0.185459 Tokens per Sec: 6183.029656\n",
      "Epoch Step: 0 Loss: 0.136132 Tokens per Sec: 6503.330557\n",
      "Epoch Step: 0 Loss: 0.166231 Tokens per Sec: 6218.888548\n",
      "Epoch Step: 0 Loss: 0.131396 Tokens per Sec: 6282.768536\n",
      "Epoch Step: 0 Loss: 0.174808 Tokens per Sec: 6619.670707\n",
      "Epoch Step: 0 Loss: 0.135695 Tokens per Sec: 6604.032474\n",
      "Epoch Step: 0 Loss: 0.139221 Tokens per Sec: 6609.371566\n",
      "Epoch Step: 0 Loss: 0.199629 Tokens per Sec: 6607.065747\n",
      "Epoch Step: 0 Loss: 0.137356 Tokens per Sec: 6643.326426\n",
      "Epoch Step: 0 Loss: 0.124332 Tokens per Sec: 6626.789705\n",
      "Epoch Step: 0 Loss: 0.128992 Tokens per Sec: 6573.235966\n",
      "Epoch Step: 0 Loss: 0.157706 Tokens per Sec: 6609.278005\n",
      "Epoch Step: 0 Loss: 0.124835 Tokens per Sec: 6519.849467\n",
      "Epoch Step: 0 Loss: 0.168470 Tokens per Sec: 6501.854276\n",
      "Epoch Step: 0 Loss: 0.089740 Tokens per Sec: 6528.793412\n",
      "Epoch Step: 0 Loss: 0.134573 Tokens per Sec: 6471.821086\n",
      "Epoch Step: 0 Loss: 0.125553 Tokens per Sec: 6513.156620\n",
      "Epoch Step: 0 Loss: 0.166697 Tokens per Sec: 6487.670980\n",
      "Epoch Step: 0 Loss: 0.161321 Tokens per Sec: 6510.450191\n",
      "Epoch Step: 0 Loss: 0.135930 Tokens per Sec: 6534.333373\n",
      "Epoch Step: 0 Loss: 0.101877 Tokens per Sec: 6540.234102\n",
      "Epoch Step: 0 Loss: 0.139308 Tokens per Sec: 6577.559176\n",
      "Epoch Step: 0 Loss: 0.155952 Tokens per Sec: 6570.038010\n",
      "Epoch Step: 0 Loss: 0.154049 Tokens per Sec: 6521.258397\n",
      "Epoch Step: 0 Loss: 0.141847 Tokens per Sec: 6606.922012\n",
      "Epoch Step: 0 Loss: 0.151842 Tokens per Sec: 6543.523324\n",
      "Epoch Step: 0 Loss: 0.115897 Tokens per Sec: 6608.123201\n",
      "Epoch Step: 0 Loss: 0.134207 Tokens per Sec: 6524.642600\n",
      "Epoch Step: 0 Loss: 0.142073 Tokens per Sec: 6530.282043\n",
      "Epoch Step: 0 Loss: 0.171421 Tokens per Sec: 6520.677663\n",
      "Epoch Step: 0 Loss: 0.116224 Tokens per Sec: 6525.583620\n",
      "Epoch Step: 0 Loss: 0.149380 Tokens per Sec: 6535.830291\n",
      "Epoch Step: 0 Loss: 0.123071 Tokens per Sec: 6501.595236\n",
      "Epoch Step: 0 Loss: 0.167768 Tokens per Sec: 6534.950410\n",
      "Epoch Step: 0 Loss: 0.174677 Tokens per Sec: 6522.096211\n",
      "Epoch Step: 0 Loss: 0.152149 Tokens per Sec: 6566.853785\n",
      "Epoch Step: 0 Loss: 0.151294 Tokens per Sec: 6532.172945\n",
      "Epoch Step: 0 Loss: 0.159461 Tokens per Sec: 6533.305410\n",
      "Epoch Step: 0 Loss: 0.128245 Tokens per Sec: 6589.723941\n",
      "Epoch Step: 0 Loss: 0.155330 Tokens per Sec: 6533.697784\n",
      "Epoch Step: 0 Loss: 0.112471 Tokens per Sec: 6569.263760\n",
      "Epoch Step: 0 Loss: 0.098802 Tokens per Sec: 6544.373856\n",
      "Epoch Step: 0 Loss: 0.131359 Tokens per Sec: 6597.200441\n",
      "Epoch Step: 0 Loss: 0.133028 Tokens per Sec: 6554.966430\n",
      "Epoch Step: 0 Loss: 0.135147 Tokens per Sec: 6552.981208\n",
      "Epoch Step: 0 Loss: 0.145484 Tokens per Sec: 6507.388648\n",
      "Epoch Step: 0 Loss: 0.158352 Tokens per Sec: 6552.681093\n",
      "Epoch Step: 0 Loss: 0.121834 Tokens per Sec: 6534.766291\n",
      "Epoch Step: 0 Loss: 0.118425 Tokens per Sec: 6557.109815\n",
      "Epoch Step: 0 Loss: 0.112989 Tokens per Sec: 6579.021472\n",
      "Epoch Step: 0 Loss: 0.120331 Tokens per Sec: 6534.710326\n",
      "Epoch Step: 0 Loss: 0.201834 Tokens per Sec: 6495.268714\n",
      "Epoch Step: 0 Loss: 0.154041 Tokens per Sec: 6554.679394\n",
      "Epoch Step: 0 Loss: 0.153968 Tokens per Sec: 6542.832782\n",
      "Epoch Step: 0 Loss: 0.120547 Tokens per Sec: 6571.830871\n",
      "Epoch Step: 0 Loss: 0.155807 Tokens per Sec: 6552.583791\n",
      "Epoch Step: 0 Loss: 0.150997 Tokens per Sec: 6592.160821\n",
      "Epoch Step: 0 Loss: 0.162985 Tokens per Sec: 6547.303522\n",
      "Epoch Step: 0 Loss: 0.121963 Tokens per Sec: 6568.194601\n",
      "Epoch Step: 0 Loss: 0.152517 Tokens per Sec: 6600.310297\n",
      "Epoch Step: 0 Loss: 0.140626 Tokens per Sec: 6592.734281\n",
      "Epoch Step: 0 Loss: 0.105980 Tokens per Sec: 6568.779647\n",
      "Epoch Step: 0 Loss: 0.131015 Tokens per Sec: 6590.314299\n",
      "Epoch Step: 0 Loss: 0.132728 Tokens per Sec: 6545.350720\n",
      "Epoch Step: 0 Loss: 0.175992 Tokens per Sec: 6532.437703\n",
      "Epoch Step: 0 Loss: 0.135696 Tokens per Sec: 6556.779116\n",
      "Epoch Step: 0 Loss: 0.085749 Tokens per Sec: 6558.729365\n",
      "Epoch Step: 1 Loss: 0.169809 Tokens per Sec: 6650.012305\n",
      "Epoch Step: 1 Loss: 0.084704 Tokens per Sec: 6543.840062\n",
      "Epoch Step: 1 Loss: 0.114537 Tokens per Sec: 6549.805557\n",
      "Epoch Step: 1 Loss: 0.105609 Tokens per Sec: 6587.818391\n",
      "Epoch Step: 1 Loss: 0.141200 Tokens per Sec: 6531.801708\n",
      "Epoch Step: 1 Loss: 0.123131 Tokens per Sec: 6549.029257\n",
      "Epoch Step: 1 Loss: 0.105268 Tokens per Sec: 6505.631482\n",
      "Epoch Step: 1 Loss: 0.138255 Tokens per Sec: 6594.554811\n",
      "Epoch Step: 1 Loss: 0.128825 Tokens per Sec: 6585.530384\n",
      "Epoch Step: 1 Loss: 0.133955 Tokens per Sec: 6606.064596\n",
      "Epoch Step: 1 Loss: 0.125676 Tokens per Sec: 6522.172166\n",
      "Epoch Step: 1 Loss: 0.172220 Tokens per Sec: 6584.887581\n",
      "Epoch Step: 1 Loss: 0.137618 Tokens per Sec: 6582.246090\n",
      "Epoch Step: 1 Loss: 0.144854 Tokens per Sec: 6628.349499\n",
      "Epoch Step: 1 Loss: 0.132765 Tokens per Sec: 6549.182171\n",
      "Epoch Step: 1 Loss: 0.155127 Tokens per Sec: 6556.451356\n",
      "Epoch Step: 1 Loss: 0.115756 Tokens per Sec: 6560.569230\n",
      "Epoch Step: 1 Loss: 0.117519 Tokens per Sec: 6536.257677\n",
      "Epoch Step: 1 Loss: 0.145257 Tokens per Sec: 6523.752463\n",
      "Epoch Step: 1 Loss: 0.128774 Tokens per Sec: 6563.929782\n",
      "Epoch Step: 1 Loss: 0.132222 Tokens per Sec: 6564.987237\n",
      "Epoch Step: 1 Loss: 0.086147 Tokens per Sec: 6553.020938\n",
      "Epoch Step: 1 Loss: 0.119527 Tokens per Sec: 6575.686756\n",
      "Epoch Step: 1 Loss: 0.147314 Tokens per Sec: 6532.295550\n",
      "Epoch Step: 1 Loss: 0.183670 Tokens per Sec: 6566.633818\n",
      "Epoch Step: 1 Loss: 0.125132 Tokens per Sec: 6545.275909\n",
      "Epoch Step: 1 Loss: 0.099843 Tokens per Sec: 6650.561385\n",
      "Epoch Step: 1 Loss: 0.135370 Tokens per Sec: 6565.714259\n",
      "Epoch Step: 1 Loss: 0.125847 Tokens per Sec: 6609.512438\n",
      "Epoch Step: 1 Loss: 0.141064 Tokens per Sec: 6613.387104\n",
      "Epoch Step: 1 Loss: 0.123870 Tokens per Sec: 6600.141522\n",
      "Epoch Step: 1 Loss: 0.093783 Tokens per Sec: 6594.481385\n",
      "Epoch Step: 1 Loss: 0.165136 Tokens per Sec: 6561.908444\n",
      "Epoch Step: 1 Loss: 0.121338 Tokens per Sec: 6591.751548\n",
      "Epoch Step: 1 Loss: 0.151666 Tokens per Sec: 6592.848730\n",
      "Epoch Step: 1 Loss: 0.111405 Tokens per Sec: 6614.768534\n",
      "Epoch Step: 1 Loss: 0.123914 Tokens per Sec: 6579.012761\n",
      "Epoch Step: 1 Loss: 0.116061 Tokens per Sec: 6590.081881\n",
      "Epoch Step: 1 Loss: 0.192290 Tokens per Sec: 6552.648619\n",
      "Epoch Step: 1 Loss: 0.123340 Tokens per Sec: 6561.725335\n",
      "Epoch Step: 1 Loss: 0.126997 Tokens per Sec: 6608.050192\n",
      "Epoch Step: 1 Loss: 0.126112 Tokens per Sec: 6619.732190\n",
      "Epoch Step: 1 Loss: 0.116330 Tokens per Sec: 6597.616257\n",
      "Epoch Step: 1 Loss: 0.169097 Tokens per Sec: 6546.785228\n",
      "Epoch Step: 1 Loss: 0.153761 Tokens per Sec: 6496.243038\n",
      "Epoch Step: 1 Loss: 0.133526 Tokens per Sec: 6578.797241\n",
      "Epoch Step: 1 Loss: 0.137868 Tokens per Sec: 6537.509498\n",
      "Epoch Step: 1 Loss: 0.140177 Tokens per Sec: 6576.016082\n",
      "Epoch Step: 1 Loss: 0.115171 Tokens per Sec: 6568.754889\n",
      "Epoch Step: 1 Loss: 0.094841 Tokens per Sec: 6533.751413\n",
      "Epoch Step: 1 Loss: 0.111862 Tokens per Sec: 6573.522419\n",
      "Epoch Step: 1 Loss: 0.127297 Tokens per Sec: 6560.966877\n",
      "Epoch Step: 1 Loss: 0.171500 Tokens per Sec: 6565.169376\n",
      "Epoch Step: 1 Loss: 0.141642 Tokens per Sec: 6570.425587\n",
      "Epoch Step: 1 Loss: 0.122536 Tokens per Sec: 6566.125271\n",
      "Epoch Step: 1 Loss: 0.132928 Tokens per Sec: 6538.189162\n",
      "Epoch Step: 1 Loss: 0.107262 Tokens per Sec: 6614.267354\n",
      "Epoch Step: 1 Loss: 0.110270 Tokens per Sec: 6484.793141\n",
      "Epoch Step: 1 Loss: 0.156098 Tokens per Sec: 6567.380907\n",
      "Epoch Step: 1 Loss: 0.138535 Tokens per Sec: 6590.597847\n",
      "Epoch Step: 1 Loss: 0.105908 Tokens per Sec: 6650.921832\n",
      "Epoch Step: 1 Loss: 0.105715 Tokens per Sec: 6529.350985\n",
      "Epoch Step: 1 Loss: 0.103089 Tokens per Sec: 6613.983687\n",
      "Epoch Step: 1 Loss: 0.136677 Tokens per Sec: 6578.999593\n",
      "Epoch Step: 1 Loss: 0.104599 Tokens per Sec: 6562.789494\n",
      "Epoch Step: 1 Loss: 0.118444 Tokens per Sec: 6544.491407\n",
      "Epoch Step: 1 Loss: 0.139568 Tokens per Sec: 6501.726039\n",
      "Epoch Step: 1 Loss: 0.118289 Tokens per Sec: 6557.463611\n",
      "Epoch Step: 2 Loss: 0.126345 Tokens per Sec: 6461.765428\n",
      "Epoch Step: 2 Loss: 0.083710 Tokens per Sec: 6549.982636\n",
      "Epoch Step: 2 Loss: 0.142622 Tokens per Sec: 6512.655886\n",
      "Epoch Step: 2 Loss: 0.120140 Tokens per Sec: 6535.936726\n",
      "Epoch Step: 2 Loss: 0.127369 Tokens per Sec: 6577.498852\n",
      "Epoch Step: 2 Loss: 0.098952 Tokens per Sec: 6505.905932\n",
      "Epoch Step: 2 Loss: 0.135766 Tokens per Sec: 6556.983310\n",
      "Epoch Step: 2 Loss: 0.116541 Tokens per Sec: 6574.881604\n"
     ]
    },
    {
     "name": "stdout",
     "output_type": "stream",
     "text": [
      "Epoch Step: 2 Loss: 0.142724 Tokens per Sec: 6578.832536\n",
      "Epoch Step: 2 Loss: 0.149819 Tokens per Sec: 6596.728045\n",
      "Epoch Step: 2 Loss: 0.115471 Tokens per Sec: 6614.453962\n",
      "Epoch Step: 2 Loss: 0.136102 Tokens per Sec: 6650.943257\n",
      "Epoch Step: 2 Loss: 0.115964 Tokens per Sec: 6552.182006\n",
      "Epoch Step: 2 Loss: 0.134324 Tokens per Sec: 6572.520112\n",
      "Epoch Step: 2 Loss: 0.121140 Tokens per Sec: 6527.482087\n",
      "Epoch Step: 2 Loss: 0.131238 Tokens per Sec: 6550.359719\n",
      "Epoch Step: 2 Loss: 0.133756 Tokens per Sec: 6526.637093\n",
      "Epoch Step: 2 Loss: 0.100677 Tokens per Sec: 6571.800937\n",
      "Epoch Step: 2 Loss: 0.137473 Tokens per Sec: 6557.214872\n",
      "Epoch Step: 2 Loss: 0.112952 Tokens per Sec: 6619.415460\n",
      "Epoch Step: 2 Loss: 0.106698 Tokens per Sec: 6521.544209\n",
      "Epoch Step: 2 Loss: 0.110055 Tokens per Sec: 6544.208444\n",
      "Epoch Step: 2 Loss: 0.143878 Tokens per Sec: 6563.369596\n",
      "Epoch Step: 2 Loss: 0.131977 Tokens per Sec: 6558.316720\n",
      "Epoch Step: 2 Loss: 0.133492 Tokens per Sec: 6623.335548\n",
      "Epoch Step: 2 Loss: 0.127011 Tokens per Sec: 6559.381440\n",
      "Epoch Step: 2 Loss: 0.141884 Tokens per Sec: 6608.269537\n",
      "Epoch Step: 2 Loss: 0.127646 Tokens per Sec: 6546.881537\n",
      "Epoch Step: 2 Loss: 0.125913 Tokens per Sec: 6567.426024\n",
      "Epoch Step: 2 Loss: 0.158534 Tokens per Sec: 6556.701562\n",
      "Epoch Step: 2 Loss: 0.131428 Tokens per Sec: 6500.516856\n",
      "Epoch Step: 2 Loss: 0.124720 Tokens per Sec: 6524.930489\n",
      "Epoch Step: 2 Loss: 0.190518 Tokens per Sec: 6527.523481\n",
      "Epoch Step: 2 Loss: 0.147305 Tokens per Sec: 6559.502556\n",
      "Epoch Step: 2 Loss: 0.116744 Tokens per Sec: 6548.851058\n",
      "Epoch Step: 2 Loss: 0.109738 Tokens per Sec: 6556.052040\n",
      "Epoch Step: 2 Loss: 0.133973 Tokens per Sec: 6618.185243\n",
      "Epoch Step: 2 Loss: 0.140256 Tokens per Sec: 6537.012402\n",
      "Epoch Step: 2 Loss: 0.157833 Tokens per Sec: 6595.983790\n",
      "Epoch Step: 2 Loss: 0.136861 Tokens per Sec: 6562.300131\n",
      "Epoch Step: 2 Loss: 0.145154 Tokens per Sec: 6538.618010\n",
      "Epoch Step: 2 Loss: 0.110991 Tokens per Sec: 6546.344669\n",
      "Epoch Step: 2 Loss: 0.107630 Tokens per Sec: 6564.834640\n",
      "Epoch Step: 2 Loss: 0.108723 Tokens per Sec: 6556.764688\n",
      "Epoch Step: 2 Loss: 0.138690 Tokens per Sec: 6594.294544\n",
      "Epoch Step: 2 Loss: 0.164142 Tokens per Sec: 6585.979643\n",
      "Epoch Step: 2 Loss: 0.122948 Tokens per Sec: 6618.374313\n",
      "Epoch Step: 2 Loss: 0.160110 Tokens per Sec: 6553.801089\n",
      "Epoch Step: 2 Loss: 0.167484 Tokens per Sec: 6627.709137\n",
      "Epoch Step: 2 Loss: 0.135968 Tokens per Sec: 6507.447399\n",
      "Epoch Step: 2 Loss: 0.120187 Tokens per Sec: 6551.779823\n",
      "Epoch Step: 2 Loss: 0.127916 Tokens per Sec: 6560.172712\n",
      "Epoch Step: 2 Loss: 0.092763 Tokens per Sec: 6580.651819\n",
      "Epoch Step: 2 Loss: 0.093547 Tokens per Sec: 6586.125605\n",
      "Epoch Step: 2 Loss: 0.116377 Tokens per Sec: 6587.735481\n",
      "Epoch Step: 2 Loss: 0.118671 Tokens per Sec: 6584.913952\n",
      "Epoch Step: 2 Loss: 0.123776 Tokens per Sec: 6541.540574\n",
      "Epoch Step: 2 Loss: 0.116339 Tokens per Sec: 6578.593228\n",
      "Epoch Step: 2 Loss: 0.159893 Tokens per Sec: 6589.999899\n",
      "Epoch Step: 2 Loss: 0.120252 Tokens per Sec: 6560.782260\n",
      "Epoch Step: 2 Loss: 0.110103 Tokens per Sec: 6577.211251\n",
      "Epoch Step: 2 Loss: 0.088561 Tokens per Sec: 6542.822791\n",
      "Epoch Step: 2 Loss: 0.106393 Tokens per Sec: 6538.688011\n",
      "Epoch Step: 2 Loss: 0.119765 Tokens per Sec: 6537.953971\n",
      "Epoch Step: 2 Loss: 0.141430 Tokens per Sec: 6552.939184\n",
      "Epoch Step: 2 Loss: 0.136231 Tokens per Sec: 6552.157928\n",
      "Epoch Step: 2 Loss: 0.125508 Tokens per Sec: 6618.557336\n",
      "Epoch Step: 2 Loss: 0.128107 Tokens per Sec: 6532.352248\n",
      "Epoch Step: 3 Loss: 0.128173 Tokens per Sec: 6723.601831\n",
      "Epoch Step: 3 Loss: 0.123086 Tokens per Sec: 6514.900664\n",
      "Epoch Step: 3 Loss: 0.165867 Tokens per Sec: 6519.148750\n",
      "Epoch Step: 3 Loss: 0.134429 Tokens per Sec: 6535.451783\n",
      "Epoch Step: 3 Loss: 0.151468 Tokens per Sec: 6619.069148\n",
      "Epoch Step: 3 Loss: 0.114743 Tokens per Sec: 6555.898033\n",
      "Epoch Step: 3 Loss: 0.099564 Tokens per Sec: 6579.457543\n",
      "Epoch Step: 3 Loss: 0.123761 Tokens per Sec: 6597.568008\n",
      "Epoch Step: 3 Loss: 0.131349 Tokens per Sec: 6533.847724\n",
      "Epoch Step: 3 Loss: 0.111557 Tokens per Sec: 6563.033341\n",
      "Epoch Step: 3 Loss: 0.097433 Tokens per Sec: 6497.515563\n",
      "Epoch Step: 3 Loss: 0.136160 Tokens per Sec: 6586.132738\n",
      "Epoch Step: 3 Loss: 0.127224 Tokens per Sec: 6515.818395\n",
      "Epoch Step: 3 Loss: 0.094280 Tokens per Sec: 6586.278077\n",
      "Epoch Step: 3 Loss: 0.114369 Tokens per Sec: 6558.513487\n",
      "Epoch Step: 3 Loss: 0.127167 Tokens per Sec: 6531.564035\n",
      "Epoch Step: 3 Loss: 0.146527 Tokens per Sec: 6558.516982\n",
      "Epoch Step: 3 Loss: 0.129741 Tokens per Sec: 6530.963374\n",
      "Epoch Step: 3 Loss: 0.123895 Tokens per Sec: 6557.566210\n",
      "Epoch Step: 3 Loss: 0.130116 Tokens per Sec: 6545.702772\n",
      "Epoch Step: 3 Loss: 0.085013 Tokens per Sec: 6549.054795\n",
      "Epoch Step: 3 Loss: 0.120613 Tokens per Sec: 6524.089047\n",
      "Epoch Step: 3 Loss: 0.115723 Tokens per Sec: 6517.621311\n",
      "Epoch Step: 3 Loss: 0.107828 Tokens per Sec: 6516.011151\n",
      "Epoch Step: 3 Loss: 0.118750 Tokens per Sec: 6582.610624\n",
      "Epoch Step: 3 Loss: 0.114928 Tokens per Sec: 6565.837751\n",
      "Epoch Step: 3 Loss: 0.105507 Tokens per Sec: 6540.905266\n",
      "Epoch Step: 3 Loss: 0.140857 Tokens per Sec: 6544.082955\n",
      "Epoch Step: 3 Loss: 0.114775 Tokens per Sec: 6541.386057\n",
      "Epoch Step: 3 Loss: 0.149028 Tokens per Sec: 6506.669533\n",
      "Epoch Step: 3 Loss: 0.111685 Tokens per Sec: 6532.952018\n",
      "Epoch Step: 3 Loss: 0.117212 Tokens per Sec: 6569.242375\n",
      "Epoch Step: 3 Loss: 0.125812 Tokens per Sec: 6534.224628\n",
      "Epoch Step: 3 Loss: 0.158391 Tokens per Sec: 6528.375397\n",
      "Epoch Step: 3 Loss: 0.082115 Tokens per Sec: 6552.938609\n",
      "Epoch Step: 3 Loss: 0.111524 Tokens per Sec: 6543.110289\n",
      "Epoch Step: 3 Loss: 0.095710 Tokens per Sec: 6618.563396\n",
      "Epoch Step: 3 Loss: 0.126830 Tokens per Sec: 6527.772747\n",
      "Epoch Step: 3 Loss: 0.142977 Tokens per Sec: 6495.647973\n",
      "Epoch Step: 3 Loss: 0.092997 Tokens per Sec: 6526.660116\n",
      "Epoch Step: 3 Loss: 0.116294 Tokens per Sec: 6529.353019\n",
      "Epoch Step: 3 Loss: 0.106303 Tokens per Sec: 6569.670439\n",
      "Epoch Step: 3 Loss: 0.130230 Tokens per Sec: 6531.652596\n",
      "Epoch Step: 3 Loss: 0.108810 Tokens per Sec: 6529.755872\n",
      "Epoch Step: 3 Loss: 0.122316 Tokens per Sec: 6538.861430\n",
      "Epoch Step: 3 Loss: 0.117578 Tokens per Sec: 6584.817621\n",
      "Epoch Step: 3 Loss: 0.181832 Tokens per Sec: 6565.966821\n",
      "Epoch Step: 3 Loss: 0.119805 Tokens per Sec: 6553.870419\n",
      "Epoch Step: 3 Loss: 0.142355 Tokens per Sec: 6571.553997\n",
      "Epoch Step: 3 Loss: 0.131790 Tokens per Sec: 6509.840199\n",
      "Epoch Step: 3 Loss: 0.113035 Tokens per Sec: 6573.832359\n",
      "Epoch Step: 3 Loss: 0.125706 Tokens per Sec: 6572.986874\n",
      "Epoch Step: 3 Loss: 0.142460 Tokens per Sec: 6601.740921\n",
      "Epoch Step: 3 Loss: 0.140025 Tokens per Sec: 6665.735135\n",
      "Epoch Step: 3 Loss: 0.103403 Tokens per Sec: 6578.549874\n",
      "Epoch Step: 3 Loss: 0.089966 Tokens per Sec: 6563.617691\n",
      "Epoch Step: 3 Loss: 0.134144 Tokens per Sec: 6587.176699\n",
      "Epoch Step: 3 Loss: 0.132962 Tokens per Sec: 6507.382926\n",
      "Epoch Step: 3 Loss: 0.102425 Tokens per Sec: 6596.628256\n",
      "Epoch Step: 3 Loss: 0.124264 Tokens per Sec: 6528.580676\n",
      "Epoch Step: 3 Loss: 0.122143 Tokens per Sec: 6544.508272\n",
      "Epoch Step: 3 Loss: 0.093592 Tokens per Sec: 6587.040848\n",
      "Epoch Step: 3 Loss: 0.116311 Tokens per Sec: 6556.212917\n",
      "Epoch Step: 3 Loss: 0.117598 Tokens per Sec: 6530.166988\n",
      "Epoch Step: 3 Loss: 0.123773 Tokens per Sec: 6515.491674\n",
      "Epoch Step: 3 Loss: 0.114611 Tokens per Sec: 6615.024580\n",
      "Epoch Step: 3 Loss: 0.103302 Tokens per Sec: 6615.300300\n",
      "Epoch Step: 3 Loss: 0.099245 Tokens per Sec: 6573.109477\n",
      "Epoch Step: 4 Loss: 0.113542 Tokens per Sec: 6941.240835\n",
      "Epoch Step: 4 Loss: 0.113534 Tokens per Sec: 6592.483194\n",
      "Epoch Step: 4 Loss: 0.112424 Tokens per Sec: 6548.262193\n",
      "Epoch Step: 4 Loss: 0.105361 Tokens per Sec: 6524.032174\n",
      "Epoch Step: 4 Loss: 0.082553 Tokens per Sec: 6603.702801\n",
      "Epoch Step: 4 Loss: 0.133801 Tokens per Sec: 6551.091914\n",
      "Epoch Step: 4 Loss: 0.113035 Tokens per Sec: 6538.914806\n",
      "Epoch Step: 4 Loss: 0.106194 Tokens per Sec: 6545.902755\n",
      "Epoch Step: 4 Loss: 0.111844 Tokens per Sec: 6556.638187\n",
      "Epoch Step: 4 Loss: 0.120876 Tokens per Sec: 6602.627038\n",
      "Epoch Step: 4 Loss: 0.113382 Tokens per Sec: 6470.479585\n",
      "Epoch Step: 4 Loss: 0.112039 Tokens per Sec: 6545.763465\n",
      "Epoch Step: 4 Loss: 0.121383 Tokens per Sec: 6509.965108\n",
      "Epoch Step: 4 Loss: 0.100854 Tokens per Sec: 6645.079918\n",
      "Epoch Step: 4 Loss: 0.099228 Tokens per Sec: 6625.524896\n",
      "Epoch Step: 4 Loss: 0.105723 Tokens per Sec: 6578.317186\n"
     ]
    },
    {
     "name": "stdout",
     "output_type": "stream",
     "text": [
      "Epoch Step: 4 Loss: 0.094953 Tokens per Sec: 6585.693554\n",
      "Epoch Step: 4 Loss: 0.093782 Tokens per Sec: 6525.988925\n",
      "Epoch Step: 4 Loss: 0.117538 Tokens per Sec: 6575.520300\n",
      "Epoch Step: 4 Loss: 0.117433 Tokens per Sec: 6589.858546\n",
      "Epoch Step: 4 Loss: 0.095431 Tokens per Sec: 6525.978500\n",
      "Epoch Step: 4 Loss: 0.089180 Tokens per Sec: 6598.071408\n",
      "Epoch Step: 4 Loss: 0.129687 Tokens per Sec: 6557.227044\n",
      "Epoch Step: 4 Loss: 0.099603 Tokens per Sec: 6579.931369\n",
      "Epoch Step: 4 Loss: 0.107368 Tokens per Sec: 6516.647263\n",
      "Epoch Step: 4 Loss: 0.100297 Tokens per Sec: 6598.464682\n",
      "Epoch Step: 4 Loss: 0.149595 Tokens per Sec: 6555.255020\n",
      "Epoch Step: 4 Loss: 0.128163 Tokens per Sec: 6542.082957\n",
      "Epoch Step: 4 Loss: 0.106122 Tokens per Sec: 6517.436940\n",
      "Epoch Step: 4 Loss: 0.099257 Tokens per Sec: 6522.023510\n",
      "Epoch Step: 4 Loss: 0.138490 Tokens per Sec: 6507.938689\n",
      "Epoch Step: 4 Loss: 0.110766 Tokens per Sec: 6549.035387\n",
      "Epoch Step: 4 Loss: 0.124394 Tokens per Sec: 6565.162837\n",
      "Epoch Step: 4 Loss: 0.111893 Tokens per Sec: 6593.284565\n",
      "Epoch Step: 4 Loss: 0.095458 Tokens per Sec: 6540.084847\n",
      "Epoch Step: 4 Loss: 0.116508 Tokens per Sec: 6551.303094\n",
      "Epoch Step: 4 Loss: 0.136930 Tokens per Sec: 6502.600360\n",
      "Epoch Step: 4 Loss: 0.078123 Tokens per Sec: 6543.083094\n",
      "Epoch Step: 4 Loss: 0.105311 Tokens per Sec: 6575.871337\n",
      "Epoch Step: 4 Loss: 0.097982 Tokens per Sec: 6594.046468\n",
      "Epoch Step: 4 Loss: 0.121081 Tokens per Sec: 6530.449219\n",
      "Epoch Step: 4 Loss: 0.153207 Tokens per Sec: 6515.233721\n",
      "Epoch Step: 4 Loss: 0.123038 Tokens per Sec: 6609.193485\n",
      "Epoch Step: 4 Loss: 0.105545 Tokens per Sec: 6518.439466\n",
      "Epoch Step: 4 Loss: 0.087699 Tokens per Sec: 6559.242387\n",
      "Epoch Step: 4 Loss: 0.100210 Tokens per Sec: 6556.651783\n",
      "Epoch Step: 4 Loss: 0.105184 Tokens per Sec: 6560.359042\n",
      "Epoch Step: 4 Loss: 0.109684 Tokens per Sec: 6501.224115\n",
      "Epoch Step: 4 Loss: 0.108552 Tokens per Sec: 6601.079246\n",
      "Epoch Step: 4 Loss: 0.118532 Tokens per Sec: 6541.487530\n",
      "Epoch Step: 4 Loss: 0.129619 Tokens per Sec: 6564.773475\n",
      "Epoch Step: 4 Loss: 0.097363 Tokens per Sec: 6577.337151\n",
      "Epoch Step: 4 Loss: 0.097657 Tokens per Sec: 6507.676930\n",
      "Epoch Step: 4 Loss: 0.107715 Tokens per Sec: 6554.856476\n",
      "Epoch Step: 4 Loss: 0.106309 Tokens per Sec: 6498.785154\n",
      "Epoch Step: 4 Loss: 0.104996 Tokens per Sec: 6576.554447\n",
      "Epoch Step: 4 Loss: 0.125134 Tokens per Sec: 6617.240733\n",
      "Epoch Step: 4 Loss: 0.138643 Tokens per Sec: 6563.034988\n",
      "Epoch Step: 4 Loss: 0.104591 Tokens per Sec: 6571.758760\n",
      "Epoch Step: 4 Loss: 0.092014 Tokens per Sec: 6599.947610\n",
      "Epoch Step: 4 Loss: 0.112202 Tokens per Sec: 6610.067372\n",
      "Epoch Step: 4 Loss: 0.125898 Tokens per Sec: 6543.352984\n",
      "Epoch Step: 4 Loss: 0.088446 Tokens per Sec: 6566.750938\n",
      "Epoch Step: 4 Loss: 0.131319 Tokens per Sec: 6537.417175\n",
      "Epoch Step: 4 Loss: 0.102549 Tokens per Sec: 6567.127793\n",
      "Epoch Step: 4 Loss: 0.105951 Tokens per Sec: 6535.228683\n",
      "Epoch Step: 4 Loss: 0.084952 Tokens per Sec: 6603.199247\n",
      "Epoch Step: 4 Loss: 0.079777 Tokens per Sec: 6564.902926\n",
      "Epoch Step: 5 Loss: 0.089180 Tokens per Sec: 6802.384723\n",
      "Epoch Step: 5 Loss: 0.125161 Tokens per Sec: 6563.473636\n",
      "Epoch Step: 5 Loss: 0.137294 Tokens per Sec: 6626.151207\n",
      "Epoch Step: 5 Loss: 0.124440 Tokens per Sec: 6549.928737\n",
      "Epoch Step: 5 Loss: 0.126897 Tokens per Sec: 6579.996409\n",
      "Epoch Step: 5 Loss: 0.122308 Tokens per Sec: 6592.305520\n",
      "Epoch Step: 5 Loss: 0.133040 Tokens per Sec: 6569.346246\n",
      "Epoch Step: 5 Loss: 0.120210 Tokens per Sec: 6619.902865\n",
      "Epoch Step: 5 Loss: 0.127951 Tokens per Sec: 6607.971463\n",
      "Epoch Step: 5 Loss: 0.128682 Tokens per Sec: 6529.451631\n",
      "Epoch Step: 5 Loss: 0.109715 Tokens per Sec: 6608.610119\n",
      "Epoch Step: 5 Loss: 0.129898 Tokens per Sec: 6535.451428\n",
      "Epoch Step: 5 Loss: 0.085580 Tokens per Sec: 6521.249953\n",
      "Epoch Step: 5 Loss: 0.149254 Tokens per Sec: 6565.718548\n",
      "Epoch Step: 5 Loss: 0.090534 Tokens per Sec: 6583.999038\n",
      "Epoch Step: 5 Loss: 0.112378 Tokens per Sec: 6611.233287\n",
      "Epoch Step: 5 Loss: 0.135787 Tokens per Sec: 6571.500302\n",
      "Epoch Step: 5 Loss: 0.096818 Tokens per Sec: 6614.677489\n",
      "Epoch Step: 5 Loss: 0.088759 Tokens per Sec: 6557.437618\n",
      "Epoch Step: 5 Loss: 0.115874 Tokens per Sec: 6586.596807\n",
      "Epoch Step: 5 Loss: 0.083745 Tokens per Sec: 6547.938734\n",
      "Epoch Step: 5 Loss: 0.102358 Tokens per Sec: 6599.935284\n",
      "Epoch Step: 5 Loss: 0.087657 Tokens per Sec: 6569.178199\n",
      "Epoch Step: 5 Loss: 0.113794 Tokens per Sec: 6565.210640\n",
      "Epoch Step: 5 Loss: 0.129290 Tokens per Sec: 6554.391489\n",
      "Epoch Step: 5 Loss: 0.105715 Tokens per Sec: 6565.170847\n",
      "Epoch Step: 5 Loss: 0.078627 Tokens per Sec: 6541.666949\n",
      "Epoch Step: 5 Loss: 0.117428 Tokens per Sec: 6590.454437\n",
      "Epoch Step: 5 Loss: 0.126834 Tokens per Sec: 6538.074795\n",
      "Epoch Step: 5 Loss: 0.105274 Tokens per Sec: 6602.386728\n",
      "Epoch Step: 5 Loss: 0.084971 Tokens per Sec: 6571.932743\n",
      "Epoch Step: 5 Loss: 0.094209 Tokens per Sec: 6580.417299\n",
      "Epoch Step: 5 Loss: 0.139174 Tokens per Sec: 6502.661469\n",
      "Epoch Step: 5 Loss: 0.100095 Tokens per Sec: 6580.088825\n",
      "Epoch Step: 5 Loss: 0.108826 Tokens per Sec: 6607.028554\n",
      "Epoch Step: 5 Loss: 0.126883 Tokens per Sec: 6562.657755\n",
      "Epoch Step: 5 Loss: 0.088746 Tokens per Sec: 6562.633422\n",
      "Epoch Step: 5 Loss: 0.061459 Tokens per Sec: 6591.275131\n",
      "Epoch Step: 5 Loss: 0.104699 Tokens per Sec: 6555.291636\n",
      "Epoch Step: 5 Loss: 0.095261 Tokens per Sec: 6516.232154\n",
      "Epoch Step: 5 Loss: 0.106474 Tokens per Sec: 6533.762436\n",
      "Epoch Step: 5 Loss: 0.100656 Tokens per Sec: 6537.682938\n",
      "Epoch Step: 5 Loss: 0.112198 Tokens per Sec: 6562.727314\n",
      "Epoch Step: 5 Loss: 0.091525 Tokens per Sec: 6530.752389\n",
      "Epoch Step: 5 Loss: 0.098339 Tokens per Sec: 6568.495746\n",
      "Epoch Step: 5 Loss: 0.116597 Tokens per Sec: 6561.005394\n",
      "Epoch Step: 5 Loss: 0.115552 Tokens per Sec: 6570.517172\n",
      "Epoch Step: 5 Loss: 0.095566 Tokens per Sec: 6613.351329\n",
      "Epoch Step: 5 Loss: 0.106444 Tokens per Sec: 6653.167357\n",
      "Epoch Step: 5 Loss: 0.141066 Tokens per Sec: 6630.683843\n",
      "Epoch Step: 5 Loss: 0.101578 Tokens per Sec: 6578.262308\n",
      "Epoch Step: 5 Loss: 0.096996 Tokens per Sec: 6577.241770\n",
      "Epoch Step: 5 Loss: 0.077151 Tokens per Sec: 6535.392971\n",
      "Epoch Step: 5 Loss: 0.128706 Tokens per Sec: 6570.423786\n",
      "Epoch Step: 5 Loss: 0.106781 Tokens per Sec: 6611.072261\n",
      "Epoch Step: 5 Loss: 0.148938 Tokens per Sec: 6528.615668\n",
      "Epoch Step: 5 Loss: 0.115753 Tokens per Sec: 6635.202008\n",
      "Epoch Step: 5 Loss: 0.101188 Tokens per Sec: 6574.223760\n",
      "Epoch Step: 5 Loss: 0.094168 Tokens per Sec: 6660.832389\n",
      "Epoch Step: 5 Loss: 0.136275 Tokens per Sec: 6582.233872\n",
      "Epoch Step: 5 Loss: 0.097588 Tokens per Sec: 6636.447953\n",
      "Epoch Step: 5 Loss: 0.120473 Tokens per Sec: 6552.697591\n",
      "Epoch Step: 5 Loss: 0.098860 Tokens per Sec: 6537.632620\n",
      "Epoch Step: 5 Loss: 0.103008 Tokens per Sec: 6582.920385\n",
      "Epoch Step: 5 Loss: 0.121665 Tokens per Sec: 6592.665767\n",
      "Epoch Step: 5 Loss: 0.093241 Tokens per Sec: 6607.860890\n",
      "Epoch Step: 5 Loss: 0.104399 Tokens per Sec: 6581.870439\n",
      "Epoch Step: 5 Loss: 0.075626 Tokens per Sec: 6530.931149\n",
      "Epoch Step: 6 Loss: 0.116299 Tokens per Sec: 6546.096207\n",
      "Epoch Step: 6 Loss: 0.078594 Tokens per Sec: 6523.926446\n",
      "Epoch Step: 6 Loss: 0.104969 Tokens per Sec: 6534.823600\n",
      "Epoch Step: 6 Loss: 0.121844 Tokens per Sec: 6615.502039\n",
      "Epoch Step: 6 Loss: 0.118674 Tokens per Sec: 6615.467959\n",
      "Epoch Step: 6 Loss: 0.103356 Tokens per Sec: 6560.884689\n",
      "Epoch Step: 6 Loss: 0.076794 Tokens per Sec: 6616.810039\n",
      "Epoch Step: 6 Loss: 0.101345 Tokens per Sec: 6579.349700\n",
      "Epoch Step: 6 Loss: 0.092671 Tokens per Sec: 6542.756119\n",
      "Epoch Step: 6 Loss: 0.134067 Tokens per Sec: 6566.890703\n",
      "Epoch Step: 6 Loss: 0.108929 Tokens per Sec: 6574.700103\n",
      "Epoch Step: 6 Loss: 0.066464 Tokens per Sec: 6615.851507\n",
      "Epoch Step: 6 Loss: 0.103821 Tokens per Sec: 6579.777210\n",
      "Epoch Step: 6 Loss: 0.073102 Tokens per Sec: 6619.226687\n",
      "Epoch Step: 6 Loss: 0.091162 Tokens per Sec: 6543.708499\n",
      "Epoch Step: 6 Loss: 0.126968 Tokens per Sec: 6581.559109\n",
      "Epoch Step: 6 Loss: 0.092129 Tokens per Sec: 6605.621490\n",
      "Epoch Step: 6 Loss: 0.090416 Tokens per Sec: 6606.495151\n",
      "Epoch Step: 6 Loss: 0.108689 Tokens per Sec: 6594.669749\n",
      "Epoch Step: 6 Loss: 0.095312 Tokens per Sec: 6579.749390\n",
      "Epoch Step: 6 Loss: 0.111884 Tokens per Sec: 6595.124309\n",
      "Epoch Step: 6 Loss: 0.105889 Tokens per Sec: 6550.324941\n",
      "Epoch Step: 6 Loss: 0.082329 Tokens per Sec: 6511.880686\n",
      "Epoch Step: 6 Loss: 0.082094 Tokens per Sec: 6582.187067\n"
     ]
    },
    {
     "name": "stdout",
     "output_type": "stream",
     "text": [
      "Epoch Step: 6 Loss: 0.081543 Tokens per Sec: 6576.815451\n",
      "Epoch Step: 6 Loss: 0.156271 Tokens per Sec: 6520.595801\n",
      "Epoch Step: 6 Loss: 0.072967 Tokens per Sec: 6580.983451\n",
      "Epoch Step: 6 Loss: 0.106676 Tokens per Sec: 6610.862633\n",
      "Epoch Step: 6 Loss: 0.123762 Tokens per Sec: 6543.937735\n",
      "Epoch Step: 6 Loss: 0.103203 Tokens per Sec: 6547.490710\n",
      "Epoch Step: 6 Loss: 0.102655 Tokens per Sec: 6573.740972\n",
      "Epoch Step: 6 Loss: 0.078612 Tokens per Sec: 6537.764079\n",
      "Epoch Step: 6 Loss: 0.093954 Tokens per Sec: 6513.790341\n",
      "Epoch Step: 6 Loss: 0.089934 Tokens per Sec: 6534.531723\n",
      "Epoch Step: 6 Loss: 0.071114 Tokens per Sec: 6582.695859\n",
      "Epoch Step: 6 Loss: 0.091467 Tokens per Sec: 6562.284779\n",
      "Epoch Step: 6 Loss: 0.076775 Tokens per Sec: 6502.520429\n",
      "Epoch Step: 6 Loss: 0.130292 Tokens per Sec: 6569.994237\n",
      "Epoch Step: 6 Loss: 0.079658 Tokens per Sec: 6578.477865\n",
      "Epoch Step: 6 Loss: 0.090815 Tokens per Sec: 6633.261272\n",
      "Epoch Step: 6 Loss: 0.076580 Tokens per Sec: 6614.297452\n",
      "Epoch Step: 6 Loss: 0.117520 Tokens per Sec: 6579.799362\n",
      "Epoch Step: 6 Loss: 0.117397 Tokens per Sec: 6580.609548\n",
      "Epoch Step: 6 Loss: 0.098863 Tokens per Sec: 6544.446396\n",
      "Epoch Step: 6 Loss: 0.115610 Tokens per Sec: 6534.388883\n",
      "Epoch Step: 6 Loss: 0.117311 Tokens per Sec: 6512.560598\n",
      "Epoch Step: 6 Loss: 0.072342 Tokens per Sec: 6548.602403\n",
      "Epoch Step: 6 Loss: 0.095279 Tokens per Sec: 6530.929321\n",
      "Epoch Step: 6 Loss: 0.093657 Tokens per Sec: 6556.203852\n",
      "Epoch Step: 6 Loss: 0.121574 Tokens per Sec: 6583.439341\n",
      "Epoch Step: 6 Loss: 0.095719 Tokens per Sec: 6570.098282\n",
      "Epoch Step: 6 Loss: 0.106608 Tokens per Sec: 6578.219560\n",
      "Epoch Step: 6 Loss: 0.122902 Tokens per Sec: 6626.804299\n",
      "Epoch Step: 6 Loss: 0.064105 Tokens per Sec: 6613.687211\n",
      "Epoch Step: 6 Loss: 0.084571 Tokens per Sec: 6628.219833\n",
      "Epoch Step: 6 Loss: 0.071685 Tokens per Sec: 6531.510692\n",
      "Epoch Step: 6 Loss: 0.111937 Tokens per Sec: 6534.661464\n",
      "Epoch Step: 6 Loss: 0.101039 Tokens per Sec: 6562.479594\n",
      "Epoch Step: 6 Loss: 0.087588 Tokens per Sec: 6548.584328\n",
      "Epoch Step: 6 Loss: 0.105570 Tokens per Sec: 6574.416414\n",
      "Epoch Step: 6 Loss: 0.077326 Tokens per Sec: 6536.037131\n",
      "Epoch Step: 6 Loss: 0.127114 Tokens per Sec: 6537.990317\n",
      "Epoch Step: 6 Loss: 0.094961 Tokens per Sec: 6560.949364\n",
      "Epoch Step: 6 Loss: 0.110731 Tokens per Sec: 6543.441963\n",
      "Epoch Step: 6 Loss: 0.103588 Tokens per Sec: 6540.462523\n",
      "Epoch Step: 6 Loss: 0.095711 Tokens per Sec: 6569.926102\n",
      "Epoch Step: 6 Loss: 0.069305 Tokens per Sec: 6544.449812\n",
      "Epoch Step: 6 Loss: 0.071395 Tokens per Sec: 6561.014364\n",
      "Epoch Step: 7 Loss: 0.081243 Tokens per Sec: 6540.656796\n",
      "Epoch Step: 7 Loss: 0.112896 Tokens per Sec: 6537.479796\n",
      "Epoch Step: 7 Loss: 0.098415 Tokens per Sec: 6577.617668\n",
      "Epoch Step: 7 Loss: 0.120534 Tokens per Sec: 6559.413975\n",
      "Epoch Step: 7 Loss: 0.085468 Tokens per Sec: 6548.210197\n",
      "Epoch Step: 7 Loss: 0.099533 Tokens per Sec: 6540.854800\n",
      "Epoch Step: 7 Loss: 0.078221 Tokens per Sec: 6520.487502\n",
      "Epoch Step: 7 Loss: 0.122195 Tokens per Sec: 6531.852360\n",
      "Epoch Step: 7 Loss: 0.086995 Tokens per Sec: 6518.391918\n",
      "Epoch Step: 7 Loss: 0.086305 Tokens per Sec: 6587.937813\n",
      "Epoch Step: 7 Loss: 0.092927 Tokens per Sec: 6581.458518\n",
      "Epoch Step: 7 Loss: 0.081514 Tokens per Sec: 6567.184020\n",
      "Epoch Step: 7 Loss: 0.106400 Tokens per Sec: 6579.316399\n",
      "Epoch Step: 7 Loss: 0.094998 Tokens per Sec: 6555.694675\n",
      "Epoch Step: 7 Loss: 0.109740 Tokens per Sec: 6595.632894\n",
      "Epoch Step: 7 Loss: 0.105927 Tokens per Sec: 6546.792751\n",
      "Epoch Step: 7 Loss: 0.106161 Tokens per Sec: 6564.312495\n",
      "Epoch Step: 7 Loss: 0.088215 Tokens per Sec: 6593.509836\n",
      "Epoch Step: 7 Loss: 0.110473 Tokens per Sec: 6511.987079\n",
      "Epoch Step: 7 Loss: 0.083216 Tokens per Sec: 6510.297124\n",
      "Epoch Step: 7 Loss: 0.097167 Tokens per Sec: 6518.077358\n",
      "Epoch Step: 7 Loss: 0.090474 Tokens per Sec: 6504.328045\n",
      "Epoch Step: 7 Loss: 0.066674 Tokens per Sec: 6547.502385\n",
      "Epoch Step: 7 Loss: 0.097623 Tokens per Sec: 6516.928639\n",
      "Epoch Step: 7 Loss: 0.109982 Tokens per Sec: 6589.466013\n",
      "Epoch Step: 7 Loss: 0.106504 Tokens per Sec: 6565.286054\n",
      "Epoch Step: 7 Loss: 0.098503 Tokens per Sec: 6623.821857\n",
      "Epoch Step: 7 Loss: 0.114069 Tokens per Sec: 6561.217926\n",
      "Epoch Step: 7 Loss: 0.098777 Tokens per Sec: 6597.711781\n",
      "Epoch Step: 7 Loss: 0.079150 Tokens per Sec: 6608.828782\n",
      "Epoch Step: 7 Loss: 0.077745 Tokens per Sec: 6525.592709\n",
      "Epoch Step: 7 Loss: 0.071007 Tokens per Sec: 6508.102571\n",
      "Epoch Step: 7 Loss: 0.073989 Tokens per Sec: 6596.722420\n",
      "Epoch Step: 7 Loss: 0.087294 Tokens per Sec: 6580.418695\n",
      "Epoch Step: 7 Loss: 0.076002 Tokens per Sec: 6522.427697\n",
      "Epoch Step: 7 Loss: 0.119249 Tokens per Sec: 6528.046313\n",
      "Epoch Step: 7 Loss: 0.098122 Tokens per Sec: 6528.316587\n",
      "Epoch Step: 7 Loss: 0.111504 Tokens per Sec: 6629.904039\n",
      "Epoch Step: 7 Loss: 0.067252 Tokens per Sec: 6565.611990\n",
      "Epoch Step: 7 Loss: 0.109506 Tokens per Sec: 6596.220604\n",
      "Epoch Step: 7 Loss: 0.089518 Tokens per Sec: 6579.635818\n",
      "Epoch Step: 7 Loss: 0.093710 Tokens per Sec: 6604.400087\n",
      "Epoch Step: 7 Loss: 0.096104 Tokens per Sec: 6588.724258\n",
      "Epoch Step: 7 Loss: 0.118741 Tokens per Sec: 6609.502844\n",
      "Epoch Step: 7 Loss: 0.114062 Tokens per Sec: 6624.557832\n",
      "Epoch Step: 7 Loss: 0.120296 Tokens per Sec: 6562.092304\n",
      "Epoch Step: 7 Loss: 0.083652 Tokens per Sec: 6613.129387\n",
      "Epoch Step: 7 Loss: 0.121957 Tokens per Sec: 6532.540190\n",
      "Epoch Step: 7 Loss: 0.095653 Tokens per Sec: 6569.306718\n",
      "Epoch Step: 7 Loss: 0.091671 Tokens per Sec: 6616.938872\n",
      "Epoch Step: 7 Loss: 0.121746 Tokens per Sec: 6592.650549\n",
      "Epoch Step: 7 Loss: 0.070264 Tokens per Sec: 6670.727515\n",
      "Epoch Step: 7 Loss: 0.129758 Tokens per Sec: 6559.196790\n",
      "Epoch Step: 7 Loss: 0.094626 Tokens per Sec: 6670.217236\n",
      "Epoch Step: 7 Loss: 0.106548 Tokens per Sec: 6620.282030\n",
      "Epoch Step: 7 Loss: 0.073236 Tokens per Sec: 6593.121103\n",
      "Epoch Step: 7 Loss: 0.121143 Tokens per Sec: 6598.395269\n",
      "Epoch Step: 7 Loss: 0.114381 Tokens per Sec: 6564.535394\n",
      "Epoch Step: 7 Loss: 0.089264 Tokens per Sec: 6543.717652\n",
      "Epoch Step: 7 Loss: 0.119971 Tokens per Sec: 6582.282774\n",
      "Epoch Step: 7 Loss: 0.082060 Tokens per Sec: 6598.455776\n",
      "Epoch Step: 7 Loss: 0.081163 Tokens per Sec: 6589.258825\n",
      "Epoch Step: 7 Loss: 0.100555 Tokens per Sec: 6556.140436\n",
      "Epoch Step: 7 Loss: 0.135239 Tokens per Sec: 6612.403026\n",
      "Epoch Step: 7 Loss: 0.085797 Tokens per Sec: 6585.078461\n",
      "Epoch Step: 7 Loss: 0.117572 Tokens per Sec: 6589.353673\n",
      "Epoch Step: 7 Loss: 0.100032 Tokens per Sec: 6627.899601\n",
      "Epoch Step: 7 Loss: 0.079283 Tokens per Sec: 6586.007694\n",
      "Epoch Step: 8 Loss: 0.074914 Tokens per Sec: 6787.238048\n",
      "Epoch Step: 8 Loss: 0.103716 Tokens per Sec: 6604.335227\n",
      "Epoch Step: 8 Loss: 0.115551 Tokens per Sec: 6542.245599\n",
      "Epoch Step: 8 Loss: 0.083849 Tokens per Sec: 6532.210708\n",
      "Epoch Step: 8 Loss: 0.103086 Tokens per Sec: 6600.429700\n",
      "Epoch Step: 8 Loss: 0.074080 Tokens per Sec: 6566.879793\n",
      "Epoch Step: 8 Loss: 0.101560 Tokens per Sec: 6555.179912\n",
      "Epoch Step: 8 Loss: 0.086704 Tokens per Sec: 6517.890437\n",
      "Epoch Step: 8 Loss: 0.090722 Tokens per Sec: 6569.263147\n",
      "Epoch Step: 8 Loss: 0.110196 Tokens per Sec: 6552.505182\n",
      "Epoch Step: 8 Loss: 0.084485 Tokens per Sec: 6564.125429\n",
      "Epoch Step: 8 Loss: 0.104770 Tokens per Sec: 6594.868041\n",
      "Epoch Step: 8 Loss: 0.091098 Tokens per Sec: 6533.743205\n",
      "Epoch Step: 8 Loss: 0.112116 Tokens per Sec: 6557.047419\n",
      "Epoch Step: 8 Loss: 0.096461 Tokens per Sec: 6570.126311\n",
      "Epoch Step: 8 Loss: 0.088887 Tokens per Sec: 6598.746140\n",
      "Epoch Step: 8 Loss: 0.080230 Tokens per Sec: 6607.861176\n",
      "Epoch Step: 8 Loss: 0.124831 Tokens per Sec: 6580.316041\n",
      "Epoch Step: 8 Loss: 0.090086 Tokens per Sec: 6641.702778\n",
      "Epoch Step: 8 Loss: 0.104439 Tokens per Sec: 6622.609455\n",
      "Epoch Step: 8 Loss: 0.100830 Tokens per Sec: 6598.043315\n",
      "Epoch Step: 8 Loss: 0.096177 Tokens per Sec: 6581.589238\n",
      "Epoch Step: 8 Loss: 0.087958 Tokens per Sec: 6568.895551\n",
      "Epoch Step: 8 Loss: 0.084134 Tokens per Sec: 6574.974009\n",
      "Epoch Step: 8 Loss: 0.080097 Tokens per Sec: 6622.176386\n",
      "Epoch Step: 8 Loss: 0.078606 Tokens per Sec: 6574.900621\n",
      "Epoch Step: 8 Loss: 0.080118 Tokens per Sec: 6590.190536\n",
      "Epoch Step: 8 Loss: 0.071581 Tokens per Sec: 6579.943675\n",
      "Epoch Step: 8 Loss: 0.065946 Tokens per Sec: 6573.597789\n",
      "Epoch Step: 8 Loss: 0.098374 Tokens per Sec: 6593.303036\n",
      "Epoch Step: 8 Loss: 0.093345 Tokens per Sec: 6578.130699\n",
      "Epoch Step: 8 Loss: 0.092804 Tokens per Sec: 6551.304893\n"
     ]
    },
    {
     "name": "stdout",
     "output_type": "stream",
     "text": [
      "Epoch Step: 8 Loss: 0.099308 Tokens per Sec: 6502.736117\n",
      "Epoch Step: 8 Loss: 0.070450 Tokens per Sec: 6578.126332\n",
      "Epoch Step: 8 Loss: 0.083458 Tokens per Sec: 6598.612288\n",
      "Epoch Step: 8 Loss: 0.090576 Tokens per Sec: 6586.489055\n",
      "Epoch Step: 8 Loss: 0.103174 Tokens per Sec: 6616.320224\n",
      "Epoch Step: 8 Loss: 0.106041 Tokens per Sec: 6569.055900\n",
      "Epoch Step: 8 Loss: 0.093209 Tokens per Sec: 6605.604685\n",
      "Epoch Step: 8 Loss: 0.096704 Tokens per Sec: 6569.296639\n",
      "Epoch Step: 8 Loss: 0.084783 Tokens per Sec: 6567.335529\n",
      "Epoch Step: 8 Loss: 0.070446 Tokens per Sec: 6576.059113\n",
      "Epoch Step: 8 Loss: 0.092581 Tokens per Sec: 6563.774190\n",
      "Epoch Step: 8 Loss: 0.073331 Tokens per Sec: 6606.280900\n",
      "Epoch Step: 8 Loss: 0.070544 Tokens per Sec: 6601.477348\n",
      "Epoch Step: 8 Loss: 0.092708 Tokens per Sec: 6596.668308\n",
      "Epoch Step: 8 Loss: 0.069899 Tokens per Sec: 6632.752331\n",
      "Epoch Step: 8 Loss: 0.102391 Tokens per Sec: 6599.842447\n",
      "Epoch Step: 8 Loss: 0.085692 Tokens per Sec: 6626.981950\n",
      "Epoch Step: 8 Loss: 0.091524 Tokens per Sec: 6569.083179\n",
      "Epoch Step: 8 Loss: 0.096248 Tokens per Sec: 6629.299056\n",
      "Epoch Step: 8 Loss: 0.081870 Tokens per Sec: 6591.516213\n",
      "Epoch Step: 8 Loss: 0.067757 Tokens per Sec: 6538.355067\n",
      "Epoch Step: 8 Loss: 0.096783 Tokens per Sec: 6601.758453\n",
      "Epoch Step: 8 Loss: 0.086380 Tokens per Sec: 6535.153143\n",
      "Epoch Step: 8 Loss: 0.077259 Tokens per Sec: 6597.623994\n",
      "Epoch Step: 8 Loss: 0.090831 Tokens per Sec: 6586.270571\n",
      "Epoch Step: 8 Loss: 0.077230 Tokens per Sec: 6587.925601\n",
      "Epoch Step: 8 Loss: 0.114903 Tokens per Sec: 6510.635598\n",
      "Epoch Step: 8 Loss: 0.068589 Tokens per Sec: 6595.813028\n",
      "Epoch Step: 8 Loss: 0.067734 Tokens per Sec: 6544.351581\n",
      "Epoch Step: 8 Loss: 0.079798 Tokens per Sec: 6610.081078\n",
      "Epoch Step: 8 Loss: 0.111317 Tokens per Sec: 6541.406020\n",
      "Epoch Step: 8 Loss: 0.090371 Tokens per Sec: 6571.925990\n",
      "Epoch Step: 8 Loss: 0.088251 Tokens per Sec: 6596.338042\n",
      "Epoch Step: 8 Loss: 0.069641 Tokens per Sec: 6540.876797\n",
      "Epoch Step: 8 Loss: 0.129118 Tokens per Sec: 6533.231724\n",
      "Epoch Step: 8 Loss: 0.069829 Tokens per Sec: 6579.477082\n",
      "Epoch Step: 9 Loss: 0.118382 Tokens per Sec: 6689.866167\n",
      "Epoch Step: 9 Loss: 0.084621 Tokens per Sec: 6529.840653\n",
      "Epoch Step: 9 Loss: 0.108059 Tokens per Sec: 6584.256746\n",
      "Epoch Step: 9 Loss: 0.069192 Tokens per Sec: 6607.899614\n",
      "Epoch Step: 9 Loss: 0.069094 Tokens per Sec: 6556.921775\n",
      "Epoch Step: 9 Loss: 0.083036 Tokens per Sec: 6585.129817\n",
      "Epoch Step: 9 Loss: 0.107417 Tokens per Sec: 6553.598520\n",
      "Epoch Step: 9 Loss: 0.077003 Tokens per Sec: 6577.718514\n",
      "Epoch Step: 9 Loss: 0.092050 Tokens per Sec: 6529.408844\n",
      "Epoch Step: 9 Loss: 0.098142 Tokens per Sec: 6631.727318\n",
      "Epoch Step: 9 Loss: 0.084681 Tokens per Sec: 6607.743442\n",
      "Epoch Step: 9 Loss: 0.115173 Tokens per Sec: 6584.864628\n",
      "Epoch Step: 9 Loss: 0.080797 Tokens per Sec: 6589.588456\n",
      "Epoch Step: 9 Loss: 0.071297 Tokens per Sec: 6566.606700\n",
      "Epoch Step: 9 Loss: 0.059252 Tokens per Sec: 6605.045492\n",
      "Epoch Step: 9 Loss: 0.118498 Tokens per Sec: 6515.150942\n",
      "Epoch Step: 9 Loss: 0.065413 Tokens per Sec: 6556.184588\n",
      "Epoch Step: 9 Loss: 0.088157 Tokens per Sec: 6586.871772\n",
      "Epoch Step: 9 Loss: 0.089914 Tokens per Sec: 6576.706437\n",
      "Epoch Step: 9 Loss: 0.094248 Tokens per Sec: 6589.592075\n",
      "Epoch Step: 9 Loss: 0.073719 Tokens per Sec: 6562.463767\n",
      "Epoch Step: 9 Loss: 0.076026 Tokens per Sec: 6618.945936\n",
      "Epoch Step: 9 Loss: 0.115590 Tokens per Sec: 6625.039324\n",
      "Epoch Step: 9 Loss: 0.097100 Tokens per Sec: 6590.152974\n",
      "Epoch Step: 9 Loss: 0.077296 Tokens per Sec: 6569.052499\n",
      "Epoch Step: 9 Loss: 0.086105 Tokens per Sec: 6534.898336\n",
      "Epoch Step: 9 Loss: 0.096041 Tokens per Sec: 6575.230215\n",
      "Epoch Step: 9 Loss: 0.096566 Tokens per Sec: 6522.271099\n",
      "Epoch Step: 9 Loss: 0.101992 Tokens per Sec: 6561.669726\n",
      "Epoch Step: 9 Loss: 0.084495 Tokens per Sec: 6526.592459\n",
      "Epoch Step: 9 Loss: 0.074373 Tokens per Sec: 6554.050865\n",
      "Epoch Step: 9 Loss: 0.104939 Tokens per Sec: 6611.131622\n",
      "Epoch Step: 9 Loss: 0.122151 Tokens per Sec: 6515.127417\n",
      "Epoch Step: 9 Loss: 0.080571 Tokens per Sec: 6532.541452\n",
      "Epoch Step: 9 Loss: 0.077930 Tokens per Sec: 6522.422191\n",
      "Epoch Step: 9 Loss: 0.102779 Tokens per Sec: 6578.770551\n",
      "Epoch Step: 9 Loss: 0.098654 Tokens per Sec: 6584.591593\n",
      "Epoch Step: 9 Loss: 0.056732 Tokens per Sec: 6563.914251\n",
      "Epoch Step: 9 Loss: 0.086268 Tokens per Sec: 6502.231566\n",
      "Epoch Step: 9 Loss: 0.094035 Tokens per Sec: 6543.718697\n",
      "Epoch Step: 9 Loss: 0.094923 Tokens per Sec: 6612.937068\n",
      "Epoch Step: 9 Loss: 0.101814 Tokens per Sec: 6576.873358\n",
      "Epoch Step: 9 Loss: 0.081549 Tokens per Sec: 6629.696682\n",
      "Epoch Step: 9 Loss: 0.076137 Tokens per Sec: 6550.274190\n",
      "Epoch Step: 9 Loss: 0.108198 Tokens per Sec: 6586.095381\n",
      "Epoch Step: 9 Loss: 0.115093 Tokens per Sec: 6608.069460\n",
      "Epoch Step: 9 Loss: 0.099456 Tokens per Sec: 6620.921670\n",
      "Epoch Step: 9 Loss: 0.080417 Tokens per Sec: 6547.731477\n",
      "Epoch Step: 9 Loss: 0.085557 Tokens per Sec: 6565.090860\n",
      "Epoch Step: 9 Loss: 0.105093 Tokens per Sec: 6579.641161\n",
      "Epoch Step: 9 Loss: 0.096901 Tokens per Sec: 6542.397872\n",
      "Epoch Step: 9 Loss: 0.088192 Tokens per Sec: 6518.407615\n",
      "Epoch Step: 9 Loss: 0.101733 Tokens per Sec: 6588.146081\n",
      "Epoch Step: 9 Loss: 0.106271 Tokens per Sec: 6566.407828\n",
      "Epoch Step: 9 Loss: 0.077662 Tokens per Sec: 6548.212683\n",
      "Epoch Step: 9 Loss: 0.104216 Tokens per Sec: 6573.431320\n",
      "Epoch Step: 9 Loss: 0.113137 Tokens per Sec: 6620.775646\n",
      "Epoch Step: 9 Loss: 0.063041 Tokens per Sec: 6579.696956\n",
      "Epoch Step: 9 Loss: 0.084759 Tokens per Sec: 6561.395616\n",
      "Epoch Step: 9 Loss: 0.086341 Tokens per Sec: 6587.872580\n",
      "Epoch Step: 9 Loss: 0.080083 Tokens per Sec: 6567.789816\n",
      "Epoch Step: 9 Loss: 0.061826 Tokens per Sec: 6570.202378\n",
      "Epoch Step: 9 Loss: 0.083890 Tokens per Sec: 6576.298932\n",
      "Epoch Step: 9 Loss: 0.075290 Tokens per Sec: 6610.598900\n",
      "Epoch Step: 9 Loss: 0.092007 Tokens per Sec: 6553.857844\n",
      "Epoch Step: 9 Loss: 0.098981 Tokens per Sec: 6527.447172\n",
      "Epoch Step: 9 Loss: 0.077002 Tokens per Sec: 6522.090842\n",
      "Epoch Step: 9 Loss: 0.083647 Tokens per Sec: 6611.506131\n"
     ]
    }
   ],
   "source": [
    "for epoch in range(10):\n",
    "    model.train()\n",
    "    run_epoch(get_batch(input_train, labels_train, 3374), model, \n",
    "              SimpleLossCompute(model.generator, criterion, model_opt), epoch)"
   ]
  },
  {
   "cell_type": "markdown",
   "metadata": {},
   "source": [
    "## Evaluation"
   ]
  },
  {
   "cell_type": "code",
   "execution_count": 100,
   "metadata": {
    "ExecuteTime": {
     "end_time": "2018-05-22T14:43:36.419044Z",
     "start_time": "2018-05-22T14:43:36.259128Z"
    }
   },
   "outputs": [
    {
     "name": "stdout",
     "output_type": "stream",
     "text": [
      "tensor([[ 1]], device='cuda:0')\n",
      "torch.Size([1, 29])\n",
      "torch.Size([1, 29])\n",
      "torch.Size([1, 29])\n",
      "torch.Size([1, 29])\n",
      "torch.Size([1, 29])\n",
      "torch.Size([1, 29])\n",
      "torch.Size([1, 29])\n",
      "torch.Size([1, 29])\n",
      "torch.Size([1, 29])\n",
      "torch.Size([1, 29])\n",
      "torch.Size([1, 29])\n",
      "torch.Size([1, 29])\n",
      "torch.Size([1, 29])\n",
      "torch.Size([1, 29])\n",
      "torch.Size([1, 29])\n",
      "torch.Size([1, 29])\n"
     ]
    }
   ],
   "source": [
    "def evaluate(model, src, src_mask, max_len, start_symbol):\n",
    "    memory = model.encode(src, src_mask)\n",
    "    ys = torch.ones(1, 1).fill_(start_symbol).type_as(src.data)\n",
    "    print (ys)\n",
    "    for i in range(max_len-1):\n",
    "        #pdb.set_trace()\n",
    "        out = model.decode(memory, src_mask, \n",
    "                           torch.tensor(ys), \n",
    "                           torch.tensor(subsequent_mask(ys.size(1))\n",
    "                                    .type_as(src.data)))\n",
    "        prob = model.generator(out[:, -1])\n",
    "        print (prob.shape)\n",
    "        _, next_word = torch.max(prob, dim = 1)\n",
    "        #print (next_word)\n",
    "        next_word = next_word.data[0]\n",
    "        ys = torch.cat([ys, \n",
    "                        torch.ones(1, 1).type_as(src.data).fill_(next_word)], dim=1)\n",
    "    return ys\n",
    "testd = 1569\n",
    "model.eval()\n",
    "src = torch.LongTensor([input_test[testd]]).to(device)\n",
    "src_mask = torch.ones(1, 1, maxlen_p).to(device)\n",
    "decoded = evaluate(model, src, src_mask, max_len=maxlen+2, start_symbol=1)"
   ]
  },
  {
   "cell_type": "code",
   "execution_count": 101,
   "metadata": {
    "ExecuteTime": {
     "end_time": "2018-05-22T14:43:37.765642Z",
     "start_time": "2018-05-22T14:43:37.759639Z"
    },
    "collapsed": true
   },
   "outputs": [],
   "source": [
    "phoneme = '-'.join([phonemes[p] for p in input_test[testd]])"
   ]
  },
  {
   "cell_type": "code",
   "execution_count": 102,
   "metadata": {
    "ExecuteTime": {
     "end_time": "2018-05-22T14:43:37.974011Z",
     "start_time": "2018-05-22T14:43:37.968602Z"
    }
   },
   "outputs": [
    {
     "data": {
      "text/plain": [
       "array([ 1,  3, 18, 17, 14, 17,  9, 11, 21,  7,  2,  0,  0,  0,  0,  0,  0], dtype=int32)"
      ]
     },
     "execution_count": 102,
     "metadata": {},
     "output_type": "execute_result"
    }
   ],
   "source": [
    "labels_test[testd]"
   ]
  },
  {
   "cell_type": "code",
   "execution_count": 103,
   "metadata": {
    "ExecuteTime": {
     "end_time": "2018-05-22T14:43:38.190157Z",
     "start_time": "2018-05-22T14:43:38.185417Z"
    }
   },
   "outputs": [
    {
     "name": "stdout",
     "output_type": "stream",
     "text": [
      "True: AH0-P-AA1-L-AH0-JH-AY2-Z-_-_-_-_-_-_-_-_ ['*', 'a', 'p', 'o', 'l', 'o', 'g', 'i', 's', 'e', '!', '_', '_', '_', '_', '_', '_']\n"
     ]
    }
   ],
   "source": [
    "print (\"True:\",phoneme, [letters[l] for l in labels_test[testd]])"
   ]
  },
  {
   "cell_type": "code",
   "execution_count": 104,
   "metadata": {
    "ExecuteTime": {
     "end_time": "2018-05-22T14:43:39.627346Z",
     "start_time": "2018-05-22T14:43:39.618704Z"
    }
   },
   "outputs": [
    {
     "name": "stdout",
     "output_type": "stream",
     "text": [
      "[19 51 55  7 45  0  0  0  0  0  0  0  0  0  0  0] [ 1  4 17 11 21  7 16  2  0  0  0  0  0  0  0  0  0]\n"
     ]
    }
   ],
   "source": [
    "print (input_train[0], labels_train[0])"
   ]
  },
  {
   "cell_type": "code",
   "execution_count": 105,
   "metadata": {
    "ExecuteTime": {
     "end_time": "2018-05-22T14:43:39.929903Z",
     "start_time": "2018-05-22T14:43:39.923867Z"
    }
   },
   "outputs": [
    {
     "data": {
      "text/plain": [
       "['*',\n",
       " 'a',\n",
       " 'p',\n",
       " 'o',\n",
       " 'l',\n",
       " 'o',\n",
       " 'g',\n",
       " 'i',\n",
       " 's',\n",
       " 'o',\n",
       " 'p',\n",
       " '!',\n",
       " '_',\n",
       " '_',\n",
       " '_',\n",
       " '_',\n",
       " '_']"
      ]
     },
     "execution_count": 105,
     "metadata": {},
     "output_type": "execute_result"
    }
   ],
   "source": [
    "prediction = [letters[l] for l in decoded.cpu().numpy().squeeze()]; prediction"
   ]
  },
  {
   "cell_type": "code",
   "execution_count": 159,
   "metadata": {
    "ExecuteTime": {
     "end_time": "2018-05-20T23:47:11.943442Z",
     "start_time": "2018-05-20T23:47:11.880450Z"
    }
   },
   "outputs": [
    {
     "name": "stdout",
     "output_type": "stream",
     "text": [
      "json        2.0.9\n",
      "numpy       1.13.3\n",
      "torch       0.4.0\n",
      "seaborn     0.8.0\n",
      "re          2.2.1\n",
      "CPython 3.6.4\n",
      "IPython 6.1.0\n",
      "\n",
      "compiler   : GCC 7.2.0\n",
      "system     : Linux\n",
      "release    : 4.16.9-1-ARCH\n",
      "machine    : x86_64\n",
      "processor  : \n",
      "CPU cores  : 8\n",
      "interpreter: 64bit\n"
     ]
    }
   ],
   "source": [
    "%load_ext watermark\n",
    "%watermark -iv -v -m"
   ]
  },
  {
   "cell_type": "code",
   "execution_count": 194,
   "metadata": {
    "ExecuteTime": {
     "end_time": "2018-05-20T22:22:17.499647Z",
     "start_time": "2018-05-20T22:22:14.160638Z"
    }
   },
   "outputs": [
    {
     "name": "stdout",
     "output_type": "stream",
     "text": [
      "Encoder Layer 2\n"
     ]
    },
    {
     "data": {
      "image/png": "[encoded data removed]",
      "text/plain": [
       "<matplotlib.figure.Figure at 0x7feeae535630>"
      ]
     },
     "metadata": {},
     "output_type": "display_data"
    },
    {
     "name": "stdout",
     "output_type": "stream",
     "text": [
      "Encoder Layer 4\n"
     ]
    },
    {
     "data": {
      "image/png": "[encoded data removed]",
      "text/plain": [
       "<matplotlib.figure.Figure at 0x7fed42919cc0>"
      ]
     },
     "metadata": {},
     "output_type": "display_data"
    },
    {
     "name": "stdout",
     "output_type": "stream",
     "text": [
      "Encoder Layer 6\n"
     ]
    },
    {
     "data": {
      "image/png": "[encoded data removed]",
      "text/plain": [
       "<matplotlib.figure.Figure at 0x7fed428f96a0>"
      ]
     },
     "metadata": {},
     "output_type": "display_data"
    },
    {
     "name": "stdout",
     "output_type": "stream",
     "text": [
      "Decoder Self Layer 2\n"
     ]
    },
    {
     "data": {
      "image/png": "[encoded data removed]",
      "text/plain": [
       "<matplotlib.figure.Figure at 0x7feeae5359b0>"
      ]
     },
     "metadata": {},
     "output_type": "display_data"
    },
    {
     "name": "stdout",
     "output_type": "stream",
     "text": [
      "Decoder Src Layer 2\n"
     ]
    },
    {
     "data": {
      "image/png": "[encoded data removed]",
      "text/plain": [
       "<matplotlib.figure.Figure at 0x7fed4213ed68>"
      ]
     },
     "metadata": {},
     "output_type": "display_data"
    },
    {
     "name": "stdout",
     "output_type": "stream",
     "text": [
      "Decoder Self Layer 4\n"
     ]
    },
    {
     "data": {
      "image/png": "[encoded data removed]",
      "text/plain": [
       "<matplotlib.figure.Figure at 0x7fed42776f98>"
      ]
     },
     "metadata": {},
     "output_type": "display_data"
    },
    {
     "name": "stdout",
     "output_type": "stream",
     "text": [
      "Decoder Src Layer 4\n"
     ]
    },
    {
     "data": {
      "image/png": "[encoded data removed]",
      "text/plain": [
       "<matplotlib.figure.Figure at 0x7feeaa2a67f0>"
      ]
     },
     "metadata": {},
     "output_type": "display_data"
    },
    {
     "name": "stdout",
     "output_type": "stream",
     "text": [
      "Decoder Self Layer 6\n"
     ]
    },
    {
     "data": {
      "image/png": "[encoded data removed]",
      "text/plain": [
       "<matplotlib.figure.Figure at 0x7feeaa237b38>"
      ]
     },
     "metadata": {},
     "output_type": "display_data"
    },
    {
     "name": "stdout",
     "output_type": "stream",
     "text": [
      "Decoder Src Layer 6\n"
     ]
    },
    {
     "data": {
      "image/png": "[encoded data removed]",
      "text/plain": [
       "<matplotlib.figure.Figure at 0x7fed42afedd8>"
      ]
     },
     "metadata": {},
     "output_type": "display_data"
    }
   ],
   "source": [
    "sent = [phonemes[p] for p in input_test[testd]]\n",
    "tgt_sent = prediction\n",
    "def draw(data, x, y, ax):\n",
    "    seaborn.heatmap(data, \n",
    "                    xticklabels=x, square=True, yticklabels=y, vmin=0.0, vmax=1.0, \n",
    "                    cbar=False, ax=ax)\n",
    "    \n",
    "for layer in range(1, 6, 2):\n",
    "    fig, axs = plt.subplots(1,4, figsize=(20, 10))\n",
    "    print(\"Encoder Layer\", layer+1)\n",
    "    for h in range(4):\n",
    "        draw(model.encoder.layers[layer].self_attn.attn[0, h].data, \n",
    "            sent, sent if h ==0 else [], ax=axs[h])\n",
    "    plt.show()\n",
    "    \n",
    "for layer in range(1, 6, 2):\n",
    "    fig, axs = plt.subplots(1,4, figsize=(20, 10))\n",
    "    print(\"Decoder Self Layer\", layer+1)\n",
    "    for h in range(4):\n",
    "        draw(model.decoder.layers[layer].self_attn.attn[0, h].data[:len(tgt_sent), :len(tgt_sent)], \n",
    "            tgt_sent, tgt_sent if h ==0 else [], ax=axs[h])\n",
    "    plt.show()\n",
    "    print(\"Decoder Src Layer\", layer+1)\n",
    "    fig, axs = plt.subplots(1,4, figsize=(20, 10))\n",
    "    for h in range(4):\n",
    "        draw(model.decoder.layers[layer].self_attn.attn[0, h].data[:len(tgt_sent), :len(sent)], \n",
    "            sent, tgt_sent if h ==0 else [], ax=axs[h])\n",
    "    plt.show()\n"
   ]
  },
  {
   "cell_type": "code",
   "execution_count": null,
   "metadata": {
    "collapsed": true
   },
   "outputs": [],
   "source": []
  }
 ],
 "metadata": {
  "kernelspec": {
   "display_name": "Python 3",
   "language": "python",
   "name": "python3"
  },
  "language_info": {
   "codemirror_mode": {
    "name": "ipython",
    "version": 3
   },
   "file_extension": ".py",
   "mimetype": "text/x-python",
   "name": "python",
   "nbconvert_exporter": "python",
   "pygments_lexer": "ipython3",
   "version": "3.6.4"
  }
 },
 "nbformat": 4,
 "nbformat_minor": 2
}
