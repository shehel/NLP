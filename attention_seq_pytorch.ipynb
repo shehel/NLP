{
 "cells": [
  {
   "cell_type": "markdown",
   "metadata": {},
   "source": [
    "# Attention seq2seq - Pytorch"
   ]
  },
  {
   "cell_type": "markdown",
   "metadata": {},
   "source": [
    "Dataset: [CMU spelling dictionary](http://svn.code.sf.net/p/cmusphinx/code/trunk/cmudict/cmudict-0.7b) <br>\n",
    "The goal of this notebook is to implement a seq2seq attention model and a regular seq2seq is implemented alongside to gain a more complete picture. "
   ]
  },
  {
   "cell_type": "markdown",
   "metadata": {},
   "source": [
    "## Motivating Attention"
   ]
  },
  {
   "cell_type": "markdown",
   "metadata": {},
   "source": [
    "The dataset used in this notebook contains mapping of words in English and their pronounciations as a set of phoneme word pairs like so <br>\n",
    "<small><p style=\"margin-left: 40px\">S-AE1-N-AH0-T-IY0   sanity</p></small>\n",
    "The task is to use a seq2seq model to learn this mapping so that given a set of phonemes, the model outputs the correct word. It can be seen as emulating spelling bee. Given below is an image of the results obtained from a regular seq2seq model\n",
    "<img src=\"seq2seq.png\">\n",
    "The predictions highlighted with red border shows a common problem with seq2seq- If only the context vector, i.e., the last hidden state in the encoder network is passed betweeen the encoder and decoder, that single vector carries the burden of encoding the entire sentence, extending upto the last timestep of the decoder. \n",
    "\n",
    "Attention allows the decoder network to \"focus\" on a different part of the encoder's outputs for every time step of the decoder's own outputs."
   ]
  },
  {
   "cell_type": "code",
   "execution_count": 1,
   "metadata": {
    "ExecuteTime": {
     "end_time": "2018-02-06T09:44:40.052642Z",
     "start_time": "2018-02-06T09:44:38.743052Z"
    },
    "collapsed": true
   },
   "outputs": [],
   "source": [
    "%matplotlib inline\n",
    "\n",
    "import numpy as np\n",
    "import matplotlib.pyplot as plt\n",
    "import matplotlib.ticker as ticker\n",
    "import re\n",
    "import time, math, random\n",
    "from sklearn.model_selection import train_test_split\n",
    "from tqdm import tqdm_notebook\n",
    "\n",
    "import torch.nn as nn\n",
    "import torch.nn.parallel\n",
    "import torch.nn.functional as F\n",
    "from torch.autograd import Variable\n",
    "from torch import optim\n",
    "\n",
    "Path = 'data/'"
   ]
  },
  {
   "cell_type": "code",
   "execution_count": 2,
   "metadata": {
    "ExecuteTime": {
     "end_time": "2018-02-06T09:44:40.057291Z",
     "start_time": "2018-02-06T09:44:40.053715Z"
    },
    "cell_style": "center"
   },
   "outputs": [
    {
     "data": {
      "text/html": [
       "<style>.container { width:100% !important; }</style>"
      ],
      "text/plain": [
       "<IPython.core.display.HTML object>"
      ]
     },
     "metadata": {},
     "output_type": "display_data"
    }
   ],
   "source": [
    "from IPython.core.display import display, HTML\n",
    "display(HTML(\"<style>.container { width:100% !important; }</style>\"))"
   ]
  },
  {
   "cell_type": "markdown",
   "metadata": {},
   "source": [
    "## Preprocessing"
   ]
  },
  {
   "cell_type": "code",
   "execution_count": 3,
   "metadata": {
    "ExecuteTime": {
     "end_time": "2018-02-06T09:44:40.423025Z",
     "start_time": "2018-02-06T09:44:40.058229Z"
    }
   },
   "outputs": [
    {
     "data": {
      "text/plain": [
       "('A', ['AH0'])"
      ]
     },
     "execution_count": 3,
     "metadata": {},
     "output_type": "execute_result"
    }
   ],
   "source": [
    "#Get each word that begins with A-Z from each line into a list \n",
    "lines = [l.strip().split(\"  \") for l in open(Path+'cmudict-0.7b', encoding='latin1') \n",
    "         if re.match('^[A-Z]', l)]\n",
    "#Split words and phonemes\n",
    "lines = [(w, ps.split()) for w, ps in lines]\n",
    "lines[0]"
   ]
  },
  {
   "cell_type": "code",
   "execution_count": 4,
   "metadata": {
    "ExecuteTime": {
     "end_time": "2018-02-06T09:44:40.481256Z",
     "start_time": "2018-02-06T09:44:40.423909Z"
    }
   },
   "outputs": [
    {
     "data": {
      "text/plain": [
       "70"
      ]
     },
     "execution_count": 4,
     "metadata": {},
     "output_type": "execute_result"
    }
   ],
   "source": [
    "#Get a list of all the unique phonemes from lines and adding _ to position 0 because it corresponds to padding\n",
    "#when tokenised\n",
    "phonemes = [\"_\"]+sorted(set(p for w, ps in lines for p in ps))\n",
    "len(phonemes)"
   ]
  },
  {
   "cell_type": "code",
   "execution_count": 5,
   "metadata": {
    "ExecuteTime": {
     "end_time": "2018-02-06T09:44:40.485685Z",
     "start_time": "2018-02-06T09:44:40.482166Z"
    },
    "collapsed": true
   },
   "outputs": [],
   "source": [
    "#Map phonemes to indices and letters to indices.\n",
    "p2i = dict((v, k) for k, v in enumerate(phonemes))\n",
    "letters = \"_abcdefghijklmnopqrstuvwxyz*\"\n",
    "l2i = dict((v, k) for k, v in enumerate(letters))"
   ]
  },
  {
   "cell_type": "code",
   "execution_count": 6,
   "metadata": {
    "ExecuteTime": {
     "end_time": "2018-02-06T09:44:40.732550Z",
     "start_time": "2018-02-06T09:44:40.487034Z"
    }
   },
   "outputs": [
    {
     "data": {
      "text/plain": [
       "108006"
      ]
     },
     "execution_count": 6,
     "metadata": {},
     "output_type": "execute_result"
    }
   ],
   "source": [
    "#Start of sentence token\n",
    "SOS_token = 0\n",
    "\n",
    "maxlen = 15\n",
    "#Map words to corresponding list of phoneme indices with constraints. \n",
    "pronounce_dict = {w.lower(): [p2i[p] for p in ps] for w, ps in lines\n",
    "                    if (5<=len(w)<=maxlen) and re.match(\"^[A-Z]+$\", w)}\n",
    "len(pronounce_dict)"
   ]
  },
  {
   "cell_type": "code",
   "execution_count": 7,
   "metadata": {
    "ExecuteTime": {
     "end_time": "2018-02-06T09:44:40.745350Z",
     "start_time": "2018-02-06T09:44:40.733501Z"
    }
   },
   "outputs": [
    {
     "data": {
      "text/plain": [
       "16"
      ]
     },
     "execution_count": 7,
     "metadata": {},
     "output_type": "execute_result"
    }
   ],
   "source": [
    "maxlen_p = max([len(v) for k,v in pronounce_dict.items()]); maxlen_p"
   ]
  },
  {
   "cell_type": "code",
   "execution_count": 8,
   "metadata": {
    "ExecuteTime": {
     "end_time": "2018-02-06T09:44:41.265409Z",
     "start_time": "2018-02-06T09:44:40.746419Z"
    },
    "collapsed": true
   },
   "outputs": [],
   "source": [
    "#words contain the number of words in the filtered dictionary\n",
    "words = np.random.permutation(list(pronounce_dict.keys()))\n",
    "n = len(words)\n",
    "\n",
    "#Initialise the input and labels array with zeros so that everywhere except \n",
    "#the position of values is padded\n",
    "input_ = np.zeros((n, maxlen_p), np.int32)\n",
    "labels_ = np.zeros((n, maxlen), np.int32)\n",
    "\n",
    "#Fill in the non zero indices\n",
    "for i, k in enumerate(words):\n",
    "    for j, p in enumerate(pronounce_dict[k]): input_[i][j]=p\n",
    "    for j, p in enumerate(k): labels_[i][j] = l2i[p]\n",
    "        "
   ]
  },
  {
   "cell_type": "code",
   "execution_count": 9,
   "metadata": {
    "ExecuteTime": {
     "end_time": "2018-02-06T09:44:41.276098Z",
     "start_time": "2018-02-06T09:44:41.266487Z"
    },
    "collapsed": true
   },
   "outputs": [],
   "source": [
    "#Create train, validation sets\n",
    "(input_train, input_test, labels_train, labels_test, \n",
    "    ) = train_test_split(input_, labels_, test_size=0.1)"
   ]
  },
  {
   "cell_type": "code",
   "execution_count": 10,
   "metadata": {
    "ExecuteTime": {
     "end_time": "2018-02-06T09:44:41.279658Z",
     "start_time": "2018-02-06T09:44:41.277103Z"
    }
   },
   "outputs": [
    {
     "data": {
      "text/plain": [
       "(70, 28)"
      ]
     },
     "execution_count": 10,
     "metadata": {},
     "output_type": "execute_result"
    }
   ],
   "source": [
    "input_vocab_size, output_vocab_size = len(phonemes), len(letters);input_vocab_size, output_vocab_size"
   ]
  },
  {
   "cell_type": "code",
   "execution_count": 11,
   "metadata": {
    "ExecuteTime": {
     "end_time": "2018-02-06T09:44:41.283475Z",
     "start_time": "2018-02-06T09:44:41.280755Z"
    },
    "collapsed": true
   },
   "outputs": [],
   "source": [
    "def get_batch(x, y, batch_size=128):\n",
    "    idxs = np.random.permutation(len(x))[:batch_size]\n",
    "    return x[idxs], y[idxs]"
   ]
  },
  {
   "cell_type": "markdown",
   "metadata": {},
   "source": [
    "## Model"
   ]
  },
  {
   "cell_type": "code",
   "execution_count": 12,
   "metadata": {
    "ExecuteTime": {
     "end_time": "2018-02-06T09:44:41.287416Z",
     "start_time": "2018-02-06T09:44:41.284366Z"
    },
    "collapsed": true
   },
   "outputs": [],
   "source": [
    "dim = 240\n",
    "batch_size = 128"
   ]
  },
  {
   "cell_type": "markdown",
   "metadata": {
    "heading_collapsed": true
   },
   "source": [
    "### Encoder"
   ]
  },
  {
   "cell_type": "code",
   "execution_count": 13,
   "metadata": {
    "ExecuteTime": {
     "end_time": "2018-02-06T09:44:41.312124Z",
     "start_time": "2018-02-06T09:44:41.288318Z"
    },
    "collapsed": true,
    "hidden": true
   },
   "outputs": [],
   "source": [
    "class EncoderRNN(nn.Module):\n",
    "    def __init__(self, input_size, hidden_size, n_layers=1, dropout_p=0.1):\n",
    "        super(EncoderRNN, self).__init__()\n",
    "        self.hidden_size = hidden_size\n",
    "        self.embedding = nn.Embedding(input_size, hidden_size//2)\n",
    "        self.dropout = nn.Dropout(dropout_p)\n",
    "        self.grubi = nn.GRU(hidden_size//2, hidden_size//2, dropout=dropout_p, batch_first=True, num_layers=1,\n",
    "                         bidirectional=True)\n",
    "        self.gru = nn.GRU(hidden_size, hidden_size, batch_first=True, dropout=dropout_p,\n",
    "                            num_layers=1)\n",
    "        \n",
    "    def forward(self, input, hidden):\n",
    "        x = self.embedding(input) \n",
    "        x = self.dropout(x)\n",
    "        \n",
    "        x, hidden = self.grubi(x, hidden)\n",
    "        #Concatenating hidden state to get a single layer because\n",
    "        #bidirectional return a layer for each direction. \n",
    "        hidden = torch.cat(torch.chunk(hidden, 2, 0),2)\n",
    "        output, hidden = self.gru(x, hidden)\n",
    "        \n",
    "        return output, hidden\n",
    "\n",
    "    def initHidden(self, batch_size):\n",
    "        #2 for bidirectional, change to 1 otherwise.\n",
    "        return Variable(torch.zeros(2, batch_size, self.hidden_size//2))"
   ]
  },
  {
   "cell_type": "markdown",
   "metadata": {
    "heading_collapsed": true
   },
   "source": [
    "### Decoder"
   ]
  },
  {
   "cell_type": "code",
   "execution_count": 14,
   "metadata": {
    "ExecuteTime": {
     "end_time": "2018-02-06T09:44:41.326410Z",
     "start_time": "2018-02-06T09:44:41.313040Z"
    },
    "cell_style": "center",
    "code_folding": [],
    "collapsed": true,
    "hidden": true
   },
   "outputs": [],
   "source": [
    "class DecoderRNN(nn.Module):\n",
    "    def __init__(self, hidden_size, output_size, n_layers=1):\n",
    "        super(DecoderRNN, self).__init__()\n",
    "        self.hidden_size = hidden_size\n",
    "        \n",
    "        self.embedding = nn.Embedding(output_size, hidden_size) #Optional\n",
    "        \n",
    "        self.gru = nn.GRU(hidden_size, hidden_size, batch_first=True, num_layers=1)\n",
    "        #self.gru2 = nn.GRU(hidden_size, hidden_size, batch_first=True, num_layers=1)\n",
    "\n",
    "        self.out = nn.Linear(hidden_size, output_size)\n",
    "        self.sm = nn.LogSoftmax()\n",
    "        \n",
    "    def forward(self, input, hidden):\n",
    "        emb = self.embedding(input).unsqueeze(1)\n",
    "        res, hidden = self.gru(emb, hidden)\n",
    "        #res, hidden = self.gru2(res, hidden)\n",
    "        output = self.sm(self.out(res[:,0]))\n",
    "        return output, hidden"
   ]
  },
  {
   "cell_type": "markdown",
   "metadata": {
    "cell_style": "center"
   },
   "source": [
    "### Decoder with Bahdanau Attention"
   ]
  },
  {
   "cell_type": "markdown",
   "metadata": {
    "cell_style": "split"
   },
   "source": [
    "#### Attention module\n",
    "<img src=\"formula.png\">\n",
    "Attn class implements the above equations <br>\n",
    "L - Number of layers,\n",
    "B - Batch size,\n",
    "H - Hidden size"
   ]
  },
  {
   "cell_type": "code",
   "execution_count": 30,
   "metadata": {
    "ExecuteTime": {
     "end_time": "2018-02-06T10:00:29.711894Z",
     "start_time": "2018-02-06T10:00:29.667235Z"
    },
    "cell_style": "center",
    "code_folding": [],
    "collapsed": true
   },
   "outputs": [],
   "source": [
    "class Attn(nn.Module):\n",
    "    def __init__(self, hidden_size):\n",
    "        super(Attn, self).__init__()\n",
    "        self.hidden_size = hidden_size\n",
    "    \n",
    "        self.attn = nn.Linear(self.hidden_size * 2, hidden_size)\n",
    "        self.v = nn.Parameter(nn.init.xavier_normal(torch.rand(1, hidden_size)))\n",
    "        self.softmax = nn.Softmax()\n",
    "        self.tanh = nn.Tanh()\n",
    "    \n",
    "    def forward(self, hidden, encoder_outputs):\n",
    "        '''\n",
    "        Inputs:\n",
    "            hidden - hidden state of previous layer [LxBxH]\n",
    "            encoder_outputs - encoder outputs for each timestep [BxTxH]\n",
    "        Output: \n",
    "            Normalized weightings for each of the encoder output [BxT]\n",
    "        '''\n",
    "        maxlen_p = encoder_outputs.size(1) \n",
    "        H = hidden.repeat(maxlen_p, 1, 1).transpose(0,1)\n",
    "        weights = self.attn(torch.cat([H, encoder_outputs], 2)) #[BxTx2H]->[BxTxH]\n",
    "        weights = self.tanh(weights) \n",
    "        weights = weights.transpose(2,1) #[BxHxT]\n",
    "        v = self.v.repeat(encoder_outputs.data.shape[0],1).unsqueeze(1) #[Bx1xH]\n",
    "        weights = torch.bmm(v, weights) #[Bx1xH]*[BxHxT]->[Bx1xT]\n",
    "        weights = weights.squeeze(1) #softmax requires 2D tensor\n",
    "        return self.softmax(weights).unsqueeze(1)"
   ]
  },
  {
   "cell_type": "code",
   "execution_count": 31,
   "metadata": {
    "ExecuteTime": {
     "end_time": "2018-02-06T10:00:29.980958Z",
     "start_time": "2018-02-06T10:00:29.939516Z"
    },
    "collapsed": true
   },
   "outputs": [],
   "source": [
    "class AttnDecoderRNN(nn.Module):\n",
    "    def __init__(self, hidden_size, output_size, maxlen_p, n_layers=1, dropout_p=0.1):\n",
    "        super(AttnDecoderRNN, self).__init__()\n",
    "        self.hidden_size = hidden_size\n",
    "        self.output_size = output_size\n",
    "        self.maxlen_p = maxlen_p\n",
    "\n",
    "        self.embedding = nn.Embedding(output_size, hidden_size) \n",
    "        self.dropout = nn.Dropout(dropout_p)\n",
    "        self.attn = Attn(hidden_size)\n",
    "        self.gru = nn.GRU(hidden_size*2, hidden_size, batch_first=True, num_layers=1, dropout=dropout_p)\n",
    "        #self.gru2 = nn.GRU(hidden_size, hidden_size, batch_first=True, num_layers=1, dropout=dropout_p)\n",
    "\n",
    "        self.out = nn.Linear(hidden_size, output_size)\n",
    "        self.sm = nn.LogSoftmax()\n",
    "        \n",
    "    def forward(self, input, hidden, enc_outputs):\n",
    "        '''\n",
    "        Inputs:\n",
    "            input - initial token, decoder output or target(teacher forcing) [B] \n",
    "            hidden - hidden state of previous layer [LxBxH]\n",
    "            encoder_outputs - encoder outputs for each timestep [BxTxH]\n",
    "        Output: \n",
    "            Normalized weightings for each of the encoder output [BxT]\n",
    "        '''\n",
    "        emb = self.embedding(input).unsqueeze(1) #[Bx1xH]\n",
    "        emb = self.dropout(emb) \n",
    "        weights = self.attn(hidden, enc_outputs) #[Bx1xT]       \n",
    "        context = weights.bmm(enc_outputs) #[Bx1xT]*[BxTxH]->[Bx1xH]\n",
    "        rnn_input = torch.cat((emb, context), 2) #[Bx1xH*2]\n",
    "        \n",
    "        res, hidden = self.gru(rnn_input, hidden) \n",
    "        #res, hidden = self.gru(rnn_input, hidden)\n",
    "        output = self.sm(self.out(res[:,0]))\n",
    "        return output, hidden"
   ]
  },
  {
   "cell_type": "markdown",
   "metadata": {},
   "source": [
    "## Training"
   ]
  },
  {
   "cell_type": "markdown",
   "metadata": {},
   "source": [
    "### Train loop"
   ]
  },
  {
   "cell_type": "markdown",
   "metadata": {},
   "source": [
    "I - Input sequence length\n",
    "O - Output sequence length"
   ]
  },
  {
   "cell_type": "code",
   "execution_count": 32,
   "metadata": {
    "ExecuteTime": {
     "end_time": "2018-02-06T10:00:32.954875Z",
     "start_time": "2018-02-06T10:00:32.874861Z"
    },
    "cell_style": "center",
    "collapsed": true
   },
   "outputs": [],
   "source": [
    "def train(attention, input_variable, target_variable, encoder, decoder, \n",
    "          encoder_optimizer, decoder_optimizer, criterion, teach_force_t=0.5):\n",
    "    '''\n",
    "    Inputs:\n",
    "        attention - boolean determines if attention needs to be calculated \n",
    "        input_variable - training samples [BxI]\n",
    "        target_variable - used to calculate loss and as decoder input [BxO]\n",
    "        encoder, optimizer \n",
    "        decoder, optimizer\n",
    "        criterion - loss function\n",
    "        teach_force_t - threshold after which teacher force will be used \n",
    "    Output: \n",
    "        loss\n",
    "    '''\n",
    "    batch_size= input_variable.size()[0]\n",
    "    target_length = target_variable.size()[1]\n",
    "    encoder_hidden = encoder.initHidden(batch_size).cuda()\n",
    "    encoder_optimizer.zero_grad()\n",
    "    decoder_optimizer.zero_grad()\n",
    "    loss = 0\n",
    "\n",
    "    encoder_output, encoder_hidden = encoder(input_variable, encoder_hidden)\n",
    "    decoder_hidden = encoder_hidden\n",
    "    \n",
    "    decoder_input = Variable(torch.LongTensor([SOS_token]*batch_size)).cuda()\n",
    "    \n",
    "    if (random.random() > teach_force_t):\n",
    "        for di in range(target_length):\n",
    "            if attention:\n",
    "                decoder_output, decoder_hidden = decoder(decoder_input, decoder_hidden, encoder_output)\n",
    "            else:\n",
    "                decoder_output, decoder_hidden = decoder(decoder_input, decoder_hidden)          \n",
    "\n",
    "            targ = target_variable[:, di]\n",
    "            loss += criterion(decoder_output, targ)\n",
    "            decoder_input = targ\n",
    "            \n",
    "    else:\n",
    "        for di in range(target_length):\n",
    "            if attention:\n",
    "                decoder_output, decoder_hidden = decoder(decoder_input, decoder_hidden, encoder_output)\n",
    "            else:\n",
    "                decoder_output, decoder_hidden = decoder(decoder_input, decoder_hidden)                    \n",
    "            \n",
    "            targ = target_variable[:, di]\n",
    "            loss += criterion(decoder_output, targ)\n",
    "            _, indices = torch.max(decoder_output, 1)\n",
    "            decoder_input = indices\n",
    "            \n",
    "    loss.backward()\n",
    "    encoder_optimizer.step()\n",
    "    decoder_optimizer.step()\n",
    "    return loss.data[0] / target_length"
   ]
  },
  {
   "cell_type": "code",
   "execution_count": 33,
   "metadata": {
    "ExecuteTime": {
     "end_time": "2018-02-06T10:00:33.392298Z",
     "start_time": "2018-02-06T10:00:33.327746Z"
    },
    "code_folding": [],
    "collapsed": true
   },
   "outputs": [],
   "source": [
    "def trainIters(attention, encoder, decoder, iters, print_every=1000, plot_every=100, \n",
    "                learning_rate=0.01):\n",
    "\n",
    "\n",
    "    plot_losses = []\n",
    "    print_loss_total = 0 # Reset every print_every\n",
    "    plot_loss_total = 0 # Reset every plot_every\n",
    "    \n",
    "    encoder_optimizer = optim.Adam(encoder.parameters(), lr=learning_rate, betas=(0.5, 0.999))\n",
    "    decoder_optimizer = optim.Adam(decoder.parameters(), lr=learning_rate, betas=(0.5, 0.999))\n",
    "    criterion = nn.NLLLoss().cuda()\n",
    "\n",
    "    for iter in tqdm_notebook(range(1, iters + 1)):\n",
    "        training_batch = get_batch(input_train, labels_train, 128)\n",
    "        input_variable = Variable(torch.LongTensor((training_batch[0].astype('int64')))).cuda()\n",
    "        target_variable = Variable(torch.LongTensor(training_batch[1].astype('int64'))).cuda()\n",
    "        loss = train(attention, input_variable, target_variable, encoder, decoder, encoder_optimizer, \n",
    "                             decoder_optimizer, criterion)\n",
    "        print_loss_total += loss\n",
    "        plot_loss_total += loss\n",
    "\n",
    "        if iter % print_every == 0:\n",
    "            print_loss_avg = print_loss_total / print_every\n",
    "            print_loss_total = 0\n",
    "            print('Loss: ',print_loss_avg, end=\"\\r\", flush=True)\n",
    "            \n",
    "        if iter % plot_every == 0:\n",
    "            plot_loss_avg = plot_loss_total / plot_every\n",
    "            plot_losses.append(plot_loss_avg)\n",
    "            plot_loss_total = 0\n",
    "    \n",
    "    showPlot(plot_losses)"
   ]
  },
  {
   "cell_type": "markdown",
   "metadata": {},
   "source": [
    "### Train"
   ]
  },
  {
   "cell_type": "code",
   "execution_count": 34,
   "metadata": {
    "ExecuteTime": {
     "end_time": "2018-02-06T10:00:34.494411Z",
     "start_time": "2018-02-06T10:00:34.491074Z"
    },
    "code_folding": [],
    "collapsed": true
   },
   "outputs": [],
   "source": [
    "def showPlot(points):\n",
    "    plt.figure()\n",
    "    fig, ax = plt.subplots()\n",
    "    loc = ticker.MultipleLocator(base=0.2) # this locator puts ticks at regular intervals\n",
    "    ax.yaxis.set_major_locator(loc)\n",
    "    plt.plot(points)"
   ]
  },
  {
   "cell_type": "code",
   "execution_count": 35,
   "metadata": {
    "ExecuteTime": {
     "end_time": "2018-02-06T10:00:35.162781Z",
     "start_time": "2018-02-06T10:00:35.088468Z"
    },
    "collapsed": true
   },
   "outputs": [],
   "source": [
    "encoder = EncoderRNN(input_vocab_size, dim).cuda()\n",
    "#decoder = DecoderRNN(dim, output_vocab_size).cuda(); attn=False\n",
    "decoder = AttnDecoderRNN(dim, output_vocab_size, maxlen_p).cuda(); attn=True"
   ]
  },
  {
   "cell_type": "code",
   "execution_count": 36,
   "metadata": {
    "ExecuteTime": {
     "end_time": "2018-02-06T10:06:52.302823Z",
     "start_time": "2018-02-06T10:00:38.971305Z"
    }
   },
   "outputs": [
    {
     "data": {
      "application/vnd.jupyter.widget-view+json": {
       "model_id": "3726ee5613bc4dfda5a2663f110f273a",
       "version_major": 2,
       "version_minor": 0
      },
      "text/html": [
       "<p>Failed to display Jupyter Widget of type <code>HBox</code>.</p>\n",
       "<p>\n",
       "  If you're reading this message in the Jupyter Notebook or JupyterLab Notebook, it may mean\n",
       "  that the widgets JavaScript is still loading. If this message persists, it\n",
       "  likely means that the widgets JavaScript library is either not installed or\n",
       "  not enabled. See the <a href=\"https://ipywidgets.readthedocs.io/en/stable/user_install.html\">Jupyter\n",
       "  Widgets Documentation</a> for setup instructions.\n",
       "</p>\n",
       "<p>\n",
       "  If you're reading this message in another frontend (for example, a static\n",
       "  rendering on GitHub or <a href=\"https://nbviewer.jupyter.org/\">NBViewer</a>),\n",
       "  it may mean that your frontend doesn't currently support widgets.\n",
       "</p>\n"
      ],
      "text/plain": [
       "HBox(children=(IntProgress(value=0, max=5000), HTML(value='')))"
      ]
     },
     "metadata": {},
     "output_type": "display_data"
    },
    {
     "name": "stdout",
     "output_type": "stream",
     "text": [
      "Loss:  0.25761925824483267\n"
     ]
    },
    {
     "data": {
      "text/plain": [
       "<matplotlib.figure.Figure at 0x7efd2c5d5588>"
      ]
     },
     "metadata": {},
     "output_type": "display_data"
    },
    {
     "data": {
      "image/png": "[encoded data removed]",
      "text/plain": [
       "<matplotlib.figure.Figure at 0x7efcbf98ef98>"
      ]
     },
     "metadata": {},
     "output_type": "display_data"
    }
   ],
   "source": [
    "trainIters(attn, encoder, decoder, 5000, print_every=500, learning_rate=0.0005)"
   ]
  },
  {
   "cell_type": "markdown",
   "metadata": {},
   "source": [
    "## Evaluation"
   ]
  },
  {
   "cell_type": "code",
   "execution_count": 22,
   "metadata": {
    "ExecuteTime": {
     "end_time": "2018-02-06T09:59:49.498395Z",
     "start_time": "2018-02-06T09:59:49.443251Z"
    },
    "code_folding": [],
    "collapsed": true
   },
   "outputs": [],
   "source": [
    "def evaluate(attention, encoder, decoder):  \n",
    "    test_batch = get_batch(input_test, labels_test, batch_size*8)\n",
    "\n",
    "    input_variable = Variable(torch.LongTensor((test_batch[0].astype('int64'))), volatile=True).cuda()\n",
    "    target_variable = Variable(torch.LongTensor(test_batch[1].astype('int64')), volatile=True).cuda()\n",
    "\n",
    "    target_length = target_variable.size()[1]\n",
    "    encoder_hidden = encoder.initHidden(batch_size*8).cuda()\n",
    "\n",
    "    encoder_output, encoder_hidden = encoder(input_variable, encoder_hidden)\n",
    "    decoder_input = Variable(torch.LongTensor([SOS_token]*batch_size*8), volatile=True).cuda()\n",
    "    \n",
    "    decoder_hidden = encoder_hidden\n",
    "    decoded_words = []\n",
    "    for di in range(target_length):\n",
    "        if attention:\n",
    "            decoder_output, decoder_hidden = decoder(decoder_input, decoder_hidden, encoder_output)\n",
    "        else:\n",
    "            decoder_output, decoder_hidden = decoder(decoder_input, decoder_hidden)                \n",
    "        _, indices = torch.max(decoder_output, 1)\n",
    "        decoded_words.append(indices)\n",
    "        decoder_input = indices\n",
    "    preds = []\n",
    "    for x in decoded_words:\n",
    "        preds.append(x.cpu().data.numpy())\n",
    "    preds = np.array(preds).T\n",
    "    print ('Accuracy', np.mean([all(real==p) for real, p in zip(test_batch[1], preds)])*100,'%')\n",
    "    \n",
    "    print ('  Phonemes_________________________________predictions____________label')\n",
    "    for index in range(32):\n",
    "        phoneme = '-'.join([phonemes[p] for p in test_batch[0][index]])\n",
    "        prediction = [letters[l] for l in preds[index]]\n",
    "        real = [letters[l] for l in test_batch[1][index]]\n",
    "        print ('  ',phoneme.strip('-_').ljust(40), ''.join(prediction).strip('_').ljust(20), \n",
    "               ''.join(real).strip('_'))"
   ]
  },
  {
   "cell_type": "code",
   "execution_count": 27,
   "metadata": {
    "ExecuteTime": {
     "end_time": "2018-02-06T09:59:55.023073Z",
     "start_time": "2018-02-06T09:59:54.959667Z"
    }
   },
   "outputs": [
    {
     "name": "stdout",
     "output_type": "stream",
     "text": [
      "Accuracy 36.62109375 %\n",
      "  Phonemes_________________________________predictions____________label\n",
      "   T-AA0-T-Y-AA1-N-AA0                      tatjana              tatyana\n",
      "   UW1-P-L-IH2-NG-K-D                       uplinked             uplinked\n",
      "   M-AH1-L-T-IH0-D-EH2-K-S                  multidex             multidex\n",
      "   JH-AH0-K-AA1-R-T-AH0                     jacarta              jakarta\n",
      "   AW1-T-B-AW2-N-D                          outbound             outbound\n",
      "   N-OW1-B-IH0-S                            nobis                nobis\n",
      "   D-IH0-L-AE1-N-D                          deland               deland\n",
      "   R-IY1-K                                  reake                riecke\n",
      "   L-IY0-OW1-N-Z                            lionns               leones\n",
      "   AH0-N-S-T-R-AH1-K-SH-ER0-D               unstructured         unstructured\n",
      "   IH1-M-P-AH0-L-S-IH0-Z                    impless              impulses\n",
      "   S-T-EH1-N-D-AA0-L                        stendal              stendhal\n",
      "   HH-AE1-N-D-R-EY2-L-Z                     handrails            handrails\n",
      "   S-P-IH1-L-M-AH0-N                        spillman             spillman\n",
      "   F-L-OW1-D                                fload                flowed\n",
      "   W-IH1-N-T-ER0-B-AO2-R-N                  winteebronne         winterbourne\n",
      "   B-R-AE1-D-L-IY2-Z                        bradlees             bradlees\n",
      "   N-AH1-G-AH0-T-S                          nuggets              nuggets\n",
      "   K-IH1-M-IY0                              kimmy                kimmey\n",
      "   M-AY1-K-R-OW0-S-ER2-K-AH0-T              misrocerat           microcircuit\n",
      "   R-AE0-T-AH0-T-UW1-IY0                    ratitui              rattatouille\n",
      "   G-UW1-T-S-IY0                            guotzi               guzzi\n",
      "   K-AH0-V-AO1-R-T-IH0-NG                   covorting            cavorting\n",
      "   F-L-ER1-T-IH0-D                          flurted              flirted\n",
      "   L-EH2-F-T-HH-AE1-N-D                     lefthand             lefthand\n",
      "   K-ER0-T-EY1-L-IH0-NG                     curtailing           curtailing\n",
      "   M-AA2-N-AH0-L-IH1-TH-IH0-K               monalithic           monolithic\n",
      "   B-AE1-T-IH0-K-S                          battics              batiks\n",
      "   EH1-R-L-IH2-F-T-IH0-D                    airlifted            airlifted\n",
      "   T-AA1-M-AH0-HH-AO2-K-S                   tomahox              tomahawks\n",
      "   D-AH1-G-IH0-N-Z                          duggins              duggins\n",
      "   R-IY0-B-R-AO1-D-K-AE2-S-T                rebrodcast           rebroadcast\n"
     ]
    }
   ],
   "source": [
    "evaluate(attn, encoder, decoder)"
   ]
  },
  {
   "cell_type": "markdown",
   "metadata": {
    "heading_collapsed": true
   },
   "source": [
    "## Serialization"
   ]
  },
  {
   "cell_type": "code",
   "execution_count": null,
   "metadata": {
    "ExecuteTime": {
     "end_time": "2018-02-05T17:32:46.698933Z",
     "start_time": "2018-02-05T17:32:46.678550Z"
    },
    "collapsed": true,
    "hidden": true
   },
   "outputs": [],
   "source": [
    "torch.save(encoder, 'models/encoder.dat')\n",
    "torch.save(decoder, 'models/decoder.dat')"
   ]
  },
  {
   "cell_type": "code",
   "execution_count": null,
   "metadata": {
    "collapsed": true,
    "hidden": true
   },
   "outputs": [],
   "source": [
    "encoder = torch.load('models/encoder.dat')\n",
    "decoder = torch.load('models/decoder.dat')"
   ]
  },
  {
   "cell_type": "markdown",
   "metadata": {},
   "source": [
    "## References \n",
    "<ol>\n",
    "<li>[Neural Machine Translation by Jointly Learning to Align and Translate](https://arxiv.org/abs/1409.0473)</li>\n",
    "<li>[Spro's seq2seq Pytorch Tutorial](https://github.com/spro/practical-pytorch/blob/master/seq2seq-translation/seq2seq-translation.ipynb)</li> \n",
    "<li>[fast.ai MOOC](http://www.fast.ai/)</li>\n",
    "<li>[AuCson's implementation](https://github.com/AuCson/PyTorch-Batch-Attention-Seq2seq/blob/master/attentionRNN.py)</li>\n",
    "<li>[Datalogue Blog about attention](https://medium.com/datalogue/attention-in-keras-1892773a4f22)\n",
    "</ol>\n"
   ]
  }
 ],
 "metadata": {
  "kernelspec": {
   "display_name": "Python 3",
   "language": "python",
   "name": "python3"
  },
  "language_info": {
   "codemirror_mode": {
    "name": "ipython",
    "version": 3
   },
   "file_extension": ".py",
   "mimetype": "text/x-python",
   "name": "python",
   "nbconvert_exporter": "python",
   "pygments_lexer": "ipython3",
   "version": "3.6.2"
  },
  "latex_envs": {
   "LaTeX_envs_menu_present": true,
   "autocomplete": true,
   "bibliofile": "biblio.bib",
   "cite_by": "apalike",
   "current_citInitial": 1,
   "eqLabelWithNumbers": true,
   "eqNumInitial": 1,
   "hotkeys": {
    "equation": "Ctrl-E",
    "itemize": "Ctrl-I"
   },
   "labels_anchors": false,
   "latex_user_defs": false,
   "report_style_numbering": false,
   "user_envs_cfg": false
  }
 },
 "nbformat": 4,
 "nbformat_minor": 2
}
