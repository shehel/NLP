{
 "cells": [
  {
   "cell_type": "markdown",
   "metadata": {},
   "source": [
    "# Attention, Beamsearch seq2seq - Pytorch"
   ]
  },
  {
   "cell_type": "markdown",
   "metadata": {},
   "source": [
    "Dataset: [CMU spelling dictionary](http://svn.code.sf.net/p/cmusphinx/code/trunk/cmudict/cmudict-0.7b) <br>\n",
    "The goal of this notebook is to implement a seq2seq attention model and a regular seq2seq is implemented alongside to gain a more complete picture.  "
   ]
  },
  {
   "cell_type": "markdown",
   "metadata": {},
   "source": [
    "## Motivating Attention"
   ]
  },
  {
   "cell_type": "markdown",
   "metadata": {},
   "source": [
    "The dataset used in this notebook contains mapping of words in English and their pronounciations as a set of phoneme word pairs like so <br>\n",
    "<small><p style=\"margin-left: 40px\">S-AE1-N-AH0-T-IY0   sanity</p></small>\n",
    "The task is to use a seq2seq model to learn this mapping so that given a set of phonemes, the model outputs the correct word. It can be seen as emulating spelling bee. Given below is an image of the results obtained from a regular seq2seq model\n",
    "<img src=\"png/seq2seq.png\">\n",
    "The predictions highlighted with red border shows a common problem with seq2seq- If only the context vector, i.e., the last hidden state in the encoder network is passed betweeen the encoder and decoder, that single vector carries the burden of encoding the entire sentence, extending upto the last timestep of the decoder. \n",
    "\n",
    "Attention allows the decoder network to \"focus\" on a different part of the encoder's outputs for every time step of the decoder's own outputs."
   ]
  },
  {
   "cell_type": "code",
   "execution_count": 160,
   "metadata": {
    "ExecuteTime": {
     "end_time": "2018-02-19T09:48:59.852303Z",
     "start_time": "2018-02-19T09:48:59.843398Z"
    },
    "collapsed": true
   },
   "outputs": [],
   "source": [
    "%matplotlib inline\n",
    "\n",
    "import numpy as np\n",
    "import matplotlib.pyplot as plt\n",
    "import matplotlib.ticker as ticker\n",
    "import re\n",
    "import time, math, random\n",
    "from sklearn.model_selection import train_test_split\n",
    "from tqdm import tqdm_notebook\n",
    "import pdb\n",
    "\n",
    "import torch.nn as nn\n",
    "import torch.nn.parallel\n",
    "import torch.nn.functional as F\n",
    "import torch.optim as optim\n",
    "from torch.autograd import Variable\n",
    "from torch.optim import lr_scheduler\n",
    "\n",
    "from clr import CyclicLR\n",
    "Path = 'data/'"
   ]
  },
  {
   "cell_type": "code",
   "execution_count": 161,
   "metadata": {
    "ExecuteTime": {
     "end_time": "2018-02-19T09:49:00.095328Z",
     "start_time": "2018-02-19T09:49:00.093099Z"
    },
    "cell_style": "center"
   },
   "outputs": [
    {
     "data": {
      "text/html": [
       "<style>.container { width:100% !important; }</style>"
      ],
      "text/plain": [
       "<IPython.core.display.HTML object>"
      ]
     },
     "metadata": {},
     "output_type": "display_data"
    }
   ],
   "source": [
    "from IPython.core.display import display, HTML\n",
    "display(HTML(\"<style>.container { width:100% !important; }</style>\"))"
   ]
  },
  {
   "cell_type": "markdown",
   "metadata": {},
   "source": [
    "## Preprocessing"
   ]
  },
  {
   "cell_type": "code",
   "execution_count": 162,
   "metadata": {
    "ExecuteTime": {
     "end_time": "2018-02-19T09:49:01.101452Z",
     "start_time": "2018-02-19T09:49:00.699309Z"
    }
   },
   "outputs": [
    {
     "data": {
      "text/plain": [
       "('A', ['AH0'])"
      ]
     },
     "execution_count": 162,
     "metadata": {},
     "output_type": "execute_result"
    }
   ],
   "source": [
    "#Get each word that begins with A-Z from each line into a list \n",
    "lines = [l.strip().split(\"  \") for l in open(Path+'cmudict-0.7b', encoding='latin1') \n",
    "         if re.match('^[A-Z]', l)]\n",
    "#Split words and phonemes\n",
    "lines = [(w, ps.split()) for w, ps in lines]\n",
    "lines[0]"
   ]
  },
  {
   "cell_type": "code",
   "execution_count": 163,
   "metadata": {
    "ExecuteTime": {
     "end_time": "2018-02-19T09:49:01.788823Z",
     "start_time": "2018-02-19T09:49:01.739278Z"
    }
   },
   "outputs": [
    {
     "data": {
      "text/plain": [
       "70"
      ]
     },
     "execution_count": 163,
     "metadata": {},
     "output_type": "execute_result"
    }
   ],
   "source": [
    "#Get a list of all the unique phonemes from lines and adding _ to position 0 because it corresponds to padding\n",
    "#when tokenised\n",
    "phonemes = [\"_\"]+sorted(set(p for w, ps in lines for p in ps))\n",
    "len(phonemes)"
   ]
  },
  {
   "cell_type": "code",
   "execution_count": 164,
   "metadata": {
    "ExecuteTime": {
     "end_time": "2018-02-19T09:49:02.125295Z",
     "start_time": "2018-02-19T09:49:02.122999Z"
    },
    "collapsed": true
   },
   "outputs": [],
   "source": [
    "#Map phonemes to indices and letters to indices.\n",
    "p2i = dict((v, k) for k, v in enumerate(phonemes))\n",
    "letters = \"_abcdefghijklmnopqrstuvwxyz*\"\n",
    "l2i = dict((v, k) for k, v in enumerate(letters))"
   ]
  },
  {
   "cell_type": "code",
   "execution_count": 165,
   "metadata": {
    "ExecuteTime": {
     "end_time": "2018-02-19T09:49:03.513293Z",
     "start_time": "2018-02-19T09:49:03.243288Z"
    }
   },
   "outputs": [
    {
     "data": {
      "text/plain": [
       "108006"
      ]
     },
     "execution_count": 165,
     "metadata": {},
     "output_type": "execute_result"
    }
   ],
   "source": [
    "#Start of sentence token\n",
    "SOS_token = 0\n",
    "\n",
    "maxlen = 15\n",
    "#Map words to corresponding list of phoneme indices with constraints. \n",
    "pronounce_dict = {w.lower(): [p2i[p] for p in ps] for w, ps in lines\n",
    "                    if (5<=len(w)<=maxlen) and re.match(\"^[A-Z]+$\", w)}\n",
    "len(pronounce_dict)"
   ]
  },
  {
   "cell_type": "code",
   "execution_count": 166,
   "metadata": {
    "ExecuteTime": {
     "end_time": "2018-02-19T09:49:03.965178Z",
     "start_time": "2018-02-19T09:49:03.955098Z"
    }
   },
   "outputs": [
    {
     "data": {
      "text/plain": [
       "16"
      ]
     },
     "execution_count": 166,
     "metadata": {},
     "output_type": "execute_result"
    }
   ],
   "source": [
    "maxlen_p = max([len(v) for k,v in pronounce_dict.items()]); maxlen_p"
   ]
  },
  {
   "cell_type": "code",
   "execution_count": null,
   "metadata": {
    "collapsed": true
   },
   "outputs": [],
   "source": []
  },
  {
   "cell_type": "code",
   "execution_count": 256,
   "metadata": {
    "ExecuteTime": {
     "end_time": "2018-02-19T10:33:39.130131Z",
     "start_time": "2018-02-19T10:33:38.562625Z"
    }
   },
   "outputs": [],
   "source": [
    "lines = [l.strip().split(\"  \") for l in open(Path+'bpe1.txt', encoding='latin1')]\n",
    "\n",
    "clines = [sentence[0].replace(\" \", \"\") for sentence in lines]\n",
    "\n",
    "sep = [sentence.split('@@') for sentence in clines]\n",
    "\n",
    "flat_list = [item for sublist in sep for item in sublist]\n",
    "\n",
    "letters = list(set(flat_list))\n",
    "letters.insert(0,'_')\n",
    "n = len(sep); n\n",
    "\n",
    "l2i = dict((v, k) for k, v in enumerate(letters))\n",
    "\n",
    "input_ = np.zeros((n, maxlen_p), np.int32)\n",
    "labels_ = np.zeros((n, 10), np.int32)\n",
    "\n",
    "for i, k in enumerate(sep):\n",
    "    for j, p in enumerate(pronounce_dict[''.join(k)]): input_[i][j]=p\n",
    "    for j, p in enumerate(k): labels_[i][j] = l2i[p]\n",
    "    "
   ]
  },
  {
   "cell_type": "code",
   "execution_count": 167,
   "metadata": {
    "ExecuteTime": {
     "end_time": "2018-02-19T09:49:06.758089Z",
     "start_time": "2018-02-19T09:49:06.739152Z"
    },
    "collapsed": true
   },
   "outputs": [],
   "source": [
    "#words contain the number of words in the filtered dictionary\n",
    "words = np.random.permutation(list(pronounce_dict.keys()))\n",
    "n = len(words)"
   ]
  },
  {
   "cell_type": "code",
   "execution_count": 168,
   "metadata": {
    "ExecuteTime": {
     "end_time": "2018-02-19T09:49:09.608476Z",
     "start_time": "2018-02-19T09:49:09.586879Z"
    }
   },
   "outputs": [
    {
     "data": {
      "text/plain": [
       "935323"
      ]
     },
     "execution_count": 168,
     "metadata": {},
     "output_type": "execute_result"
    }
   ],
   "source": [
    "thefile = open('test2.txt', 'w')\n",
    "thefile.write(\"\\n\".join(words))"
   ]
  },
  {
   "cell_type": "code",
   "execution_count": 8,
   "metadata": {
    "ExecuteTime": {
     "end_time": "2018-02-17T14:30:16.513007Z",
     "start_time": "2018-02-17T14:30:16.060808Z"
    },
    "collapsed": true
   },
   "outputs": [],
   "source": [
    "\n",
    "\n",
    "#Initialise the input and labels array with zeros so that everywhere except \n",
    "#the position of values is padded\n",
    "input_ = np.zeros((n, maxlen_p), np.int32)\n",
    "labels_ = np.zeros((n, maxlen), np.int32)\n",
    "\n",
    "#Fill in the non zero indices\n",
    "for i, k in enumerate(words):\n",
    "    for j, p in enumerate(pronounce_dict[k]): input_[i][j]=p\n",
    "    for j, p in enumerate(k): labels_[i][j] = l2i[p]\n",
    "        "
   ]
  },
  {
   "cell_type": "code",
   "execution_count": 257,
   "metadata": {
    "ExecuteTime": {
     "end_time": "2018-02-19T10:33:50.903927Z",
     "start_time": "2018-02-19T10:33:50.896206Z"
    },
    "collapsed": true
   },
   "outputs": [],
   "source": [
    "#Create train, validation sets\n",
    "(input_train, input_test, labels_train, labels_test, \n",
    "    ) = train_test_split(input_, labels_, test_size=0.1)"
   ]
  },
  {
   "cell_type": "code",
   "execution_count": 258,
   "metadata": {
    "ExecuteTime": {
     "end_time": "2018-02-19T10:33:51.379176Z",
     "start_time": "2018-02-19T10:33:51.376769Z"
    }
   },
   "outputs": [
    {
     "data": {
      "text/plain": [
       "(70, 457)"
      ]
     },
     "execution_count": 258,
     "metadata": {},
     "output_type": "execute_result"
    }
   ],
   "source": [
    "input_vocab_size, output_vocab_size = len(phonemes), len(letters);input_vocab_size, output_vocab_size"
   ]
  },
  {
   "cell_type": "code",
   "execution_count": 259,
   "metadata": {
    "ExecuteTime": {
     "end_time": "2018-02-19T10:33:56.746425Z",
     "start_time": "2018-02-19T10:33:56.744211Z"
    },
    "collapsed": true
   },
   "outputs": [],
   "source": [
    "def get_batch(x, y, batch_size=128):\n",
    "    idxs = np.random.permutation(len(x))[:batch_size]\n",
    "    return x[idxs], y[idxs]"
   ]
  },
  {
   "cell_type": "code",
   "execution_count": 260,
   "metadata": {
    "ExecuteTime": {
     "end_time": "2018-02-19T10:33:56.954453Z",
     "start_time": "2018-02-19T10:33:56.952256Z"
    }
   },
   "outputs": [
    {
     "data": {
      "text/plain": [
       "array([42, 36, 21, 45, 38,  0,  0,  0,  0,  0,  0,  0,  0,  0,  0,  0], dtype=int32)"
      ]
     },
     "execution_count": 260,
     "metadata": {},
     "output_type": "execute_result"
    }
   ],
   "source": [
    "input_train[1]"
   ]
  },
  {
   "cell_type": "markdown",
   "metadata": {},
   "source": [
    "## Model"
   ]
  },
  {
   "cell_type": "code",
   "execution_count": 261,
   "metadata": {
    "ExecuteTime": {
     "end_time": "2018-02-19T10:33:57.566332Z",
     "start_time": "2018-02-19T10:33:57.564539Z"
    },
    "collapsed": true
   },
   "outputs": [],
   "source": [
    "dim = 512#Hidden units\n",
    "batch_size = 128\n",
    "ln = 0.7 #Length normalization parameter for beam search"
   ]
  },
  {
   "cell_type": "markdown",
   "metadata": {},
   "source": [
    "### Encoder"
   ]
  },
  {
   "cell_type": "code",
   "execution_count": 262,
   "metadata": {
    "ExecuteTime": {
     "end_time": "2018-02-19T10:33:58.131902Z",
     "start_time": "2018-02-19T10:33:58.108409Z"
    },
    "collapsed": true
   },
   "outputs": [],
   "source": [
    "class EncoderRNN(nn.Module):\n",
    "    def __init__(self, input_size, hidden_size, n_layers=1, dropout_p=0.1):\n",
    "        super(EncoderRNN, self).__init__()\n",
    "        self.hidden_size = hidden_size\n",
    "        self.embedding = nn.Embedding(input_size, hidden_size//2)\n",
    "        self.dropout = nn.Dropout(dropout_p)\n",
    "        self.grubi = nn.GRU(hidden_size//2, hidden_size//2, dropout=dropout_p, batch_first=True, num_layers=1,\n",
    "                         bidirectional=True)\n",
    "        self.gru = nn.GRU(hidden_size, hidden_size, batch_first=True, dropout=dropout_p,\n",
    "                            num_layers=1)\n",
    "        self.gru2 = nn.GRU(hidden_size, hidden_size, batch_first=True, dropout=dropout_p,num_layers=1)\n",
    "    def forward(self, input, hidden):\n",
    "        x = self.embedding(input) \n",
    "        x = self.dropout(x)\n",
    "        \n",
    "        x, hidden = self.grubi(x, hidden)\n",
    "        #Concatenating hidden state to get a single layer because\n",
    "        #bidirectional return a layer for each direction. \n",
    "        hidden = torch.cat(torch.chunk(hidden, 2, 0),2)\n",
    "        output, hidden = self.gru(x, hidden)\n",
    "        output, hidden = self.gru2(x, hidden)\n",
    "        return output, hidden\n",
    "\n",
    "    def initHidden(self, batch_size):\n",
    "        #2 for bidirectional, change to 1 otherwise.\n",
    "        return Variable(torch.zeros(2, batch_size, self.hidden_size//2))"
   ]
  },
  {
   "cell_type": "markdown",
   "metadata": {},
   "source": [
    "### Decoder"
   ]
  },
  {
   "cell_type": "code",
   "execution_count": 263,
   "metadata": {
    "ExecuteTime": {
     "end_time": "2018-02-19T10:33:58.581729Z",
     "start_time": "2018-02-19T10:33:58.567776Z"
    },
    "cell_style": "center",
    "code_folding": [],
    "collapsed": true
   },
   "outputs": [],
   "source": [
    "class DecoderRNN(nn.Module):\n",
    "    def __init__(self, hidden_size, output_size, n_layers=1):\n",
    "        super(DecoderRNN, self).__init__()\n",
    "        self.hidden_size = hidden_size\n",
    "        \n",
    "        self.embedding = nn.Embedding(output_size, hidden_size) #Optional\n",
    "        \n",
    "        self.gru = nn.GRU(hidden_size, hidden_size, batch_first=True, num_layers=1)\n",
    "        #self.gru2 = nn.GRU(hidden_size, hidden_size, batch_first=True, num_layers=1)\n",
    "\n",
    "        self.out = nn.Linear(hidden_size, output_size)\n",
    "        self.sm = nn.LogSoftmax()\n",
    "        \n",
    "    def forward(self, input, hidden):\n",
    "        emb = self.embedding(input).unsqueeze(1)\n",
    "        res, hidden = self.gru(emb, hidden)\n",
    "        #res, hidden = self.gru2(res, hidden)\n",
    "        output = self.sm(self.out(res[:,0]))\n",
    "        return output, hidden"
   ]
  },
  {
   "cell_type": "markdown",
   "metadata": {
    "cell_style": "center"
   },
   "source": [
    "### Decoder with Bahdanau Attention"
   ]
  },
  {
   "cell_type": "markdown",
   "metadata": {
    "cell_style": "split"
   },
   "source": [
    "#### Attention module\n",
    "<img src=\"png/formular.png\">\n",
    "Attn class implements the above equations <br>\n",
    "L - Number of layers,\n",
    "B - Batch size,\n",
    "H - Hidden size"
   ]
  },
  {
   "cell_type": "code",
   "execution_count": 264,
   "metadata": {
    "ExecuteTime": {
     "end_time": "2018-02-19T10:33:59.377134Z",
     "start_time": "2018-02-19T10:33:59.362730Z"
    },
    "cell_style": "center",
    "code_folding": [],
    "collapsed": true
   },
   "outputs": [],
   "source": [
    "class Attn(nn.Module):\n",
    "    def __init__(self, hidden_size):\n",
    "        super(Attn, self).__init__()\n",
    "        self.hidden_size = hidden_size\n",
    "    \n",
    "        self.attn = nn.Linear(self.hidden_size * 2, hidden_size)\n",
    "        self.v = nn.Parameter(nn.init.xavier_normal(torch.rand(1, hidden_size)))\n",
    "        self.softmax = nn.Softmax()\n",
    "        self.tanh = nn.Tanh()\n",
    "    \n",
    "    def forward(self, hidden, encoder_outputs):\n",
    "        '''\n",
    "        Inputs:\n",
    "            hidden - hidden state of previous layer [LxBxH]\n",
    "            encoder_outputs - encoder outputs for each timestep [BxTxH]\n",
    "        Output: \n",
    "            Normalized weightings for each of the encoder output [BxT]\n",
    "        '''\n",
    "        maxlen_p = encoder_outputs.size(1) \n",
    "        H = hidden.repeat(maxlen_p, 1, 1).transpose(0,1)\n",
    "        weights = self.attn(torch.cat([H, encoder_outputs], 2)) #[BxTx2H]->[BxTxH]\n",
    "        weights = self.tanh(weights) \n",
    "        weights = weights.transpose(2,1) #[BxHxT]\n",
    "        v = self.v.repeat(encoder_outputs.data.shape[0],1).unsqueeze(1) #[Bx1xH]\n",
    "        weights = torch.bmm(v, weights) #[Bx1xH]*[BxHxT]->[Bx1xT]\n",
    "        weights = weights.squeeze(1) #softmax requires 2D tensor\n",
    "        return self.softmax(weights).unsqueeze(1)"
   ]
  },
  {
   "cell_type": "code",
   "execution_count": 265,
   "metadata": {
    "ExecuteTime": {
     "end_time": "2018-02-19T10:33:59.713104Z",
     "start_time": "2018-02-19T10:33:59.688260Z"
    },
    "collapsed": true
   },
   "outputs": [],
   "source": [
    "class AttnDecoderRNN(nn.Module):\n",
    "    def __init__(self, hidden_size, output_size, maxlen_p, n_layers=1, dropout_p=0.1):\n",
    "        super(AttnDecoderRNN, self).__init__()\n",
    "        self.hidden_size = hidden_size\n",
    "        self.output_size = output_size\n",
    "        self.maxlen_p = maxlen_p\n",
    "\n",
    "        self.embedding = nn.Embedding(output_size, hidden_size) \n",
    "        self.dropout = nn.Dropout(dropout_p)\n",
    "        self.attn = Attn(hidden_size)\n",
    "        self.gru = nn.GRU(hidden_size*2, hidden_size, batch_first=True, num_layers=1, dropout=dropout_p)\n",
    "        self.gru2 = nn.GRU(hidden_size, hidden_size, batch_first=True, num_layers=1, dropout=dropout_p)\n",
    "\n",
    "        self.out = nn.Linear(hidden_size, output_size)\n",
    "        self.sm = nn.LogSoftmax()\n",
    "        \n",
    "    def forward(self, input, hidden, enc_outputs):\n",
    "        '''\n",
    "        Inputs:\n",
    "            input - initial token, decoder output or target(teacher forcing) [B] \n",
    "            hidden - hidden state of previous layer [LxBxH]\n",
    "            encoder_outputs - encoder outputs for each timestep [BxTxH]\n",
    "        Output: \n",
    "            Normalized weightings for each of the encoder output [BxT]\n",
    "        '''\n",
    "        emb = self.embedding(input).unsqueeze(1) #[Bx1xH]\n",
    "        emb = self.dropout(emb) \n",
    "        weights = self.attn(hidden, enc_outputs) #[Bx1xT]       \n",
    "        context = weights.bmm(enc_outputs) #[Bx1xT]*[BxTxH]->[Bx1xH]\n",
    "        rnn_input = torch.cat((emb, context), 2) #[Bx1xH*2]\n",
    "        \n",
    "        res, hidden = self.gru(rnn_input, hidden) \n",
    "        res, hidden = self.gru(rnn_input, hidden)\n",
    "        output = self.sm(self.out(res[:,0]))\n",
    "        return output, hidden"
   ]
  },
  {
   "cell_type": "markdown",
   "metadata": {},
   "source": [
    "## Training"
   ]
  },
  {
   "cell_type": "markdown",
   "metadata": {},
   "source": [
    "### Train loop"
   ]
  },
  {
   "cell_type": "markdown",
   "metadata": {},
   "source": [
    "I - Input sequence length\n",
    "O - Output sequence length"
   ]
  },
  {
   "cell_type": "code",
   "execution_count": 266,
   "metadata": {
    "ExecuteTime": {
     "end_time": "2018-02-19T10:34:01.779293Z",
     "start_time": "2018-02-19T10:34:01.744004Z"
    },
    "cell_style": "center",
    "collapsed": true
   },
   "outputs": [],
   "source": [
    "def train(attention, input_variable, target_variable, encoder, decoder, \n",
    "          encoder_optimizer, decoder_optimizer, criterion, teach_force_t):\n",
    "    '''\n",
    "    Inputs:\n",
    "        attention - boolean determines if attention needs to be calculated \n",
    "        input_variable - training samples [BxI]\n",
    "        target_variable - used to calculate loss and as decoder input [BxO]\n",
    "        encoder, optimizer \n",
    "        decoder, optimizer\n",
    "        criterion - loss function\n",
    "        teach_force_t - threshold after which teacher force will be used \n",
    "    Output: \n",
    "        loss\n",
    "    '''\n",
    "    batch_size= input_variable.size()[0]\n",
    "    target_length = target_variable.size()[1]\n",
    "    encoder_hidden = encoder.initHidden(batch_size).cuda()\n",
    "    encoder_optimizer.zero_grad()\n",
    "    decoder_optimizer.zero_grad()\n",
    "    loss = 0\n",
    "\n",
    "    encoder_output, encoder_hidden = encoder(input_variable, encoder_hidden)\n",
    "    decoder_hidden = encoder_hidden\n",
    "    \n",
    "    decoder_input = Variable(torch.LongTensor([SOS_token]*batch_size)).cuda()\n",
    "    \n",
    "    if (random.random() > teach_force_t):\n",
    "        for di in range(target_length):\n",
    "            if attention:\n",
    "                decoder_output, decoder_hidden = decoder(decoder_input, decoder_hidden, encoder_output)\n",
    "            else:\n",
    "                decoder_output, decoder_hidden = decoder(decoder_input, decoder_hidden)          \n",
    "\n",
    "            targ = target_variable[:, di]\n",
    "            loss += criterion(decoder_output, targ)\n",
    "            decoder_input = targ\n",
    "        \n",
    "            \n",
    "    else:\n",
    "        for di in range(target_length):\n",
    "            if attention:\n",
    "                decoder_output, decoder_hidden = decoder(decoder_input, decoder_hidden, encoder_output)\n",
    "            else:\n",
    "                decoder_output, decoder_hidden = decoder(decoder_input, decoder_hidden)                    \n",
    "            \n",
    "            targ = target_variable[:, di]\n",
    "            loss += criterion(decoder_output, targ)\n",
    "            _, indices = torch.max(decoder_output, 1)\n",
    "            decoder_input = indices\n",
    "    loss.backward()\n",
    "    encoder_optimizer.step()\n",
    "    decoder_optimizer.step()\n",
    "    \n",
    "    return loss.data[0] / target_length"
   ]
  },
  {
   "cell_type": "code",
   "execution_count": 369,
   "metadata": {
    "ExecuteTime": {
     "end_time": "2018-02-19T12:11:08.332785Z",
     "start_time": "2018-02-19T12:11:08.277135Z"
    },
    "code_folding": [],
    "collapsed": true
   },
   "outputs": [],
   "source": [
    "def trainIters(attention, encoder, decoder, iters, print_every=1000, plot_every=100, \n",
    "                learning_rate=0.01, teacher_force_t=0.5):\n",
    "\n",
    "    lrs = []\n",
    "    plot_losses = []\n",
    "    print_loss_total = 0 # Reset every print_every\n",
    "    plot_loss_total = 0 # Reset every plot_every\n",
    "    best_loss = 10\n",
    "    encoder_optimizer = optim.SGD(encoder.parameters(), lr=learning_rate, momentum=0.9)\n",
    "    decoder_optimizer = optim.SGD(decoder.parameters(), lr=learning_rate, momentum=0.9)\n",
    "    criterion = nn.NLLLoss().cuda()\n",
    "    clr = CyclicLR(decoder_optimizer, base_lr=0.0001, max_lr=0.005, step_size=2*(len(input_train)/128), \n",
    "           mode='exp_range', scale_mode='iterations')\n",
    "    clr2 = CyclicLR(encoder_optimizer, base_lr=0.0001, max_lr=0.005, step_size=2*(len(input_train)/128), \n",
    "           mode='exp_range', scale_mode='iterations')\n",
    "    #clr_find = CyclicLR(decoder_optimizer, base_lr=1e-6, max_lr=0.05, step_size=360, mode='finder', scale_mode='iterations')\n",
    "    canneal = optim.lr_scheduler.CosineAnnealingLR(decoder_optimizer, T_max=(len(input_train)/128), eta_min=0.0001)\n",
    "    canneal = optim.lr_scheduler.CosineAnnealingLR(encoder_optimizer, T_max=(len(input_train)/128), eta_min=0.00001)\n",
    "  \n",
    "    for iter in tqdm_notebook(range(1, iters + 1)):\n",
    "        training_batch = get_batch(input_train, labels_train, 128)\n",
    "        input_variable = Variable(torch.LongTensor((training_batch[0].astype('int64')))).cuda()\n",
    "        target_variable = Variable(torch.LongTensor(training_batch[1].astype('int64'))).cuda()\n",
    "        loss = train(attention, input_variable, target_variable, encoder, decoder, encoder_optimizer, \n",
    "                             decoder_optimizer, criterion, teacher_force_t)\n",
    "        '''if loss < best_loss:\n",
    "            best_loss = loss\n",
    "        if loss > best_loss*2:\n",
    "            break'''\n",
    "        #canneal.step()\n",
    "        #canneal.step()\n",
    "        clr.batch_step()\n",
    "        clr2.batch_step()\n",
    "        #clr_find.batch_step()\n",
    "        print_loss_total += loss\n",
    "        plot_loss_total += loss\n",
    "\n",
    "        if iter % print_every == 0:\n",
    "            print_loss_avg = print_loss_total / print_every\n",
    "            print_loss_total = 0\n",
    "            print('Loss: ',print_loss_avg, 'LR: ', clr.get_lr(),  end=\"\\r\", flush=True)\n",
    "            \n",
    "        if iter % plot_every == 0:\n",
    "            lrs.append(clr.get_lr())\n",
    "            plot_loss_avg = plot_loss_total / plot_every\n",
    "            plot_losses.append(plot_loss_avg)\n",
    "            plot_loss_total = 0\n",
    "    plot_lr_loss(plot_losses, lrs)\n",
    "    showPlot(plot_losses)"
   ]
  },
  {
   "cell_type": "markdown",
   "metadata": {},
   "source": [
    "### Train"
   ]
  },
  {
   "cell_type": "code",
   "execution_count": 268,
   "metadata": {
    "ExecuteTime": {
     "end_time": "2018-02-19T10:34:09.410627Z",
     "start_time": "2018-02-19T10:34:09.407792Z"
    },
    "collapsed": true
   },
   "outputs": [],
   "source": [
    "def plot_lr_loss(losses, lrs):\n",
    "    plt.ylabel(\"Loss\")\n",
    "    plt.xlabel(\"learning rate (log scale)\")\n",
    "    plt.plot(lrs, losses)\n",
    "    plt.xscale('log')\n",
    "\n",
    "\n"
   ]
  },
  {
   "cell_type": "code",
   "execution_count": 269,
   "metadata": {
    "ExecuteTime": {
     "end_time": "2018-02-19T10:34:09.611203Z",
     "start_time": "2018-02-19T10:34:09.607840Z"
    },
    "code_folding": [],
    "collapsed": true
   },
   "outputs": [],
   "source": [
    "def showPlot(points):\n",
    "    plt.figure()\n",
    "    fig, ax = plt.subplots()\n",
    "    loc = ticker.MultipleLocator(base=0.2) # this locator puts ticks at regular intervals\n",
    "    ax.yaxis.set_major_locator(loc)\n",
    "    plt.plot(points)"
   ]
  },
  {
   "cell_type": "code",
   "execution_count": 270,
   "metadata": {
    "ExecuteTime": {
     "end_time": "2018-02-19T10:34:10.428931Z",
     "start_time": "2018-02-19T10:34:10.279528Z"
    },
    "collapsed": true
   },
   "outputs": [],
   "source": [
    "encoder = EncoderRNN(input_vocab_size, dim, dropout_p=0.3).cuda()\n",
    "#decoder = DecoderRNN(dim, output_vocab_size).cuda(); attn=False\n",
    "decoder = AttnDecoderRNN(dim, output_vocab_size, maxlen_p, dropout_p=0.3).cuda(); attn=True"
   ]
  },
  {
   "cell_type": "code",
   "execution_count": 370,
   "metadata": {
    "ExecuteTime": {
     "end_time": "2018-02-19T12:14:36.078113Z",
     "start_time": "2018-02-19T12:11:11.820289Z"
    },
    "scrolled": true
   },
   "outputs": [
    {
     "data": {
      "application/vnd.jupyter.widget-view+json": {
       "model_id": "cf297f20d3f24e308446a87d47bf9133",
       "version_major": 2,
       "version_minor": 0
      },
      "text/html": [
       "<p>Failed to display Jupyter Widget of type <code>HBox</code>.</p>\n",
       "<p>\n",
       "  If you're reading this message in the Jupyter Notebook or JupyterLab Notebook, it may mean\n",
       "  that the widgets JavaScript is still loading. If this message persists, it\n",
       "  likely means that the widgets JavaScript library is either not installed or\n",
       "  not enabled. See the <a href=\"https://ipywidgets.readthedocs.io/en/stable/user_install.html\">Jupyter\n",
       "  Widgets Documentation</a> for setup instructions.\n",
       "</p>\n",
       "<p>\n",
       "  If you're reading this message in another frontend (for example, a static\n",
       "  rendering on GitHub or <a href=\"https://nbviewer.jupyter.org/\">NBViewer</a>),\n",
       "  it may mean that your frontend doesn't currently support widgets.\n",
       "</p>\n"
      ],
      "text/plain": [
       "HBox(children=(IntProgress(value=0, max=3000), HTML(value='')))"
      ]
     },
     "metadata": {},
     "output_type": "display_data"
    },
    {
     "name": "stdout",
     "output_type": "stream",
     "text": [
      "Loss:  0.12220162284374236 LR:  [0.00022471169178540207]\n"
     ]
    },
    {
     "data": {
      "image/png": "[encoded data removed]",
      "text/plain": [
       "<matplotlib.figure.Figure at 0x7f56c74cecf8>"
      ]
     },
     "metadata": {},
     "output_type": "display_data"
    },
    {
     "data": {
      "text/plain": [
       "<matplotlib.figure.Figure at 0x7f56d2810198>"
      ]
     },
     "metadata": {},
     "output_type": "display_data"
    },
    {
     "data": {
      "image/png": "[encoded data removed]",
      "text/plain": [
       "<matplotlib.figure.Figure at 0x7f56d24b45f8>"
      ]
     },
     "metadata": {},
     "output_type": "display_data"
    }
   ],
   "source": [
    "trainIters(attn, encoder, decoder,3000, print_every=50, plot_every=50, learning_rate=0.001, teacher_force_t=1)"
   ]
  },
  {
   "cell_type": "markdown",
   "metadata": {},
   "source": [
    "## Beam Search\n",
    "Beam search is a solution to the NP complete Viterbi algorithm. Viterbi algorithm, from a large set of potential choices, tries to find the best possible combination by calculating the probabilities of every single combination and in this case, that is in each timestep. <br>\n",
    "Beam search removes low probability partial hypotheses[means a possible choice] in each timestep but preserves k most probable hypotheses in each timestep rather than a single most probable value. <br>\n",
    "<b> An observation is that spelling a word maybe too constrained a problem especially given the fact that the model becomes 'rigid' after ~5000 iterations and predicts with high probabilities for what it thinks is right reducing the chances of other hypotheses becoming viable</b>. To make best use of beamsearch, it is more important to allow the model to learn a conservative representation than a overconfident one with lower loss. One consequence of this can be seen by using excessive teacher forcing whereby beam search becomes less effective. It is also to be noted that this implementation can be made more efficient. \n",
    "<img src=\"png/beamsearchc.png\">"
   ]
  },
  {
   "cell_type": "code",
   "execution_count": 285,
   "metadata": {
    "ExecuteTime": {
     "end_time": "2018-02-19T10:48:38.445482Z",
     "start_time": "2018-02-19T10:48:38.319883Z"
    },
    "cell_style": "center",
    "code_folding": [],
    "collapsed": true
   },
   "outputs": [],
   "source": [
    "def beam_search(test_batch,attention, encoder, decoder,dim, batch_size=128, ln=0.7):\n",
    "    totAcc = 0\n",
    "    preds_beam = []\n",
    "    for num in tqdm_notebook(range(batch_size)): \n",
    "        k=5\n",
    "        input_variable = Variable(torch.LongTensor((test_batch[0][num].astype('int64'))), volatile=True).cuda() #[1x16]\n",
    "        target_variable = Variable(torch.LongTensor(test_batch[1][num].astype('int64')), volatile=True).cuda() #[1x15]\n",
    "        input_variable = input_variable.unsqueeze(0)\n",
    "        target_variable = target_variable.unsqueeze(0)\n",
    "\n",
    "        target_length = target_variable.size()[1]\n",
    "        encoder_hidden = encoder.initHidden(1).cuda()\n",
    "\n",
    "        hypothesis = [] #List storing list of initial hypotheses\n",
    "        nhypothesis = [] #List to store updated hypotheses\n",
    "        lhypothesis = Variable(torch.LongTensor([0]*k)).cuda() #Variable storing the most recent entry in each of the k hypotheses\n",
    "        kprobs = Variable(torch.zeros(k)) #Probability of each hypothesis\n",
    "        hstates = Variable(torch.zeros(k, 1,dim)) #Initial hidden states of hypotheses\n",
    "        nhstates = Variable(torch.zeros(k, 1,dim)) #Changed hidden states of hypotheses\n",
    "        bestk_p = Variable(torch.zeros(k*k)) #Vector storing probability of best k for each of top k hypotheses\n",
    "        bestk_i = Variable(torch.zeros(k*k)) #Vector storing index of best k for each of top k hypotheses\n",
    "        \n",
    "        encoder_output, encoder_hidden = encoder(input_variable, encoder_hidden)\n",
    "        decoder_input = Variable(torch.LongTensor([SOS_token]), volatile=True).cuda()\n",
    "        if attention:\n",
    "            decoder_output, decoder_hidden = decoder(decoder_input, encoder_hidden, encoder_output)\n",
    "        else:\n",
    "            decoder_output, decoder_hidden = decoder(decoder_input, encoder_hidden)        \n",
    "        decoder_output = decoder_output.squeeze(0)\n",
    "        vals, indices = torch.topk(decoder_output, k, 0) #Finding the initial values of k hypothesis \n",
    "        for i in range(k):\n",
    "            hypothesis.append([indices[i].data.cpu().numpy().item()])\n",
    "            nhypothesis=list(hypothesis)\n",
    "            lhypothesis[i] = indices[i]\n",
    "            kprobs[i] = (vals[i].data)\n",
    "\n",
    "        repeated_probs = torch.zeros(k*k) #Vector to hold k probabilities repeated for operations \n",
    "        hstates = decoder_hidden.repeat(k, 1, 1) #Initially, every k share the same hidden state\n",
    "        for di in range(target_length-1):\n",
    "            for i in range(k):\n",
    "                decoder_input = lhypothesis[i]\n",
    "\n",
    "                decoder_hidden = hstates[i].unsqueeze(0)\n",
    "                if attention:\n",
    "                    decoder_output, decoder_hidden = decoder(decoder_input, decoder_hidden, encoder_output)\n",
    "                else:\n",
    "                    decoder_output, decoder_hidden = decoder(decoder_input, decoder_hidden)                      \n",
    "                decoder_output = decoder_output.squeeze(0)\n",
    "                nvals, nindices = torch.topk(decoder_output, k, 0) #[1xk]\n",
    "                nhstates[i] = decoder_hidden\n",
    "                bestk_p[k*i:(k*i+k)] = nvals\n",
    "                bestk_i[k*i:(k*i+k)] = nindices\n",
    "            for i in range(k): repeated_probs[k*i:(k*i+k)]=kprobs[i].data.repeat(k)\n",
    "            summed_p = (repeated_probs.numpy() + bestk_p.cpu().data.numpy())\n",
    "        \n",
    "            vals, nindices = torch.topk(torch.from_numpy((1/target_length**ln)*(summed_p)), k, 0) \n",
    "            lhypothesis = Variable(torch.LongTensor([0]*k)).cuda() #Reinitialise required??\n",
    "            for i,x in enumerate(nindices):\n",
    "                kprobs[i] = float(summed_p[x])\n",
    "                lhypothesis[i]=bestk_i[x]\n",
    "                hstates[i]=nhstates[np.floor(x/k)]\n",
    "                nhypothesis[i]=list(hypothesis[int(np.floor(x/k))])\n",
    "                nhypothesis[i].append(int(bestk_i[x].data.numpy()))\n",
    "            hypothesis = list(nhypothesis)\n",
    "\n",
    "        preds_beam.append(np.array(hypothesis[0]))\n",
    "    preds_beam = np.asarray(preds_beam)\n",
    "    print ('Accuracy', np.mean([all(real==p) for real, p in zip(test_batch[1], preds_beam)])*100,'%')\n",
    "    return preds_beam"
   ]
  },
  {
   "cell_type": "markdown",
   "metadata": {},
   "source": [
    "## Evaluation"
   ]
  },
  {
   "cell_type": "code",
   "execution_count": 371,
   "metadata": {
    "ExecuteTime": {
     "end_time": "2018-02-19T12:16:41.544250Z",
     "start_time": "2018-02-19T12:16:41.542793Z"
    },
    "collapsed": true
   },
   "outputs": [],
   "source": [
    "batch_size = 1024"
   ]
  },
  {
   "cell_type": "code",
   "execution_count": 372,
   "metadata": {
    "ExecuteTime": {
     "end_time": "2018-02-19T12:16:41.743332Z",
     "start_time": "2018-02-19T12:16:41.740137Z"
    },
    "collapsed": true
   },
   "outputs": [],
   "source": [
    "test_batch = get_batch(input_test, labels_test, batch_size)"
   ]
  },
  {
   "cell_type": "code",
   "execution_count": 373,
   "metadata": {
    "ExecuteTime": {
     "end_time": "2018-02-19T12:16:41.988705Z",
     "start_time": "2018-02-19T12:16:41.947350Z"
    },
    "code_folding": [
     0
    ],
    "collapsed": true
   },
   "outputs": [],
   "source": [
    "def evaluate(test_batch, attention, encoder, decoder, batch_size=128):  \n",
    "\n",
    "    input_variable = Variable(torch.LongTensor((test_batch[0].astype('int64'))), volatile=True).cuda()\n",
    "    target_variable = Variable(torch.LongTensor(test_batch[1].astype('int64')), volatile=True).cuda()\n",
    "\n",
    "    target_length = target_variable.size()[1]\n",
    "    encoder_hidden = encoder.initHidden(batch_size).cuda()\n",
    "\n",
    "    encoder_output, encoder_hidden = encoder(input_variable, encoder_hidden)\n",
    "    decoder_input = Variable(torch.LongTensor([SOS_token]*batch_size), volatile=True).cuda()\n",
    "    \n",
    "    decoder_hidden = encoder_hidden\n",
    "    decoded_words = []\n",
    "    for di in range(target_length):\n",
    "        if attention:\n",
    "            decoder_output, decoder_hidden = decoder(decoder_input, decoder_hidden, encoder_output)\n",
    "        else:\n",
    "            decoder_output, decoder_hidden = decoder(decoder_input, decoder_hidden)                \n",
    "        _, indices = torch.max(decoder_output, 1)\n",
    "        decoded_words.append(indices)\n",
    "        decoder_input = indices\n",
    "    preds = []\n",
    "    for x in decoded_words:\n",
    "        preds.append(x.cpu().data.numpy())\n",
    "    preds = np.array(preds).T\n",
    "    print ('Accuracy', np.mean([all(real==p) for real, p in zip(test_batch[1], preds)])*100,'%')\n",
    "    return (preds)\n",
    "    "
   ]
  },
  {
   "cell_type": "code",
   "execution_count": 374,
   "metadata": {
    "ExecuteTime": {
     "end_time": "2018-02-19T12:16:42.461824Z",
     "start_time": "2018-02-19T12:16:42.375686Z"
    }
   },
   "outputs": [
    {
     "name": "stdout",
     "output_type": "stream",
     "text": [
      "Accuracy 42.578125 %\n"
     ]
    }
   ],
   "source": [
    "preds = evaluate(test_batch, attn, encoder, decoder, batch_size)"
   ]
  },
  {
   "cell_type": "code",
   "execution_count": 375,
   "metadata": {
    "ExecuteTime": {
     "end_time": "2018-02-19T12:16:44.074401Z",
     "start_time": "2018-02-19T12:16:44.068895Z"
    },
    "collapsed": true
   },
   "outputs": [],
   "source": [
    "preds_beam = None"
   ]
  },
  {
   "cell_type": "code",
   "execution_count": 376,
   "metadata": {
    "ExecuteTime": {
     "end_time": "2018-02-19T12:17:39.351760Z",
     "start_time": "2018-02-19T12:16:44.259538Z"
    }
   },
   "outputs": [
    {
     "data": {
      "application/vnd.jupyter.widget-view+json": {
       "model_id": "739a05fe1cca4075b18547b738e3a967",
       "version_major": 2,
       "version_minor": 0
      },
      "text/html": [
       "<p>Failed to display Jupyter Widget of type <code>HBox</code>.</p>\n",
       "<p>\n",
       "  If you're reading this message in the Jupyter Notebook or JupyterLab Notebook, it may mean\n",
       "  that the widgets JavaScript is still loading. If this message persists, it\n",
       "  likely means that the widgets JavaScript library is either not installed or\n",
       "  not enabled. See the <a href=\"https://ipywidgets.readthedocs.io/en/stable/user_install.html\">Jupyter\n",
       "  Widgets Documentation</a> for setup instructions.\n",
       "</p>\n",
       "<p>\n",
       "  If you're reading this message in another frontend (for example, a static\n",
       "  rendering on GitHub or <a href=\"https://nbviewer.jupyter.org/\">NBViewer</a>),\n",
       "  it may mean that your frontend doesn't currently support widgets.\n",
       "</p>\n"
      ],
      "text/plain": [
       "HBox(children=(IntProgress(value=0, max=1024), HTML(value='')))"
      ]
     },
     "metadata": {},
     "output_type": "display_data"
    },
    {
     "name": "stdout",
     "output_type": "stream",
     "text": [
      "\n",
      "Accuracy 42.7734375 %\n"
     ]
    }
   ],
   "source": [
    "preds_beam = beam_search(test_batch,attn, encoder, decoder, dim,batch_size)"
   ]
  },
  {
   "cell_type": "code",
   "execution_count": 377,
   "metadata": {
    "ExecuteTime": {
     "end_time": "2018-02-19T12:17:53.058934Z",
     "start_time": "2018-02-19T12:17:53.050946Z"
    },
    "code_folding": []
   },
   "outputs": [],
   "source": [
    "def results(preds, test_batch, preds_beam=None):\n",
    "    print ('  Phonemes_________________________________predictions___________beam_________________label')\n",
    "    for index in range(400, 500):\n",
    "        phoneme = '-'.join([phonemes[p] for p in test_batch[0][index]])\n",
    "        prediction = [letters[l] for l in preds[index]]\n",
    "        real = [letters[l] for l in test_batch[1][index]]\n",
    "        beamed = [letters[l] for l in preds_beam[index]]\n",
    "        print ('  ',phoneme.strip('-_').ljust(40), ''.join(prediction).strip('_').ljust(20), ''.join(beamed).strip('_').ljust(20),\n",
    "               ''.join(real).strip('_'))"
   ]
  },
  {
   "cell_type": "code",
   "execution_count": 378,
   "metadata": {
    "ExecuteTime": {
     "end_time": "2018-02-19T12:17:53.313698Z",
     "start_time": "2018-02-19T12:17:53.291665Z"
    }
   },
   "outputs": [
    {
     "name": "stdout",
     "output_type": "stream",
     "text": [
      "  Phonemes_________________________________predictions___________beam_________________label\n",
      "   B-AY0-N-AE1-SH-AH0-N-AH0-L               binational           binational           binational\n",
      "   HH-AA0-R-M-AA1-N-IH0-K                   harmonic             harmonic             harmonic\n",
      "   D-ER0-AH0-B-IH1-L-IH0-T-IY0              derability           derability           durability\n",
      "   K-EH1-V-IH0-N                            kevin                kevin                kevin\n",
      "   W-AY1-M-AH0-N                            wiyman               weiman               weimann\n",
      "   L-EY1-D-L-AO2                            laidlaw              ladlaw               laidlaw\n",
      "   AE1-SH-T-R-EY2-Z                         ashtraes             athtras              ashtrays\n",
      "   P-AH1-F-ER0                              puffer               puffer               puffer\n",
      "   G-R-AE1-T-AH0-N                          gratton              gratton              grattan\n",
      "   D-EH2-K-L-ER0-EY1-SH-AH0-N-Z             declarations         declarations         declarations\n",
      "   S-AH0-L-EH1-B-R-IH0-T-IY0-Z              celebrities          celebrities          celebrities\n",
      "   F-EY1-B-ER0                              faber                faber                fabre\n",
      "   OW0-D-AA1-N-AH0-L                        odonnell             odonnal              odonnel\n",
      "   M-AH0-G-R-IY1-V-IY0                      mcgreevy             mcgreevy             mcgreevey\n",
      "   S-AE1-L-P-EH0-T-R-IY0-EH2-R              salpetriare          salpetriare          salpetriere\n",
      "   R-IY0-B-AH1-F-S                          rebuffs              rebuffs              rebuffs\n",
      "   ER0-IH1-S-T-AH0                          arista               arista               arista\n",
      "   B-AA1-R-T-S                              bartz                bartz                barts\n",
      "   K-ER0-N-AE1-G-AH0-N                      kurnagan             kurnagan             kernaghan\n",
      "   B-EH1-R-IH0-TH                           bareth               berreh               berreth\n",
      "   AE2-N-AH0-S-EH1-T                        anacette             anisette             anisette\n",
      "   S-AY1-V-ER0                              siever               siver                siver\n",
      "   EH2-K-S-T-R-AH0-AO1-R-D-IH0-N-EH2-R      extraordinary        extraordinare        extraordinaire\n",
      "   S-AY2-K-OW0-D-AY0-N-AE1-M-IH0-K          psychoynamic         psychodynamic        psychodynamic\n",
      "   D-IH0-M-IH1-N-IH0-SH-IH0-Z               diminishes           diminishes           diminishes\n",
      "   W-IY1-M-ER0                              wiemer               wiemer               wiemer\n",
      "   M-AE1-L-ER0-IY0                          mallery              mallory              mallery\n",
      "   K-R-AE1-N-Z                              krans                kranz                krans\n",
      "   K-AA1-M-B-AE0-T                          combat               combat               kombat\n",
      "   D-IH0-K-R-IY1-S                          decrease             decrease             decrease\n",
      "   R-IY0-IH0-V-AE2-L-Y-UW0-EY1-SH-AH0-N-Z   reevaluations        reevaluations        revaluations\n",
      "   G-EH1-T-IY0-Z                            geetties             getetes              gettys\n",
      "   P-AE1-L-AW0                              pallow               pallow               palau\n",
      "   P-OW0-S-T-M-AO1-R-T-EH0-M                postmartemm          postmormem           postmortem\n",
      "   F-ER1-B-IY2                              furbe                ferbee               furbee\n",
      "   SH-IH1-F-L-IH0-T                         shifflett            shifflett            shiflet\n",
      "   T-R-EH1-S-AH0-L                          trestle              trestle              tressel\n",
      "   B-EH1-N-D-AH0-L                          bendel               bendel               bendall\n",
      "   K-L-AA1-R-K                              clark                clark                clarke\n",
      "   IH1-NG-G-AH0-L-Z                         ingles               ingles               ingels\n",
      "   S-IH1-F-T-IH0-NG                         sifting              sifting              sifting\n",
      "   B-OY1-N-T-AH0-N                          boyton               bointon              boynton\n",
      "   W-AA1-L-AH0-P-S                          wallops              wallops              wallops\n",
      "   S-IY1-L-D                                sealed               sealed               sealed\n",
      "   W-EH1-S-T-R-AH0                          westra               westra               westra\n",
      "   K-EH1-L-AH0-M                            kellum               kella                kellam\n",
      "   AE1-L-T-IH0-T-UW2-D-Z                    altitudes            altitudes            altitudes\n",
      "   P-IY1-R-S-AH0-N                          pierson              pierson              peirson\n",
      "   M-AA0-R-K-OW1-N-IY0                      marconi              marcone              marcone\n",
      "   M-AO1-R-V-AH0-N                          morvan               morvan               morven\n",
      "   L-AW1-D-AH0-N                            louden               louden               loudon\n",
      "   AE1-L-G-ER0-IH0-N                        algorin              algorin              algarin\n",
      "   G-R-AA0-Z-IY0-AA1-N-IY0                  graziani             graziani             graziani\n",
      "   AH0-S-IY2-K-ER0-AE2-Z-IY0-OW1-N-IY0      asikazazione         asikerzione          assicurazioni\n",
      "   JH-ER0-M-AA1-N-IY0                       germani              germani              germani\n",
      "   S-W-UW1-P                                swoop                swoop                swoope\n",
      "   B-ER0-AW1-S-K-IY0                        borowski             borowski             boroski\n",
      "   AA1-R-V-IH0-D                            arved                arved                arvid\n",
      "   HH-AY2-P-AH0-TH-EH1-T-AH0-K-AH0-L-Z      hypotheticals        hypotheticals        hypotheticals\n",
      "   S-AO1-L-T-ER0                            salulter             saulter              salter\n",
      "   N-IH1-M-B-IY0                            nimby                nimby                nimby\n",
      "   UW2-D-AA0-G-AA1-W-AH0                    udagawa              udagawa              udagawa\n",
      "   L-EY1-K-L-AH0-N-D                        lakland              lakland              lakeland\n",
      "   P-IH0-R-S-IY1                            pierce               pierce               piercey\n",
      "   K-L-AE1-K-S-AH0-N                        claxson              claxson              claxon\n",
      "   M-AE1-T-DH-IY0-AH0                       matthia              matthia              matthea\n",
      "   Z-AH1-M-B-R-OW0                          zumbro               zumbro               zumbro\n",
      "   R-EH2-Z-IH0-G-N-EY1-SH-AH0-N-Z           resignations         resignations         resignations\n",
      "   D-IH1-N-D-AH0                            dynda                dinda                dinda\n",
      "   P-AA0-G-AA0-N-EH1-L-IY0                  paganelli            paganelli            paganelli\n",
      "   P-R-AH0-D-UW1-S-AH0-Z                    preduces             preduces             produces\n",
      "   AH0-N-T-IH1-L                            until                until                until\n",
      "   T-AH1-M-B-L-ER0-Z                        tumblers             tumblers             tumblers\n",
      "   S-AO0-R-AO1-V-S-K-IY0                    sorovsky             sorovsky             sorovski\n",
      "   HH-UW1-JH                                huege                huege                hooge\n",
      "   T-AH1-NG-K-UW0                           tuncou               tuncou               tunku\n",
      "   D-EH2-K-ER0-EY1-SH-AH0-N-Z               decorations          decorations          decorations\n",
      "   HH-AH1-N-IH0-K-AH0-T                     hunekutt             hunekutt             hunnicutt\n",
      "   B-W-OW0-N-OW0-K-AO1-R-IY0                buonokori            buonokori            buonocore\n",
      "   IH2-N-K-AA1-R-N-EY1-SH-AH0-N             incarnation          incarnation          incarnation\n",
      "   G-W-IY0-N-AA1-N                          guinan               guinan               guinan\n",
      "   D-AA1-R-N-AH0-L                          darnell              darnell              darnall\n",
      "   T-UW0-M-EH1-R-IH0-K                      tumeric              tumeric              tumeric\n",
      "   D-IH0-N-IH1-R-OW0                        diniro               dineero              deniro\n",
      "   JH-AA1-N-Z-M-AH0-N                       johnnman             johnnman             jonsman\n",
      "   R-IY0-K-ER1-D                            recurred             recurred             recurred\n",
      "   D-IH0-S-T-IH1-NG-K-T-IH0-V-L-IY0         distinctively        distinctively        distinctively\n",
      "   R-OW1-L-S-T-AH0-N                        roleston             roleston             rolston\n",
      "   HH-L-AA1-V-AH0-CH-EH0-K                  hlavacek             hlavacek             hlavacek\n",
      "   S-ER0-IY1-N                              serin                seraren              serene\n",
      "   HH-OW2-M-OW0-S-EY1-P-IY2-AH0-N           homosapian           homosapian           homosapien\n",
      "   N-UW1-V-AH0-L                            neuval               neuval               nouvel\n",
      "   K-AH1-V-AH0-N-T-R-IY0                    coventry             coventry             coventry\n",
      "   T-AH0-M-EH1-R-AH0-T-IY0                  tomerity             tomerity             temerity\n",
      "   JH-EH1-F-ER0-IY0                         jeffery              jeffery              jefferey\n",
      "   AO1-R-M-ER0-AH0-D                        ormorad              ormerad              ormerod\n",
      "   HH-EH1-L-AH0-N-Z                         helens               helens               helens\n",
      "   K-OW1-P-L-AH0-N-D                        copland              copland              copeland\n",
      "   D-IH1-M-IH0-T                            dimitmit             dimitt               dimmitt\n",
      "   IH1-N-IH0-S                              inniss               inn                  innis\n"
     ]
    }
   ],
   "source": [
    "results(preds, test_batch, preds_beam)"
   ]
  },
  {
   "cell_type": "markdown",
   "metadata": {},
   "source": [
    "## Serialization"
   ]
  },
  {
   "cell_type": "code",
   "execution_count": 45,
   "metadata": {
    "ExecuteTime": {
     "end_time": "2018-02-17T14:42:43.133673Z",
     "start_time": "2018-02-17T14:42:43.107379Z"
    }
   },
   "outputs": [
    {
     "name": "stderr",
     "output_type": "stream",
     "text": [
      "/opt/anaconda/lib/python3.6/site-packages/torch/serialization.py:147: UserWarning: Couldn't retrieve source code for container of type EncoderRNN. It won't be checked for correctness upon loading.\n",
      "  \"type \" + obj.__name__ + \". It won't be checked \"\n",
      "/opt/anaconda/lib/python3.6/site-packages/torch/serialization.py:147: UserWarning: Couldn't retrieve source code for container of type AttnDecoderRNN. It won't be checked for correctness upon loading.\n",
      "  \"type \" + obj.__name__ + \". It won't be checked \"\n",
      "/opt/anaconda/lib/python3.6/site-packages/torch/serialization.py:147: UserWarning: Couldn't retrieve source code for container of type Attn. It won't be checked for correctness upon loading.\n",
      "  \"type \" + obj.__name__ + \". It won't be checked \"\n"
     ]
    }
   ],
   "source": [
    "torch.save(encoder, 'models/encoderSGD.dat')\n",
    "torch.save(decoder, 'models/decoderSGD.dat')"
   ]
  },
  {
   "cell_type": "code",
   "execution_count": 23,
   "metadata": {
    "ExecuteTime": {
     "end_time": "2018-02-17T14:30:50.162570Z",
     "start_time": "2018-02-17T14:30:50.112798Z"
    },
    "collapsed": true
   },
   "outputs": [],
   "source": [
    "encoder = torch.load('models/encoderSGD.dat')\n",
    "decoder = torch.load('models/decoderSGD.dat')"
   ]
  },
  {
   "cell_type": "markdown",
   "metadata": {},
   "source": [
    "## References \n",
    "<ol>\n",
    "<li>[Neural Machine Translation by Jointly Learning to Align and Translate](https://arxiv.org/abs/1409.0473)</li>\n",
    "<li>[Spro's seq2seq Pytorch Tutorial](https://github.com/spro/practical-pytorch/blob/master/seq2seq-translation/seq2seq-translation.ipynb)</li> \n",
    "<li>[fast.ai MOOC](http://www.fast.ai/)</li>\n",
    "<li>[AuCson's implementation](https://github.com/AuCson/PyTorch-Batch-Attention-Seq2seq/blob/master/attentionRNN.py)</li>\n",
    "<li>[Datalogue Blog about attention](https://medium.com/datalogue/attention-in-keras-1892773a4f22)\n",
    "</ol>\n"
   ]
  },
  {
   "cell_type": "code",
   "execution_count": null,
   "metadata": {
    "collapsed": true
   },
   "outputs": [],
   "source": []
  }
 ],
 "metadata": {
  "kernelspec": {
   "display_name": "Python 3",
   "language": "python",
   "name": "python3"
  },
  "language_info": {
   "codemirror_mode": {
    "name": "ipython",
    "version": 3
   },
   "file_extension": ".py",
   "mimetype": "text/x-python",
   "name": "python",
   "nbconvert_exporter": "python",
   "pygments_lexer": "ipython3",
   "version": "3.6.4"
  },
  "latex_envs": {
   "LaTeX_envs_menu_present": true,
   "autocomplete": true,
   "bibliofile": "biblio.bib",
   "cite_by": "apalike",
   "current_citInitial": 1,
   "eqLabelWithNumbers": true,
   "eqNumInitial": 1,
   "hotkeys": {
    "equation": "Ctrl-E",
    "itemize": "Ctrl-I"
   },
   "labels_anchors": false,
   "latex_user_defs": false,
   "report_style_numbering": false,
   "user_envs_cfg": false
  }
 },
 "nbformat": 4,
 "nbformat_minor": 2
}
