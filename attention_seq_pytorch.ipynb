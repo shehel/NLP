{
 "cells": [
  {
   "cell_type": "markdown",
   "metadata": {},
   "source": [
    "# Attention seq2seq - Pytorch"
   ]
  },
  {
   "cell_type": "markdown",
   "metadata": {},
   "source": [
    "Dataset: [CMU spelling dictionary](http://svn.code.sf.net/p/cmusphinx/code/trunk/cmudict/cmudict-0.7b) <br>\n",
    "The goal of this notebook is to implement a seq2seq attention model and a regular seq2seq is implemented alongside to gain a more complete picture. "
   ]
  },
  {
   "cell_type": "markdown",
   "metadata": {},
   "source": [
    "## Motivating Attention"
   ]
  },
  {
   "cell_type": "markdown",
   "metadata": {},
   "source": [
    "The dataset used in this notebook contains mapping of words in English and their pronounciations as a set of phoneme word pairs like so <br>\n",
    "<small><p style=\"margin-left: 40px\">S-AE1-N-AH0-T-IY0   sanity</p></small>\n",
    "The task is to use a seq2seq model to learn this mapping so that given a set of phonemes, the model outputs the correct word. It can be seen as emulating spelling bee. Given below is an image of the results obtained from a regular seq2seq model\n",
    "<img src=\"seq2seq.png\">\n",
    "The predictions highlighted with red border shows a common problem with seq2seq- If only the context vector, i.e., the last hidden state in the encoder network is passed betweeen the encoder and decoder, that single vector carries the burden of encoding the entire sentence, extending upto the last timestep of the decoder. \n",
    "\n",
    "Attention allows the decoder network to \"focus\" on a different part of the encoder's outputs for every time step of the decoder's own outputs."
   ]
  },
  {
   "cell_type": "code",
   "execution_count": 1,
   "metadata": {
    "ExecuteTime": {
     "end_time": "2018-02-08T10:41:52.191435Z",
     "start_time": "2018-02-08T10:41:51.485568Z"
    },
    "collapsed": true
   },
   "outputs": [],
   "source": [
    "%matplotlib inline\n",
    "\n",
    "import numpy as np\n",
    "import matplotlib.pyplot as plt\n",
    "import matplotlib.ticker as ticker\n",
    "import re\n",
    "import time, math, random\n",
    "from sklearn.model_selection import train_test_split\n",
    "from tqdm import tqdm_notebook\n",
    "import pdb\n",
    "\n",
    "import torch.nn as nn\n",
    "import torch.nn.parallel\n",
    "import torch.nn.functional as F\n",
    "from torch.autograd import Variable\n",
    "from torch import optim\n",
    "\n",
    "Path = 'data/'"
   ]
  },
  {
   "cell_type": "code",
   "execution_count": 2,
   "metadata": {
    "ExecuteTime": {
     "end_time": "2018-02-08T10:41:52.196069Z",
     "start_time": "2018-02-08T10:41:52.192510Z"
    },
    "cell_style": "center"
   },
   "outputs": [
    {
     "data": {
      "text/html": [
       "<style>.container { width:100% !important; }</style>"
      ],
      "text/plain": [
       "<IPython.core.display.HTML object>"
      ]
     },
     "metadata": {},
     "output_type": "display_data"
    }
   ],
   "source": [
    "from IPython.core.display import display, HTML\n",
    "display(HTML(\"<style>.container { width:100% !important; }</style>\"))"
   ]
  },
  {
   "cell_type": "markdown",
   "metadata": {},
   "source": [
    "## Preprocessing"
   ]
  },
  {
   "cell_type": "code",
   "execution_count": 3,
   "metadata": {
    "ExecuteTime": {
     "end_time": "2018-02-08T10:41:52.568244Z",
     "start_time": "2018-02-08T10:41:52.197123Z"
    }
   },
   "outputs": [
    {
     "data": {
      "text/plain": [
       "('A', ['AH0'])"
      ]
     },
     "execution_count": 3,
     "metadata": {},
     "output_type": "execute_result"
    }
   ],
   "source": [
    "#Get each word that begins with A-Z from each line into a list \n",
    "lines = [l.strip().split(\"  \") for l in open(Path+'cmudict-0.7b', encoding='latin1') \n",
    "         if re.match('^[A-Z]', l)]\n",
    "#Split words and phonemes\n",
    "lines = [(w, ps.split()) for w, ps in lines]\n",
    "lines[0]"
   ]
  },
  {
   "cell_type": "code",
   "execution_count": 4,
   "metadata": {
    "ExecuteTime": {
     "end_time": "2018-02-08T10:41:52.627741Z",
     "start_time": "2018-02-08T10:41:52.569153Z"
    }
   },
   "outputs": [
    {
     "data": {
      "text/plain": [
       "70"
      ]
     },
     "execution_count": 4,
     "metadata": {},
     "output_type": "execute_result"
    }
   ],
   "source": [
    "#Get a list of all the unique phonemes from lines and adding _ to position 0 because it corresponds to padding\n",
    "#when tokenised\n",
    "phonemes = [\"_\"]+sorted(set(p for w, ps in lines for p in ps))\n",
    "len(phonemes)"
   ]
  },
  {
   "cell_type": "code",
   "execution_count": 5,
   "metadata": {
    "ExecuteTime": {
     "end_time": "2018-02-08T10:41:52.631280Z",
     "start_time": "2018-02-08T10:41:52.628629Z"
    },
    "collapsed": true
   },
   "outputs": [],
   "source": [
    "#Map phonemes to indices and letters to indices.\n",
    "p2i = dict((v, k) for k, v in enumerate(phonemes))\n",
    "letters = \"_abcdefghijklmnopqrstuvwxyz*\"\n",
    "l2i = dict((v, k) for k, v in enumerate(letters))"
   ]
  },
  {
   "cell_type": "code",
   "execution_count": 6,
   "metadata": {
    "ExecuteTime": {
     "end_time": "2018-02-08T10:41:52.876230Z",
     "start_time": "2018-02-08T10:41:52.632241Z"
    }
   },
   "outputs": [
    {
     "data": {
      "text/plain": [
       "108006"
      ]
     },
     "execution_count": 6,
     "metadata": {},
     "output_type": "execute_result"
    }
   ],
   "source": [
    "#Start of sentence token\n",
    "SOS_token = 0\n",
    "\n",
    "maxlen = 15\n",
    "#Map words to corresponding list of phoneme indices with constraints. \n",
    "pronounce_dict = {w.lower(): [p2i[p] for p in ps] for w, ps in lines\n",
    "                    if (5<=len(w)<=maxlen) and re.match(\"^[A-Z]+$\", w)}\n",
    "len(pronounce_dict)"
   ]
  },
  {
   "cell_type": "code",
   "execution_count": 7,
   "metadata": {
    "ExecuteTime": {
     "end_time": "2018-02-08T10:41:52.888174Z",
     "start_time": "2018-02-08T10:41:52.877118Z"
    }
   },
   "outputs": [
    {
     "data": {
      "text/plain": [
       "16"
      ]
     },
     "execution_count": 7,
     "metadata": {},
     "output_type": "execute_result"
    }
   ],
   "source": [
    "maxlen_p = max([len(v) for k,v in pronounce_dict.items()]); maxlen_p"
   ]
  },
  {
   "cell_type": "code",
   "execution_count": 8,
   "metadata": {
    "ExecuteTime": {
     "end_time": "2018-02-08T10:41:53.413995Z",
     "start_time": "2018-02-08T10:41:52.889213Z"
    },
    "collapsed": true
   },
   "outputs": [],
   "source": [
    "#words contain the number of words in the filtered dictionary\n",
    "words = np.random.permutation(list(pronounce_dict.keys()))\n",
    "n = len(words)\n",
    "\n",
    "#Initialise the input and labels array with zeros so that everywhere except \n",
    "#the position of values is padded\n",
    "input_ = np.zeros((n, maxlen_p), np.int32)\n",
    "labels_ = np.zeros((n, maxlen), np.int32)\n",
    "\n",
    "#Fill in the non zero indices\n",
    "for i, k in enumerate(words):\n",
    "    for j, p in enumerate(pronounce_dict[k]): input_[i][j]=p\n",
    "    for j, p in enumerate(k): labels_[i][j] = l2i[p]\n",
    "        "
   ]
  },
  {
   "cell_type": "code",
   "execution_count": 9,
   "metadata": {
    "ExecuteTime": {
     "end_time": "2018-02-08T10:41:53.424334Z",
     "start_time": "2018-02-08T10:41:53.414950Z"
    },
    "collapsed": true
   },
   "outputs": [],
   "source": [
    "#Create train, validation sets\n",
    "(input_train, input_test, labels_train, labels_test, \n",
    "    ) = train_test_split(input_, labels_, test_size=0.1)"
   ]
  },
  {
   "cell_type": "code",
   "execution_count": 10,
   "metadata": {
    "ExecuteTime": {
     "end_time": "2018-02-08T10:41:53.427902Z",
     "start_time": "2018-02-08T10:41:53.425361Z"
    }
   },
   "outputs": [
    {
     "data": {
      "text/plain": [
       "(70, 28)"
      ]
     },
     "execution_count": 10,
     "metadata": {},
     "output_type": "execute_result"
    }
   ],
   "source": [
    "input_vocab_size, output_vocab_size = len(phonemes), len(letters);input_vocab_size, output_vocab_size"
   ]
  },
  {
   "cell_type": "code",
   "execution_count": 11,
   "metadata": {
    "ExecuteTime": {
     "end_time": "2018-02-08T10:41:53.431521Z",
     "start_time": "2018-02-08T10:41:53.428938Z"
    },
    "collapsed": true
   },
   "outputs": [],
   "source": [
    "def get_batch(x, y, batch_size=128):\n",
    "    idxs = np.random.permutation(len(x))[:batch_size]\n",
    "    return x[idxs], y[idxs]"
   ]
  },
  {
   "cell_type": "markdown",
   "metadata": {},
   "source": [
    "## Model"
   ]
  },
  {
   "cell_type": "code",
   "execution_count": 12,
   "metadata": {
    "ExecuteTime": {
     "end_time": "2018-02-08T10:41:53.435298Z",
     "start_time": "2018-02-08T10:41:53.432560Z"
    },
    "collapsed": true
   },
   "outputs": [],
   "source": [
    "dim = 240\n",
    "batch_size = 128\n",
    "random.seed(10)\n",
    "np.random.seed(10)"
   ]
  },
  {
   "cell_type": "markdown",
   "metadata": {
    "heading_collapsed": true
   },
   "source": [
    "### Encoder"
   ]
  },
  {
   "cell_type": "code",
   "execution_count": 13,
   "metadata": {
    "ExecuteTime": {
     "end_time": "2018-02-08T10:41:53.460223Z",
     "start_time": "2018-02-08T10:41:53.436355Z"
    },
    "collapsed": true,
    "hidden": true
   },
   "outputs": [],
   "source": [
    "class EncoderRNN(nn.Module):\n",
    "    def __init__(self, input_size, hidden_size, n_layers=1, dropout_p=0.1):\n",
    "        super(EncoderRNN, self).__init__()\n",
    "        self.hidden_size = hidden_size\n",
    "        self.embedding = nn.Embedding(input_size, hidden_size//2)\n",
    "        self.dropout = nn.Dropout(dropout_p)\n",
    "        self.grubi = nn.GRU(hidden_size//2, hidden_size//2, dropout=dropout_p, batch_first=True, num_layers=1,\n",
    "                         bidirectional=True)\n",
    "        self.gru = nn.GRU(hidden_size, hidden_size, batch_first=True, dropout=dropout_p,\n",
    "                            num_layers=1)\n",
    "        \n",
    "    def forward(self, input, hidden):\n",
    "        x = self.embedding(input) \n",
    "        x = self.dropout(x)\n",
    "        \n",
    "        x, hidden = self.grubi(x, hidden)\n",
    "        #Concatenating hidden state to get a single layer because\n",
    "        #bidirectional return a layer for each direction. \n",
    "        hidden = torch.cat(torch.chunk(hidden, 2, 0),2)\n",
    "        output, hidden = self.gru(x, hidden)\n",
    "        \n",
    "        return output, hidden\n",
    "\n",
    "    def initHidden(self, batch_size):\n",
    "        #2 for bidirectional, change to 1 otherwise.\n",
    "        return Variable(torch.zeros(2, batch_size, self.hidden_size//2))"
   ]
  },
  {
   "cell_type": "markdown",
   "metadata": {
    "heading_collapsed": true
   },
   "source": [
    "### Decoder"
   ]
  },
  {
   "cell_type": "code",
   "execution_count": 14,
   "metadata": {
    "ExecuteTime": {
     "end_time": "2018-02-08T10:41:53.474560Z",
     "start_time": "2018-02-08T10:41:53.461244Z"
    },
    "cell_style": "center",
    "code_folding": [],
    "collapsed": true,
    "hidden": true
   },
   "outputs": [],
   "source": [
    "class DecoderRNN(nn.Module):\n",
    "    def __init__(self, hidden_size, output_size, n_layers=1):\n",
    "        super(DecoderRNN, self).__init__()\n",
    "        self.hidden_size = hidden_size\n",
    "        \n",
    "        self.embedding = nn.Embedding(output_size, hidden_size) #Optional\n",
    "        \n",
    "        self.gru = nn.GRU(hidden_size, hidden_size, batch_first=True, num_layers=1)\n",
    "        #self.gru2 = nn.GRU(hidden_size, hidden_size, batch_first=True, num_layers=1)\n",
    "\n",
    "        self.out = nn.Linear(hidden_size, output_size)\n",
    "        self.sm = nn.LogSoftmax()\n",
    "        \n",
    "    def forward(self, input, hidden):\n",
    "        emb = self.embedding(input).unsqueeze(1)\n",
    "        res, hidden = self.gru(emb, hidden)\n",
    "        #res, hidden = self.gru2(res, hidden)\n",
    "        output = self.sm(self.out(res[:,0]))\n",
    "        return output, hidden"
   ]
  },
  {
   "cell_type": "markdown",
   "metadata": {
    "cell_style": "center"
   },
   "source": [
    "### Decoder with Bahdanau Attention"
   ]
  },
  {
   "cell_type": "markdown",
   "metadata": {
    "cell_style": "split"
   },
   "source": [
    "#### Attention module\n",
    "<img src=\"formula.png\">\n",
    "Attn class implements the above equations <br>\n",
    "L - Number of layers,\n",
    "B - Batch size,\n",
    "H - Hidden size"
   ]
  },
  {
   "cell_type": "code",
   "execution_count": 15,
   "metadata": {
    "ExecuteTime": {
     "end_time": "2018-02-08T10:41:53.493762Z",
     "start_time": "2018-02-08T10:41:53.475631Z"
    },
    "cell_style": "center",
    "code_folding": [],
    "collapsed": true
   },
   "outputs": [],
   "source": [
    "class Attn(nn.Module):\n",
    "    def __init__(self, hidden_size):\n",
    "        super(Attn, self).__init__()\n",
    "        self.hidden_size = hidden_size\n",
    "    \n",
    "        self.attn = nn.Linear(self.hidden_size * 2, hidden_size)\n",
    "        self.v = nn.Parameter(nn.init.xavier_normal(torch.rand(1, hidden_size)))\n",
    "        self.softmax = nn.Softmax()\n",
    "        self.tanh = nn.Tanh()\n",
    "    \n",
    "    def forward(self, hidden, encoder_outputs):\n",
    "        '''\n",
    "        Inputs:\n",
    "            hidden - hidden state of previous layer [LxBxH]\n",
    "            encoder_outputs - encoder outputs for each timestep [BxTxH]\n",
    "        Output: \n",
    "            Normalized weightings for each of the encoder output [BxT]\n",
    "        '''\n",
    "        maxlen_p = encoder_outputs.size(1) \n",
    "        H = hidden.repeat(maxlen_p, 1, 1).transpose(0,1)\n",
    "        weights = self.attn(torch.cat([H, encoder_outputs], 2)) #[BxTx2H]->[BxTxH]\n",
    "        weights = self.tanh(weights) \n",
    "        weights = weights.transpose(2,1) #[BxHxT]\n",
    "        v = self.v.repeat(encoder_outputs.data.shape[0],1).unsqueeze(1) #[Bx1xH]\n",
    "        weights = torch.bmm(v, weights) #[Bx1xH]*[BxHxT]->[Bx1xT]\n",
    "        weights = weights.squeeze(1) #softmax requires 2D tensor\n",
    "        return self.softmax(weights).unsqueeze(1)"
   ]
  },
  {
   "cell_type": "code",
   "execution_count": 16,
   "metadata": {
    "ExecuteTime": {
     "end_time": "2018-02-08T10:41:53.522218Z",
     "start_time": "2018-02-08T10:41:53.494729Z"
    },
    "collapsed": true
   },
   "outputs": [],
   "source": [
    "class AttnDecoderRNN(nn.Module):\n",
    "    def __init__(self, hidden_size, output_size, maxlen_p, n_layers=1, dropout_p=0.1):\n",
    "        super(AttnDecoderRNN, self).__init__()\n",
    "        self.hidden_size = hidden_size\n",
    "        self.output_size = output_size\n",
    "        self.maxlen_p = maxlen_p\n",
    "\n",
    "        self.embedding = nn.Embedding(output_size, hidden_size) \n",
    "        self.dropout = nn.Dropout(dropout_p)\n",
    "        self.attn = Attn(hidden_size)\n",
    "        self.gru = nn.GRU(hidden_size*2, hidden_size, batch_first=True, num_layers=1, dropout=dropout_p)\n",
    "        #self.gru2 = nn.GRU(hidden_size, hidden_size, batch_first=True, num_layers=1, dropout=dropout_p)\n",
    "\n",
    "        self.out = nn.Linear(hidden_size, output_size)\n",
    "        self.sm = nn.LogSoftmax()\n",
    "        \n",
    "    def forward(self, input, hidden, enc_outputs):\n",
    "        '''\n",
    "        Inputs:\n",
    "            input - initial token, decoder output or target(teacher forcing) [B] \n",
    "            hidden - hidden state of previous layer [LxBxH]\n",
    "            encoder_outputs - encoder outputs for each timestep [BxTxH]\n",
    "        Output: \n",
    "            Normalized weightings for each of the encoder output [BxT]\n",
    "        '''\n",
    "        emb = self.embedding(input).unsqueeze(1) #[Bx1xH]\n",
    "        emb = self.dropout(emb) \n",
    "        weights = self.attn(hidden, enc_outputs) #[Bx1xT]       \n",
    "        context = weights.bmm(enc_outputs) #[Bx1xT]*[BxTxH]->[Bx1xH]\n",
    "        rnn_input = torch.cat((emb, context), 2) #[Bx1xH*2]\n",
    "        \n",
    "        res, hidden = self.gru(rnn_input, hidden) \n",
    "        #res, hidden = self.gru(rnn_input, hidden)\n",
    "        output = self.sm(self.out(res[:,0]))\n",
    "        return output, hidden"
   ]
  },
  {
   "cell_type": "markdown",
   "metadata": {},
   "source": [
    "## Training"
   ]
  },
  {
   "cell_type": "markdown",
   "metadata": {},
   "source": [
    "### Train loop"
   ]
  },
  {
   "cell_type": "markdown",
   "metadata": {},
   "source": [
    "I - Input sequence length\n",
    "O - Output sequence length"
   ]
  },
  {
   "cell_type": "code",
   "execution_count": 17,
   "metadata": {
    "ExecuteTime": {
     "end_time": "2018-02-08T10:41:53.569358Z",
     "start_time": "2018-02-08T10:41:53.523475Z"
    },
    "cell_style": "center",
    "collapsed": true
   },
   "outputs": [],
   "source": [
    "def train(attention, input_variable, target_variable, encoder, decoder, \n",
    "          encoder_optimizer, decoder_optimizer, criterion, teach_force_t=0.5):\n",
    "    '''\n",
    "    Inputs:\n",
    "        attention - boolean determines if attention needs to be calculated \n",
    "        input_variable - training samples [BxI]\n",
    "        target_variable - used to calculate loss and as decoder input [BxO]\n",
    "        encoder, optimizer \n",
    "        decoder, optimizer\n",
    "        criterion - loss function\n",
    "        teach_force_t - threshold after which teacher force will be used \n",
    "    Output: \n",
    "        loss\n",
    "    '''\n",
    "    batch_size= input_variable.size()[0]\n",
    "    target_length = target_variable.size()[1]\n",
    "    encoder_hidden = encoder.initHidden(batch_size).cuda()\n",
    "    encoder_optimizer.zero_grad()\n",
    "    decoder_optimizer.zero_grad()\n",
    "    loss = 0\n",
    "\n",
    "    encoder_output, encoder_hidden = encoder(input_variable, encoder_hidden)\n",
    "    decoder_hidden = encoder_hidden\n",
    "    \n",
    "    decoder_input = Variable(torch.LongTensor([SOS_token]*batch_size)).cuda()\n",
    "    \n",
    "    if (random.random() > teach_force_t):\n",
    "        for di in range(target_length):\n",
    "            if attention:\n",
    "                decoder_output, decoder_hidden = decoder(decoder_input, decoder_hidden, encoder_output)\n",
    "            else:\n",
    "                decoder_output, decoder_hidden = decoder(decoder_input, decoder_hidden)          \n",
    "\n",
    "            targ = target_variable[:, di]\n",
    "            loss += criterion(decoder_output, targ)\n",
    "            decoder_input = targ\n",
    "        \n",
    "            \n",
    "    else:\n",
    "        for di in range(target_length):\n",
    "            if attention:\n",
    "                decoder_output, decoder_hidden = decoder(decoder_input, decoder_hidden, encoder_output)\n",
    "            else:\n",
    "                decoder_output, decoder_hidden = decoder(decoder_input, decoder_hidden)                    \n",
    "            \n",
    "            targ = target_variable[:, di]\n",
    "            loss += criterion(decoder_output, targ)\n",
    "            _, indices = torch.max(decoder_output, 1)\n",
    "            decoder_input = indices\n",
    "            \n",
    "    loss.backward()\n",
    "    encoder_optimizer.step()\n",
    "    decoder_optimizer.step()\n",
    "    return loss.data[0] / target_length"
   ]
  },
  {
   "cell_type": "code",
   "execution_count": 18,
   "metadata": {
    "ExecuteTime": {
     "end_time": "2018-02-08T10:41:53.601781Z",
     "start_time": "2018-02-08T10:41:53.570230Z"
    },
    "code_folding": [],
    "collapsed": true
   },
   "outputs": [],
   "source": [
    "def trainIters(attention, encoder, decoder, iters, print_every=1000, plot_every=100, \n",
    "                learning_rate=0.01):\n",
    "\n",
    "\n",
    "    plot_losses = []\n",
    "    print_loss_total = 0 # Reset every print_every\n",
    "    plot_loss_total = 0 # Reset every plot_every\n",
    "    \n",
    "    encoder_optimizer = optim.Adam(encoder.parameters(), lr=learning_rate, betas=(0.5, 0.999))\n",
    "    decoder_optimizer = optim.Adam(decoder.parameters(), lr=learning_rate, betas=(0.5, 0.999))\n",
    "    criterion = nn.NLLLoss().cuda()\n",
    "\n",
    "    for iter in tqdm_notebook(range(1, iters + 1)):\n",
    "        training_batch = get_batch(input_train, labels_train, 128)\n",
    "        input_variable = Variable(torch.LongTensor((training_batch[0].astype('int64')))).cuda()\n",
    "        target_variable = Variable(torch.LongTensor(training_batch[1].astype('int64'))).cuda()\n",
    "        loss = train(attention, input_variable, target_variable, encoder, decoder, encoder_optimizer, \n",
    "                             decoder_optimizer, criterion)\n",
    "        print_loss_total += loss\n",
    "        plot_loss_total += loss\n",
    "\n",
    "        if iter % print_every == 0:\n",
    "            print_loss_avg = print_loss_total / print_every\n",
    "            print_loss_total = 0\n",
    "            print('Loss: ',print_loss_avg, end=\"\\r\", flush=True)\n",
    "            \n",
    "        if iter % plot_every == 0:\n",
    "            plot_loss_avg = plot_loss_total / plot_every\n",
    "            plot_losses.append(plot_loss_avg)\n",
    "            plot_loss_total = 0\n",
    "    \n",
    "    showPlot(plot_losses)"
   ]
  },
  {
   "cell_type": "markdown",
   "metadata": {},
   "source": [
    "### Train"
   ]
  },
  {
   "cell_type": "code",
   "execution_count": 19,
   "metadata": {
    "ExecuteTime": {
     "end_time": "2018-02-08T10:41:53.606665Z",
     "start_time": "2018-02-08T10:41:53.602714Z"
    },
    "code_folding": [],
    "collapsed": true
   },
   "outputs": [],
   "source": [
    "def showPlot(points):\n",
    "    plt.figure()\n",
    "    fig, ax = plt.subplots()\n",
    "    loc = ticker.MultipleLocator(base=0.2) # this locator puts ticks at regular intervals\n",
    "    ax.yaxis.set_major_locator(loc)\n",
    "    plt.plot(points)"
   ]
  },
  {
   "cell_type": "code",
   "execution_count": 148,
   "metadata": {
    "ExecuteTime": {
     "end_time": "2018-02-08T12:46:32.823068Z",
     "start_time": "2018-02-08T12:46:32.764517Z"
    },
    "collapsed": true
   },
   "outputs": [],
   "source": [
    "encoder = EncoderRNN(input_vocab_size, dim).cuda()\n",
    "#decoder = DecoderRNN(dim, output_vocab_size).cuda(); attn=False\n",
    "decoder = AttnDecoderRNN(dim, output_vocab_size, maxlen_p).cuda(); attn=True"
   ]
  },
  {
   "cell_type": "code",
   "execution_count": 149,
   "metadata": {
    "ExecuteTime": {
     "end_time": "2018-02-08T12:47:51.493953Z",
     "start_time": "2018-02-08T12:46:35.279550Z"
    }
   },
   "outputs": [
    {
     "data": {
      "application/vnd.jupyter.widget-view+json": {
       "model_id": "1870e67ed274407ea1a82db966d4cd54",
       "version_major": 2,
       "version_minor": 0
      },
      "text/html": [
       "<p>Failed to display Jupyter Widget of type <code>HBox</code>.</p>\n",
       "<p>\n",
       "  If you're reading this message in the Jupyter Notebook or JupyterLab Notebook, it may mean\n",
       "  that the widgets JavaScript is still loading. If this message persists, it\n",
       "  likely means that the widgets JavaScript library is either not installed or\n",
       "  not enabled. See the <a href=\"https://ipywidgets.readthedocs.io/en/stable/user_install.html\">Jupyter\n",
       "  Widgets Documentation</a> for setup instructions.\n",
       "</p>\n",
       "<p>\n",
       "  If you're reading this message in another frontend (for example, a static\n",
       "  rendering on GitHub or <a href=\"https://nbviewer.jupyter.org/\">NBViewer</a>),\n",
       "  it may mean that your frontend doesn't currently support widgets.\n",
       "</p>\n"
      ],
      "text/plain": [
       "HBox(children=(IntProgress(value=0, max=1000), HTML(value='')))"
      ]
     },
     "metadata": {},
     "output_type": "display_data"
    },
    {
     "name": "stdout",
     "output_type": "stream",
     "text": [
      "Loss:  0.4554018646240237\n"
     ]
    },
    {
     "data": {
      "text/plain": [
       "<matplotlib.figure.Figure at 0x7f24c121d080>"
      ]
     },
     "metadata": {},
     "output_type": "display_data"
    },
    {
     "data": {
      "image/png": "[encoded data removed]",
      "text/plain": [
       "<matplotlib.figure.Figure at 0x7f24c1e6c048>"
      ]
     },
     "metadata": {},
     "output_type": "display_data"
    }
   ],
   "source": [
    "trainIters(attn, encoder, decoder, 1000, print_every=500, learning_rate=0.0005)"
   ]
  },
  {
   "cell_type": "markdown",
   "metadata": {},
   "source": [
    "## Evaluation"
   ]
  },
  {
   "cell_type": "code",
   "execution_count": 150,
   "metadata": {
    "ExecuteTime": {
     "end_time": "2018-02-08T12:48:27.432672Z",
     "start_time": "2018-02-08T12:48:27.426933Z"
    }
   },
   "outputs": [],
   "source": [
    "batch_size = 1024"
   ]
  },
  {
   "cell_type": "code",
   "execution_count": 151,
   "metadata": {
    "ExecuteTime": {
     "end_time": "2018-02-08T12:48:28.024390Z",
     "start_time": "2018-02-08T12:48:28.019787Z"
    }
   },
   "outputs": [],
   "source": [
    "test_batch = get_batch(input_test, labels_test, batch_size)"
   ]
  },
  {
   "cell_type": "code",
   "execution_count": 152,
   "metadata": {
    "ExecuteTime": {
     "end_time": "2018-02-08T12:48:29.318684Z",
     "start_time": "2018-02-08T12:48:29.050055Z"
    },
    "cell_style": "center"
   },
   "outputs": [],
   "source": [
    "def beam_search(test_batch, encoder, decoder, batch_size=128):\n",
    "    totAcc = 0\n",
    "    preds_beam = []\n",
    "    for num in tqdm_notebook(range(batch_size)): \n",
    "        k=5\n",
    "        #test_batch = get_batch(input_test, labels_test, batch_size1)\n",
    "        #print('-'.join([phonemes[p] for p in test_batch[0][0]]))\n",
    "        #print([letters[l] for l in test_batch[1][0]])\n",
    "        input_variable = Variable(torch.LongTensor((test_batch[0][num].astype('int64'))), volatile=True).cuda() #[1x16]\n",
    "        target_variable = Variable(torch.LongTensor(test_batch[1][num].astype('int64')), volatile=True).cuda() #[1x15]\n",
    "        input_variable = input_variable.unsqueeze(0)\n",
    "        target_variable = target_variable.unsqueeze(0)\n",
    "\n",
    "        target_length = target_variable.size()[1]\n",
    "        encoder_hidden = encoder.initHidden(1).cuda()\n",
    "\n",
    "        hypothesis = []\n",
    "        nhypothesis = []\n",
    "        lhypothesis = Variable(torch.LongTensor([0]*k)).cuda() #[k]\n",
    "        kprobs = Variable(torch.zeros(k)) #[k]\n",
    "        hstates = Variable(torch.zeros(k, 1,240)) #[k]\n",
    "        nhstates = Variable(torch.zeros(k, 1,240)) #[k]\n",
    "        for_the_best = Variable(torch.zeros(k*k))\n",
    "        for_the_besti = Variable(torch.zeros(k*k))\n",
    "        encoder_output, encoder_hidden = encoder(input_variable, encoder_hidden)\n",
    "        decoder_input = Variable(torch.LongTensor([SOS_token]), volatile=True).cuda()\n",
    "        decoder_output, decoder_hidden = decoder(decoder_input, encoder_hidden, encoder_output) #Decoder output[B,O]\n",
    "        #print ('decode hidden', decoder_hidden.size)\n",
    "        #print ('decoder output', decoder_output.size)\n",
    "        decoder_output = decoder_output.squeeze(0)\n",
    "        vals, indices = torch.topk(decoder_output, k, 0) #[1xk]\n",
    "        #print('log probs' ,vals)\n",
    "        for i in range(k):\n",
    "            hypothesis.append([indices[i].data.cpu().numpy().item()])\n",
    "            nhypothesis=list(hypothesis)\n",
    "            lhypothesis[i] = indices[i]\n",
    "            kprobs[i] = (vals[i].data)\n",
    "        #print ('initial hypothesis', hypothesis)\n",
    "        #print ('initial hypothesis', nhypothesis)\n",
    "        #print ('wtf', letters[hypothesis[0][0]])\n",
    "        #print ('wtf', letters[hypothesis[1][0]])\n",
    "        #print ('wtf', letters[hypothesis[2][0]])\n",
    "        #[p2i[p] for p in ps] for w, ps in lines)\n",
    "        to_use = torch.zeros(k*k)\n",
    "        hstates = decoder_hidden.repeat(k, 1, 1)\n",
    "        for di in range(target_length-1):\n",
    "            for i in range(k):\n",
    "                #if di>0:\n",
    "                #print ('hypothesis' ,hypothesis)\n",
    "                decoder_input = lhypothesis[i]\n",
    "                #print ('decoder input ++++++++++++++', decoder_input)\n",
    "                #else:\n",
    "                    #decoder_input = hypothesis[i][-1]\n",
    "\n",
    "                #print ('For debug' ,i, decoder_input.size)\n",
    "                decoder_hidden = hstates[i].unsqueeze(0)\n",
    "                #if i==0: print('decoder input and hidden size, watch format', decoder_input.size, decoder_hidden.size)\n",
    "                decoder_output, decoder_hidden = decoder(decoder_input, decoder_hidden, encoder_output) #Decoder output[B,O]\n",
    "                #print (decoder_output.size)\n",
    "                decoder_output = decoder_output.squeeze(0)\n",
    "                nvals, nindices = torch.topk(decoder_output, k, 0) #[1xk]\n",
    "                nhstates[i] = decoder_hidden\n",
    "                #print ('decoder output', decoder_output.size)\n",
    "                for_the_best[k*i:(k*i+k)] = nvals\n",
    "                for_the_besti[k*i:(k*i+k)] = nindices\n",
    "            #print ('WHAT IS KPROBS   ', kprobs.size)\n",
    "            for i in range(k): to_use[k*i:(k*i+k)]=kprobs[i].data.repeat(k)\n",
    "            #print ('to use and for the best', to_use.size(), for_the_best.size())\n",
    "            toppers = (to_use.numpy() + for_the_best.cpu().data.numpy())\n",
    "            #print ('toppers', toppers)\n",
    "            #print ('for the best i',for_the_besti.cpu().data.numpy())\n",
    "            #pdb.set_trace()\n",
    "            #print ('here is the second' ,[letters[int(i)] for i in for_the_besti.data.cpu().numpy()])\n",
    "\n",
    "            vals, nindices = torch.topk(torch.from_numpy((1/target_length**0.7)*(toppers)), k, 0) \n",
    "            #print (nindices, vals)\n",
    "            lhypothesis = Variable(torch.LongTensor([0]*k)).cuda() #[k]\n",
    "            for i,x in enumerate(nindices):\n",
    "                kprobs[i] = float(toppers[x])\n",
    "                lhypothesis[i]=for_the_besti[x]\n",
    "                hstates[i]=nhstates[np.floor(x/k)]\n",
    "                #print ('x and k here are', int(np.floor(x/k)))\n",
    "                nhypothesis[i]=list(hypothesis[int(np.floor(x/k))])\n",
    "                #print ('New hypothesis revealed' ,hypothesis[int(np.floor(x/k))])\n",
    "                nhypothesis[i].append(int(for_the_besti[x].data.numpy()))\n",
    "                #print ('new hypothesis',[letters[l] for l in nhypothesis[i]])\n",
    "            hypothesis = list(nhypothesis)\n",
    "\n",
    "            #print ('new hypo', (hypothesis[0]))\n",
    "\n",
    "            #print ('vamos amigos porqu ',lhypothesis)\n",
    "            #if (di==1): break\n",
    "        #print([letters[l] for l in hypothesis[0]], kprobs[0])\n",
    "        #print([letters[l] for l in hypothesis[1]], kprobs[1])\n",
    "        #print([letters[l] for l in hypothesis[2]], kprobs[2])\n",
    "        #print (__________________________________)\n",
    "        totAcc += (np.mean([(real==p) for real, p in zip(test_batch[1][0].tolist(), (hypothesis[0]))]))\n",
    "        preds_beam.append(np.array(hypothesis[0]))\n",
    "\n",
    "    #print ('Accuracy', np.mean([all(real==p) for real, p in zip(test_batch[1], preds)])*100,'%')\n",
    "    print (totAcc/batch_size)\n",
    "    return np.asarray(preds_beam)"
   ]
  },
  {
   "cell_type": "code",
   "execution_count": 153,
   "metadata": {
    "ExecuteTime": {
     "end_time": "2018-02-08T12:48:31.081709Z",
     "start_time": "2018-02-08T12:48:31.053080Z"
    },
    "code_folding": [],
    "collapsed": true
   },
   "outputs": [],
   "source": [
    "def evaluate(test_batch, attention, encoder, decoder, batch_size=128):  \n",
    "\n",
    "    input_variable = Variable(torch.LongTensor((test_batch[0].astype('int64'))), volatile=True).cuda()\n",
    "    target_variable = Variable(torch.LongTensor(test_batch[1].astype('int64')), volatile=True).cuda()\n",
    "\n",
    "    target_length = target_variable.size()[1]\n",
    "    encoder_hidden = encoder.initHidden(batch_size).cuda()\n",
    "\n",
    "    encoder_output, encoder_hidden = encoder(input_variable, encoder_hidden)\n",
    "    decoder_input = Variable(torch.LongTensor([SOS_token]*batch_size), volatile=True).cuda()\n",
    "    \n",
    "    decoder_hidden = encoder_hidden\n",
    "    decoded_words = []\n",
    "    for di in range(target_length):\n",
    "        if attention:\n",
    "            decoder_output, decoder_hidden = decoder(decoder_input, decoder_hidden, encoder_output)\n",
    "        else:\n",
    "            decoder_output, decoder_hidden = decoder(decoder_input, decoder_hidden)                \n",
    "        _, indices = torch.max(decoder_output, 1)\n",
    "        decoded_words.append(indices)\n",
    "        decoder_input = indices\n",
    "    preds = []\n",
    "    for x in decoded_words:\n",
    "        preds.append(x.cpu().data.numpy())\n",
    "    preds = np.array(preds).T\n",
    "    print ('Accuracy', np.mean([all(real==p) for real, p in zip(test_batch[1], preds)])*100,'%')\n",
    "    return (preds)\n",
    "    "
   ]
  },
  {
   "cell_type": "code",
   "execution_count": 161,
   "metadata": {
    "ExecuteTime": {
     "end_time": "2018-02-08T12:48:37.570763Z",
     "start_time": "2018-02-08T12:48:37.514688Z"
    }
   },
   "outputs": [
    {
     "name": "stdout",
     "output_type": "stream",
     "text": [
      "Accuracy 25.1953125 %\n"
     ]
    }
   ],
   "source": [
    "preds = evaluate(test_batch, attn, encoder, decoder, batch_size)"
   ]
  },
  {
   "cell_type": "code",
   "execution_count": 162,
   "metadata": {
    "ExecuteTime": {
     "end_time": "2018-02-08T12:49:52.219467Z",
     "start_time": "2018-02-08T12:48:38.567142Z"
    }
   },
   "outputs": [
    {
     "data": {
      "application/vnd.jupyter.widget-view+json": {
       "model_id": "49c084d211414281a9dddf474fe629dc",
       "version_major": 2,
       "version_minor": 0
      },
      "text/html": [
       "<p>Failed to display Jupyter Widget of type <code>HBox</code>.</p>\n",
       "<p>\n",
       "  If you're reading this message in the Jupyter Notebook or JupyterLab Notebook, it may mean\n",
       "  that the widgets JavaScript is still loading. If this message persists, it\n",
       "  likely means that the widgets JavaScript library is either not installed or\n",
       "  not enabled. See the <a href=\"https://ipywidgets.readthedocs.io/en/stable/user_install.html\">Jupyter\n",
       "  Widgets Documentation</a> for setup instructions.\n",
       "</p>\n",
       "<p>\n",
       "  If you're reading this message in another frontend (for example, a static\n",
       "  rendering on GitHub or <a href=\"https://nbviewer.jupyter.org/\">NBViewer</a>),\n",
       "  it may mean that your frontend doesn't currently support widgets.\n",
       "</p>\n"
      ],
      "text/plain": [
       "HBox(children=(IntProgress(value=0, max=1024), HTML(value='')))"
      ]
     },
     "metadata": {},
     "output_type": "display_data"
    },
    {
     "name": "stdout",
     "output_type": "stream",
     "text": [
      "\n",
      "0.5097656250000029\n"
     ]
    }
   ],
   "source": [
    "preds_beam = beam_search(test_batch, encoder, decoder, batch_size)"
   ]
  },
  {
   "cell_type": "code",
   "execution_count": 167,
   "metadata": {
    "ExecuteTime": {
     "end_time": "2018-02-08T12:55:26.222574Z",
     "start_time": "2018-02-08T12:55:26.213798Z"
    }
   },
   "outputs": [],
   "source": [
    "def results(preds_beam, preds, test_batch):\n",
    "    print ('  Phonemes_________________________________predictions___________beamed_____________label')\n",
    "    for index in range(32):\n",
    "        phoneme = '-'.join([phonemes[p] for p in test_batch[0][index]])\n",
    "        prediction = [letters[l] for l in preds[index]]\n",
    "        real = [letters[l] for l in test_batch[1][index]]\n",
    "        beamed = [letters[l] for l in preds_beam[index]]\n",
    "        print ('  ',phoneme.strip('-_').ljust(40), ''.join(prediction).strip('_').ljust(20), ''.join(beamed).strip('_').ljust(20),\n",
    "               ''.join(real).strip('_'))"
   ]
  },
  {
   "cell_type": "code",
   "execution_count": 168,
   "metadata": {
    "ExecuteTime": {
     "end_time": "2018-02-08T12:55:26.593010Z",
     "start_time": "2018-02-08T12:55:26.580342Z"
    }
   },
   "outputs": [
    {
     "name": "stdout",
     "output_type": "stream",
     "text": [
      "  Phonemes_________________________________predictions___________beamed_____________label\n",
      "   AH0-N-S-EH1-D                            anseed               ansedd               unsaid\n",
      "   M-AH1-S-T-AE2-SH                         mustash              mustash              moustache\n",
      "   M-AA1-R-K-W-UH2-D                        markwood             markwood             markwood\n",
      "   L-AH1-V-ER0-IH0-NG                       luvering             lovering             lovering\n",
      "   R-OW1-M-AH0-N                            roman                romann               romann\n",
      "   AH2-N-D-ER0-G-OW1                        undergo              undergo              undergo\n",
      "   L-AH0-V-IY1-K                            laveke               laveke               leveque\n",
      "   K-AA0-P-EY1-L                            capayl               capayl               capell\n",
      "   CH-EY1-B-AH0-N                           chaben               chaben               chabon\n",
      "   M-IH0-S-K-AH0-N-S-EH1-P-SH-AH0-N-Z       misconceeptions      misconceptions       misconceptions\n",
      "   S-ER1-K-Y-AH0-L-ER0                      serkuller            surkuler             circular\n",
      "   K-ER1-M-AH0-N                            kurman               kurman               kerman\n",
      "   P-AA1-R-N-Z                              parns                parns                parnes\n",
      "   B-AY1-R-IY2-M                            bireem               biriem               bireme\n",
      "   T-IH1-NG-K-ER0-ER0-Z                     tinkerrs             tinkerrs             tinkerers\n",
      "   S-EY1-L-S                                sayles               sayls                salce\n",
      "   P-AA2-L-IY2-AE1-M-AY2-D                  poliammide           poliammied           polyamide\n",
      "   UH1-B-AH0-L                              ubble                ubble                uebel\n",
      "   L-IH1-M-ER0-IH0-K                        limeric              limerick             limerick\n",
      "   HH-EH1-JH-K-AA2-K                        hegkkak              heghkok              hedgecock\n",
      "   S-T-R-AE1-NG-W-EY2-Z                     strangwas            strangways           strangwayes\n",
      "   G-ER1-G-AH0-N                            gurgan               gurgan               gergen\n",
      "   F-L-AY1-SH-M-AH0-N                       flichiman            fleishman            fleishman\n",
      "   L-AH0-B-EH1-L                            labell               labell               labelle\n",
      "   S-T-AY1-N-B-ER0-G-ER0                    stinberger           steinberger          steinberger\n",
      "   T-AY1-L-IY0                              tilley               tilley               tiley\n",
      "   B-EH1-N-S-AH0-L                          bensell              bensel               bensel\n",
      "   L-AH0-TH-AA1-R-JH-IH0-K                  lathargic            lathargic            lethargic\n",
      "   K-EH1-M-ER0-L-IH0-NG                     kemmerling           kemmerling           kemmerling\n",
      "   M-AE1-JH-IH0-S-T-R-EY2-T-S               magistrates          magistrates          magistrates\n",
      "   N-OW1-T-AH0-F-AY2-IH0-NG                 notifiing            notifiing            notifying\n",
      "   K-R-IH1-S-CH-AH0-N-S-AH0-N               criscioncen          kriscioncen          kristiansen\n"
     ]
    }
   ],
   "source": [
    "results(preds_beam, preds, test_batch)"
   ]
  },
  {
   "cell_type": "markdown",
   "metadata": {},
   "source": [
    "## Serialization"
   ]
  },
  {
   "cell_type": "code",
   "execution_count": 25,
   "metadata": {
    "ExecuteTime": {
     "end_time": "2018-02-08T10:48:24.391296Z",
     "start_time": "2018-02-08T10:48:24.366088Z"
    }
   },
   "outputs": [
    {
     "name": "stderr",
     "output_type": "stream",
     "text": [
      "/opt/anaconda/lib/python3.6/site-packages/torch/serialization.py:147: UserWarning: Couldn't retrieve source code for container of type EncoderRNN. It won't be checked for correctness upon loading.\n",
      "  \"type \" + obj.__name__ + \". It won't be checked \"\n",
      "/opt/anaconda/lib/python3.6/site-packages/torch/serialization.py:147: UserWarning: Couldn't retrieve source code for container of type AttnDecoderRNN. It won't be checked for correctness upon loading.\n",
      "  \"type \" + obj.__name__ + \". It won't be checked \"\n",
      "/opt/anaconda/lib/python3.6/site-packages/torch/serialization.py:147: UserWarning: Couldn't retrieve source code for container of type Attn. It won't be checked for correctness upon loading.\n",
      "  \"type \" + obj.__name__ + \". It won't be checked \"\n"
     ]
    }
   ],
   "source": [
    "torch.save(encoder, 'models/encoder07.dat')\n",
    "torch.save(decoder, 'models/decoder07.dat')"
   ]
  },
  {
   "cell_type": "code",
   "execution_count": 26,
   "metadata": {
    "ExecuteTime": {
     "end_time": "2018-02-08T10:48:24.405831Z",
     "start_time": "2018-02-08T10:48:24.392582Z"
    },
    "collapsed": true
   },
   "outputs": [],
   "source": [
    "encoder = torch.load('models/encoder07.dat')\n",
    "decoder = torch.load('models/decoder07.dat')"
   ]
  },
  {
   "cell_type": "markdown",
   "metadata": {},
   "source": [
    "## References \n",
    "<ol>\n",
    "<li>[Neural Machine Translation by Jointly Learning to Align and Translate](https://arxiv.org/abs/1409.0473)</li>\n",
    "<li>[Spro's seq2seq Pytorch Tutorial](https://github.com/spro/practical-pytorch/blob/master/seq2seq-translation/seq2seq-translation.ipynb)</li> \n",
    "<li>[fast.ai MOOC](http://www.fast.ai/)</li>\n",
    "<li>[AuCson's implementation](https://github.com/AuCson/PyTorch-Batch-Attention-Seq2seq/blob/master/attentionRNN.py)</li>\n",
    "<li>[Datalogue Blog about attention](https://medium.com/datalogue/attention-in-keras-1892773a4f22)\n",
    "</ol>\n"
   ]
  }
 ],
 "metadata": {
  "kernelspec": {
   "display_name": "Python 3",
   "language": "python",
   "name": "python3"
  },
  "language_info": {
   "codemirror_mode": {
    "name": "ipython",
    "version": 3
   },
   "file_extension": ".py",
   "mimetype": "text/x-python",
   "name": "python",
   "nbconvert_exporter": "python",
   "pygments_lexer": "ipython3",
   "version": "3.6.2"
  },
  "latex_envs": {
   "LaTeX_envs_menu_present": true,
   "autocomplete": true,
   "bibliofile": "biblio.bib",
   "cite_by": "apalike",
   "current_citInitial": 1,
   "eqLabelWithNumbers": true,
   "eqNumInitial": 1,
   "hotkeys": {
    "equation": "Ctrl-E",
    "itemize": "Ctrl-I"
   },
   "labels_anchors": false,
   "latex_user_defs": false,
   "report_style_numbering": false,
   "user_envs_cfg": false
  }
 },
 "nbformat": 4,
 "nbformat_minor": 2
}
