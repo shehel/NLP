{
 "cells": [
  {
   "cell_type": "markdown",
   "metadata": {},
   "source": [
    "# Attention seq2seq - Pytorch"
   ]
  },
  {
   "cell_type": "markdown",
   "metadata": {},
   "source": [
    "Dataset: http://svn.code.sf.net/p/cmusphinx/code/trunk/cmudict/cmudict-0.7b"
   ]
  },
  {
   "cell_type": "code",
   "execution_count": 1,
   "metadata": {
    "collapsed": true
   },
   "outputs": [],
   "source": [
    "%matplotlib inline\n",
    "\n",
    "import numpy as np\n",
    "import torch.nn as nn\n",
    "import torch.nn.parallel\n",
    "import torch.nn.functional as F\n",
    "from torch.autograd import Variable\n",
    "from torch import optim\n",
    "import re\n",
    "import time, math\n",
    "from sklearn.model_selection import train_test_split\n",
    "\n",
    "Path = 'data/'"
   ]
  },
  {
   "cell_type": "markdown",
   "metadata": {},
   "source": [
    "## Preprocessing"
   ]
  },
  {
   "cell_type": "code",
   "execution_count": 2,
   "metadata": {},
   "outputs": [
    {
     "data": {
      "text/plain": [
       "('A', ['AH0'])"
      ]
     },
     "execution_count": 2,
     "metadata": {},
     "output_type": "execute_result"
    }
   ],
   "source": [
    "#Get each word that begins with A-Z from each line into a list \n",
    "lines = [l.strip().split(\"  \") for l in open(Path+'cmudict-0.7b', encoding='latin1') \n",
    "         if re.match('^[A-Z]', l)]\n",
    "#Split words and phonemes\n",
    "lines = [(w, ps.split()) for w, ps in lines]\n",
    "lines[0]"
   ]
  },
  {
   "cell_type": "code",
   "execution_count": 3,
   "metadata": {},
   "outputs": [
    {
     "data": {
      "text/plain": [
       "70"
      ]
     },
     "execution_count": 3,
     "metadata": {},
     "output_type": "execute_result"
    }
   ],
   "source": [
    "#Get a list of all the unique phonemes from lines and adding _ to position 0 because it corresponds to padding\n",
    "#when tokenised\n",
    "phonemes = [\"_\"]+sorted(set(p for w, ps in lines for p in ps))\n",
    "len(phonemes)"
   ]
  },
  {
   "cell_type": "code",
   "execution_count": 4,
   "metadata": {
    "collapsed": true
   },
   "outputs": [],
   "source": [
    "#Map phonemes to indices and letters to indices.\n",
    "p2i = dict((v, k) for k, v in enumerate(phonemes))\n",
    "letters = \"_abcdefghijklmnopqrstuvwxyz*\"\n",
    "l2i = dict((v, k) for k, v in enumerate(letters))"
   ]
  },
  {
   "cell_type": "code",
   "execution_count": 5,
   "metadata": {
    "collapsed": true
   },
   "outputs": [],
   "source": [
    "#Start of sentence token\n",
    "SOS_token = 0"
   ]
  },
  {
   "cell_type": "code",
   "execution_count": 6,
   "metadata": {},
   "outputs": [
    {
     "data": {
      "text/plain": [
       "108006"
      ]
     },
     "execution_count": 6,
     "metadata": {},
     "output_type": "execute_result"
    }
   ],
   "source": [
    "maxlen = 15\n",
    "#Map words to corresponding list of phoneme indices. Constraint\n",
    "pronounce_dict = {w.lower(): [p2i[p] for p in ps] for w, ps in lines\n",
    "                    if (5<=len(w)<=maxlen) and re.match(\"^[A-Z]+$\", w)}\n",
    "len(pronounce_dict)"
   ]
  },
  {
   "cell_type": "code",
   "execution_count": 7,
   "metadata": {},
   "outputs": [
    {
     "data": {
      "text/plain": [
       "16"
      ]
     },
     "execution_count": 7,
     "metadata": {},
     "output_type": "execute_result"
    }
   ],
   "source": [
    "maxlen_p = max([len(v) for k,v in pronounce_dict.items()]); maxlen_p"
   ]
  },
  {
   "cell_type": "code",
   "execution_count": 8,
   "metadata": {
    "collapsed": true
   },
   "outputs": [],
   "source": [
    "#words contain the number of words in the filtered dictionary\n",
    "words = np.random.permutation(list(pronounce_dict.keys()))\n",
    "n = len(words)\n",
    "\n",
    "#Initialise the input and labels array with zeros so that everywhere except \n",
    "#the position of values is padded\n",
    "input_ = np.zeros((n, maxlen_p), np.int32)\n",
    "labels_ = np.zeros((n, maxlen), np.int32)\n",
    "\n",
    "#Fill in the non zero indices\n",
    "for i, k in enumerate(words):\n",
    "    for j, p in enumerate(pronounce_dict[k]): input_[i][j]=p\n",
    "    for j, p in enumerate(k): labels_[i][j] = l2i[p]\n",
    "        "
   ]
  },
  {
   "cell_type": "code",
   "execution_count": 9,
   "metadata": {
    "collapsed": true
   },
   "outputs": [],
   "source": [
    "#Create train, validation sets\n",
    "(input_train, input_test, labels_train, labels_test, \n",
    "    ) = train_test_split(input_, labels_, test_size=0.1)"
   ]
  },
  {
   "cell_type": "code",
   "execution_count": 10,
   "metadata": {},
   "outputs": [
    {
     "data": {
      "text/plain": [
       "(70, 28)"
      ]
     },
     "execution_count": 10,
     "metadata": {},
     "output_type": "execute_result"
    }
   ],
   "source": [
    "input_vocab_size, output_vocab_size = len(phonemes), len(letters);input_vocab_size, output_vocab_size"
   ]
  },
  {
   "cell_type": "code",
   "execution_count": 11,
   "metadata": {
    "collapsed": true
   },
   "outputs": [],
   "source": [
    "dim = 240"
   ]
  },
  {
   "cell_type": "code",
   "execution_count": 12,
   "metadata": {
    "collapsed": true
   },
   "outputs": [],
   "source": [
    "def get_batch(x, y, batch_size=128):\n",
    "    idxs = np.random.permutation(len(x))[:batch_size]\n",
    "    return x[idxs], y[idxs]"
   ]
  },
  {
   "cell_type": "markdown",
   "metadata": {},
   "source": [
    "## Model\n"
   ]
  },
  {
   "cell_type": "code",
   "execution_count": 13,
   "metadata": {
    "collapsed": true
   },
   "outputs": [],
   "source": [
    "class EncoderRNN(nn.Module):\n",
    "    def __init__(self, input_size, hidden_size, n_layers=1):\n",
    "        super(EncoderRNN, self).__init__()\n",
    "        self.hidden_size = hidden_size\n",
    "        self.embedding = nn.Embedding(input_size, hidden_size//2)\n",
    "        self.grubi = nn.GRU(hidden_size//2, hidden_size//2, dropout=0.1, batch_first=True, num_layers=1,\n",
    "                         bidirectional=True)\n",
    "        self.gru = nn.GRU(hidden_size, hidden_size, batch_first=True, dropout=0.1,\n",
    "                            num_layers=1)\n",
    "        \n",
    "    def forward(self, input, hidden):\n",
    "        #print ('encoder inputs input and hidden = ', input.size(), hidden.size())\n",
    "        #print ('encoder embedding', (self.embedding(input)).size())\n",
    "        x, hidden = self.grubi(self.embedding(input), hidden)\n",
    "        h1,h2 = torch.chunk(hidden, 2, 0)\n",
    "        hidden = torch.cat((h1,h2),2)\n",
    "        output, hidden = self.gru(x, hidden)\n",
    "        #print ('Encoder output-hidden = ', output.size(), hidden.size())\n",
    "        return output, hidden\n",
    "\n",
    "    # TODO: other inits\n",
    "    def initHidden(self, batch_size):\n",
    "        return Variable(torch.zeros(2, batch_size, self.hidden_size//2))"
   ]
  },
  {
   "cell_type": "code",
   "execution_count": 14,
   "metadata": {
    "code_folding": [],
    "collapsed": true
   },
   "outputs": [],
   "source": [
    "class DecoderRNN(nn.Module):\n",
    "    def __init__(self, hidden_size, output_size, n_layers=1):\n",
    "        super(DecoderRNN, self).__init__()\n",
    "        self.hidden_size = hidden_size\n",
    "        self.embedding = nn.Embedding(output_size, hidden_size)\n",
    "        self.gru = nn.GRU(hidden_size, hidden_size, batch_first=True, num_layers=1)\n",
    "        self.gru2 = nn.GRU(hidden_size, hidden_size, batch_first=True, num_layers=1)\n",
    "\n",
    "        # TODO use transpose of embedding\n",
    "        self.out = nn.Linear(hidden_size, output_size)\n",
    "        self.sm = nn.LogSoftmax()\n",
    "        \n",
    "    def forward(self, input, hidden):\n",
    "        #print ('decoder inputs input and hidden = ', input.size(), hidden.size())\n",
    "        #emb = self.embedding(input).unsqueeze(1)\n",
    "        #print ('decoder input = ', emb.size())\n",
    "        # NB: Removed relu\n",
    "        res, hidden = self.gru(input, hidden)\n",
    "        #res, hidden = self.gru2(res, hidden)\n",
    "        #print ('decoder output-hidden = ', res.size(), hidden.size())\n",
    "        output = self.sm(self.out(res[:,0]))\n",
    "        #print ('final output = ', output.size())\n",
    "        return output, hidden"
   ]
  },
  {
   "cell_type": "code",
   "execution_count": 15,
   "metadata": {},
   "outputs": [
    {
     "data": {
      "text/plain": [
       "(70, 28, 240)"
      ]
     },
     "execution_count": 15,
     "metadata": {},
     "output_type": "execute_result"
    }
   ],
   "source": [
    "input_vocab_size, output_vocab_size, dim"
   ]
  },
  {
   "cell_type": "code",
   "execution_count": 16,
   "metadata": {
    "code_folding": []
   },
   "outputs": [],
   "source": [
    "def train(input_variable, target_variable, encoder, decoder, \n",
    "          encoder_optimizer, decoder_optimizer, criterion):\n",
    "    batch_size, input_length = input_variable.size()\n",
    "    target_length = target_variable.size()[1]\n",
    "    encoder_hidden = encoder.initHidden(batch_size).cuda()\n",
    "    encoder_optimizer.zero_grad()\n",
    "    decoder_optimizer.zero_grad()\n",
    "    loss = 0\n",
    "\n",
    "    encoder_output, encoder_hidden = encoder(input_variable, encoder_hidden)\n",
    "    \n",
    "    decoder_input = encoder_hidden.squeeze()\n",
    "    decoder_input = decoder_input.unsqueeze(1)\n",
    "    #print ('MMYYYY',decoder_input.size())\n",
    "    decoder_hidden = encoder_hidden\n",
    "\n",
    "    for di in range(target_length):\n",
    "        decoder_output, decoder_hidden = decoder(decoder_input, decoder_hidden)          \n",
    "                #, encoder_output, encoder_outputs)\n",
    "        targ = target_variable[:, di]\n",
    "        #print(decoder_output.size(), targ.size(), target_variable.size())\n",
    "        loss += criterion(decoder_output, targ)\n",
    "        #_, indices = torch.max(decoder_output, 1)\n",
    "        #decoder_input = indices\n",
    "        \n",
    "    \n",
    "    loss.backward()\n",
    "    encoder_optimizer.step()\n",
    "    decoder_optimizer.step()\n",
    "    return loss.data[0] / target_length"
   ]
  },
  {
   "cell_type": "code",
   "execution_count": 17,
   "metadata": {
    "code_folding": [
     0,
     5
    ],
    "collapsed": true
   },
   "outputs": [],
   "source": [
    "def asMinutes(s):\n",
    "    m = math.floor(s / 60)\n",
    "    s -= m * 60\n",
    "    return '%dm %ds' % (m, s)\n",
    "\n",
    "def timeSince(since, percent):\n",
    "    now = time.time()\n",
    "    s = now - since\n",
    "    es = s / (percent)\n",
    "    rs = es - s\n",
    "    return '%s (- %s)' % (asMinutes(s), asMinutes(rs))"
   ]
  },
  {
   "cell_type": "code",
   "execution_count": 69,
   "metadata": {
    "code_folding": [],
    "collapsed": true
   },
   "outputs": [],
   "source": [
    "def trainIters(encoder, decoder, n_epochs, print_every=1000, plot_every=100, \n",
    "                learning_rate=0.01):\n",
    "    start = time.time()    \n",
    "    start = time.time()\n",
    "    plot_losses = []\n",
    "    print_loss_total = 0 # Reset every print_every\n",
    "    plot_loss_total = 0 # Reset every plot_every\n",
    "    \n",
    "    encoder_optimizer = optim.Adam(encoder.parameters(), lr=learning_rate, betas=(0.5, 0.999))\n",
    "    decoder_optimizer = optim.Adam(decoder.parameters(), lr=learning_rate, betas=(0.5, 0.999))\n",
    "\n",
    "    criterion = nn.NLLLoss().cuda()\n",
    "   \n",
    "    for epoch in range(1, n_epochs + 1):\n",
    "        training_batch = get_batch(input_train, labels_train, 128)\n",
    "\n",
    "        input_variable = Variable(torch.LongTensor((training_batch[0].astype('int64')))).cuda()\n",
    "        target_variable = Variable(torch.LongTensor(training_batch[1].astype('int64'))).cuda()\n",
    "        \n",
    "        loss = train(input_variable, target_variable, encoder, decoder, encoder_optimizer, \n",
    "                             decoder_optimizer, criterion)\n",
    "        print_loss_total += loss\n",
    "        plot_loss_total += loss\n",
    "\n",
    "        if epoch % print_every == 0:\n",
    "            print_loss_avg = print_loss_total / print_every\n",
    "            print_loss_total = 0\n",
    "            print('%s (%d %d%%) %.4f' % (timeSince(start, epoch / n_epochs), epoch, \n",
    "                                         epoch / n_epochs * 100, print_loss_avg))\n",
    "        \n",
    "        if epoch % plot_every == 0:\n",
    "            plot_loss_avg = plot_loss_total / plot_every\n",
    "            plot_losses.append(plot_loss_avg)\n",
    "            plot_loss_total = 0\n",
    "    \n",
    "    showPlot(plot_losses)"
   ]
  },
  {
   "cell_type": "code",
   "execution_count": 70,
   "metadata": {
    "collapsed": true
   },
   "outputs": [],
   "source": [
    "encoder = EncoderRNN(input_vocab_size, dim).cuda()\n",
    "decoder = DecoderRNN(dim, output_vocab_size).cuda()"
   ]
  },
  {
   "cell_type": "code",
   "execution_count": 71,
   "metadata": {
    "collapsed": true
   },
   "outputs": [],
   "source": [
    "import matplotlib.pyplot as plt\n",
    "import matplotlib.ticker as ticker\n",
    "import numpy as np\n",
    "%matplotlib inline\n",
    "\n",
    "def showPlot(points):\n",
    "    plt.figure()\n",
    "    fig, ax = plt.subplots()\n",
    "    loc = ticker.MultipleLocator(base=0.2) # this locator puts ticks at regular intervals\n",
    "    ax.yaxis.set_major_locator(loc)\n",
    "    plt.plot(points)"
   ]
  },
  {
   "cell_type": "code",
   "execution_count": 78,
   "metadata": {},
   "outputs": [
    {
     "name": "stdout",
     "output_type": "stream",
     "text": [
      "0m 12s (- 6m 12s) (500 3%) 0.2088\n",
      "0m 25s (- 6m 0s) (1000 6%) 0.2048\n",
      "0m 38s (- 5m 47s) (1500 10%) 0.2040\n",
      "0m 51s (- 5m 33s) (2000 13%) 0.1953\n",
      "1m 4s (- 5m 20s) (2500 16%) 0.1907\n",
      "1m 16s (- 5m 6s) (3000 20%) 0.1873\n",
      "1m 29s (- 4m 52s) (3500 23%) 0.1853\n",
      "1m 41s (- 4m 39s) (4000 26%) 0.1787\n",
      "1m 54s (- 4m 26s) (4500 30%) 0.1773\n",
      "2m 7s (- 4m 14s) (5000 33%) 0.1734\n",
      "2m 19s (- 4m 1s) (5500 36%) 0.1698\n",
      "2m 32s (- 3m 48s) (6000 40%) 0.1661\n",
      "2m 44s (- 3m 35s) (6500 43%) 0.1641\n",
      "2m 57s (- 3m 22s) (7000 46%) 0.1630\n",
      "3m 9s (- 3m 9s) (7500 50%) 0.1587\n",
      "3m 22s (- 2m 57s) (8000 53%) 0.1539\n",
      "3m 34s (- 2m 44s) (8500 56%) 0.1563\n",
      "3m 47s (- 2m 31s) (9000 60%) 0.1499\n",
      "4m 0s (- 2m 19s) (9500 63%) 0.1454\n",
      "4m 12s (- 2m 6s) (10000 66%) 0.1441\n",
      "4m 25s (- 1m 53s) (10500 70%) 0.1515\n",
      "4m 38s (- 1m 41s) (11000 73%) 0.1399\n",
      "4m 51s (- 1m 28s) (11500 76%) 0.1334\n",
      "5m 3s (- 1m 15s) (12000 80%) 0.1355\n",
      "5m 16s (- 1m 3s) (12500 83%) 0.1337\n",
      "5m 28s (- 0m 50s) (13000 86%) 0.1364\n",
      "5m 41s (- 0m 37s) (13500 90%) 0.1318\n",
      "5m 53s (- 0m 25s) (14000 93%) 0.1313\n",
      "6m 6s (- 0m 12s) (14500 96%) 0.1231\n",
      "6m 18s (- 0m 0s) (15000 100%) 0.1235\n"
     ]
    },
    {
     "data": {
      "text/plain": [
       "<matplotlib.figure.Figure at 0x7ff4ab1bc358>"
      ]
     },
     "metadata": {},
     "output_type": "display_data"
    },
    {
     "data": {
      "image/png": "[encoded data removed]",
      "text/plain": [
       "<matplotlib.figure.Figure at 0x7ff4ab1bceb8>"
      ]
     },
     "metadata": {},
     "output_type": "display_data"
    }
   ],
   "source": [
    "trainIters(encoder, decoder, 15000, print_every=500, learning_rate=0.0005)"
   ]
  },
  {
   "cell_type": "code",
   "execution_count": 79,
   "metadata": {},
   "outputs": [],
   "source": [
    "test_batch = get_batch(input_test, labels_test)\n",
    "\n",
    "input_variable = Variable(torch.LongTensor((test_batch[0].astype('int64')))).cuda()\n",
    "target_variable = Variable(torch.LongTensor(test_batch[1].astype('int64'))).cuda()\n",
    "\n",
    "batch_size, input_length = input_variable.size()\n",
    "target_length = target_variable.size()[1]\n",
    "encoder_hidden = encoder.initHidden(batch_size).cuda()\n",
    "    \n",
    "encoder_output, encoder_hidden = encoder(input_variable, encoder_hidden)\n",
    "#decoder_input = Variable(torch.LongTensor([SOS_token]*batch_size)).cuda()\n",
    "decoder_input = encoder_hidden.squeeze()\n",
    "decoder_input = decoder_input.unsqueeze(1)\n",
    "decoder_hidden = encoder_hidden\n",
    "decoded_words = []\n",
    "for di in range(target_length):\n",
    "    decoder_output, decoder_hidden = decoder(decoder_input, decoder_hidden)          \n",
    "    _, indices = torch.max(decoder_output, 1)\n",
    "    decoded_words.append(indices)\n",
    "    #decoder_input = indices"
   ]
  },
  {
   "cell_type": "code",
   "execution_count": 80,
   "metadata": {},
   "outputs": [],
   "source": [
    "combine = []\n",
    "for x in decoded_words:\n",
    "    combine.append(x.cpu().data.numpy())"
   ]
  },
  {
   "cell_type": "code",
   "execution_count": 81,
   "metadata": {
    "collapsed": true
   },
   "outputs": [],
   "source": [
    "combine = np.array(combine)"
   ]
  },
  {
   "cell_type": "code",
   "execution_count": 82,
   "metadata": {},
   "outputs": [
    {
     "data": {
      "text/plain": [
       "(15, 128)"
      ]
     },
     "execution_count": 82,
     "metadata": {},
     "output_type": "execute_result"
    }
   ],
   "source": [
    "combine.shape"
   ]
  },
  {
   "cell_type": "code",
   "execution_count": 90,
   "metadata": {},
   "outputs": [
    {
     "name": "stdout",
     "output_type": "stream",
     "text": [
      "  Phonemes_________________________________predictions____________label\n",
      "   Z-IH1-P-K-AE2-R                          zipkar               zipcar\n",
      "   T-UW2-P-EY1                              topey                toupee\n",
      "   G-R-AE1-S-OW0                            grasso               grasso\n",
      "   K-OW0-M-AA1-T-S-UW1                      komotuu              komatsu\n",
      "   B-AH0-K-AA1-S-AH0                        bakasa               bokassa\n",
      "   TH-IH1-K-L-IY0                           thiclly              thickly\n",
      "   W-AO1-K-S                                wahks                wachs\n",
      "   W-UH1-L-S-T-AH0-N                        wollston             woolston\n",
      "   M-IH1-SH-R-AH0                           mishra               mishra\n",
      "   R-EH2-V-AH0-L-UW1-SH-AH0-N-EH2-R-IY0-Z   revolutionaries      revolutionaries\n",
      "   B-IH0-M-OW1-N                            bemoen               bemoan\n",
      "   S-K-R-OW1-L                              scroll               scroll\n",
      "   M-IH1-S-IH0-V                            missive              missive\n",
      "   M-AA0-L-AA1-NG-G-AH0                     malangga             malanga\n",
      "   P-IH2-Z-AE1-Z                            pizazs               pizzazz\n",
      "   F-EH1-L-OW0-SH-IH2-P                     felalsship           fellowship\n",
      "   SH-EH1-F-IY0-L-D                         sheffield            sheffield\n",
      "   N-EY1-T-IH0-V-IH2-Z-AH0-M                nativism             nativism\n",
      "   M-AA1-R-K-AH2-P-S                        markups              markups\n",
      "   M-OW0-N-T-AA0-N-AA1-R-IY0                montanari            montanari\n",
      "   N-AA2-N-S-T-AA1-P-S                      nonstops             nonstops\n",
      "   AO1-T-OW1-S-P-AH0                        autsppa              autospa\n",
      "   T-R-UW1-AH0-N-T                          truent               truant\n",
      "   K-AH0-N-V-IY1-N-Y-AH0-N-T-L-IY0          conveniently         conveniently\n",
      "   F-IH1-L-AH0-T-IH0-D                      pilited              filleted\n",
      "   W-IY1-L-D-IH0-NG                         wherling             wielding\n",
      "   G-R-EY1-N-IY0                            granny               graney\n",
      "   CH-AE1-P-L-AH0-N-Z                       chapaans             chaplains\n",
      "   K-IH1-L-AH0-N                            killan               kilen\n",
      "   G-AH1-L-AH0-T                            gullet               gullatt\n",
      "   HH-AY1-M-IY0-Z                           hymees               jaimes\n",
      "   W-IH1-S-P-IY0                            whippy               wispy\n",
      "   EH0-K-S-P-EH1-R-AH0-M-EH2-N-T-IH0-NG     experimenting        experimenting\n",
      "   G-R-IH0-G-W-AA1-R                        grigua               gregoire\n",
      "   M-AH0-JH-IH1-SH-AH0-N                    magician             magician\n",
      "   AA2-P-TH-AH0-M-AA1-L-AH0-JH-IH0-S-T      optthhologosis       ophthalmologist\n",
      "   K-ER0-AH1-DH-ER0-Z                       corruthers           caruthers\n",
      "   EY1-V-ER0-B-EH2-K                        averbeck             averbeck\n",
      "   B-IH0-K-AO1-F-S-K-IY0                    bicowski             bykowski\n",
      "   AA0-N-D-OW0-L-IY1-N-AH0                  andolina             andolina\n",
      "   D-IH0-S-R-AH1-P-T-S                      disrupts             disrupts\n",
      "   M-IH1-S-T-AH0-F-AY2-D                    mystified            mystified\n",
      "   L-AE1-N-S-AH0-L-AA2-T                    lanceloo             lancelot\n",
      "   D-AW1-N-T-AW1-N                          downtown             downtown\n",
      "   HH-AA1-S-IH0-K                           hasik                hosick\n",
      "   S-K-AY1-S-K-R-EY2-P-ER0                  skyscraper           skyscraper\n",
      "   B-AH0-Z-EH1-L                            bazeelle             buzzell\n",
      "   P-AW1-ER0-IH0-NG                         powering             powering\n",
      "   S-AH1-N-S-T-EY2-T-S                      sunstates            sunstates\n",
      "   F-AO1-L-K-AH0-N-ER0                      falconer             faulconer\n",
      "   N-AY1-S-AH0-N                            nnisen               nicen\n",
      "   S-AA2-IH0-T-AA1-M-AH0                    saiatama             saitama\n",
      "   V-AE1-N-D-ER0                            vander               vander\n",
      "   CH-EH1-K                                 cheche               check\n",
      "   Z-IY1-B-R-AH0                            zibra                zebra\n",
      "   AH0-JH-EY1-S-AH0-N-T                     adaacent             adjacent\n",
      "   S-IH2-TH-ER0-IY1-AH0                     sitheria             cytherea\n",
      "   F-L-AA1-V-IY0-OW0                        flovio               flavio\n",
      "   L-AE1-T-IY0                              latty                latty\n",
      "   T-AE2-T-UW1-D                            tateode              tattooed\n",
      "   B-R-EH1-S-T-F-IY0-D-IH0-NG               breastfidming        breastfeeding\n",
      "   F-EH1-L-T-S                              feltz                felts\n",
      "   T-R-AE0-NG-K-W-IH1-L-IH0-T-IY0           tranquillity         tranquility\n",
      "   IH2-N-D-AH1-S-T-R-IY0-AH0-L-AY2-Z-IH0-NG industrialzini       industrializing\n",
      "   S-AE1-V-IH0-CH                           savich               savitch\n",
      "   M-AO1-R-OW0-Z                            moroz                moros\n",
      "   R-IH0-F-L-EH1-K-T-ER0-Z                  reflecoors           reflectors\n",
      "   K-Y-UW1-T-N-AH0-S                        cutnnss              cuteness\n",
      "   M-AY2-K-R-OW0-AO1-R-G-AH0-N-IH2-Z-AH0-M  microorgagism        microorganism\n",
      "   B-AE1-S-K-AH0-T-S                        baskets              baskets\n",
      "   F-EH1-R-OW0                              farro                pharaoh\n",
      "   B-UW1-M-ER0-AE2-NG-D                     boomrrrune           boomeranged\n",
      "   T-IY1-G-AA2-R-D-AH0-N                    teegarden            teagarden\n",
      "   W-IH1-N-IH0-G-AA0-R-D-N-ER0              winegardnee          winegardner\n",
      "   P-AH2-NG-K-S-AH0-T-AW1-N-IY2             ponssscooae          punxsutawney\n",
      "   S-M-AY1-L-IH0-NG                         smiling              smiling\n",
      "   D-AW1-T-F-AH0-L                          douttful             doubtful\n",
      "   K-IY1-S-ER0                              keeser               kieser\n",
      "   IH0-L-EH1-K-T-R-AH0-F-AY2-Z              electrofies          electrifies\n",
      "   SH-EY1-V-AH0-N                           shaven               shaven\n",
      "   N-AH1-N-L-IY0                            nunley               nunley\n",
      "   S-K-OW1-V-IH2-L                          scoville             scoville\n",
      "   W-AY1-M-AO0-R                            weimore              wymore\n",
      "   EH1-L-V-IY0                              elvie                elvie\n",
      "   SH-AY1-N-B-ER0-G                         sheneberg            scheinberg\n",
      "   K-AA1-K-L-IY0-ER0                        cocllier             cochlear\n",
      "   P-EY1-N-T-ER0                            painter              paynter\n",
      "   R-IY2-P-AH0-Z-EH1-S                      reposessss           repossess\n",
      "   K-R-IH1-S-CH-AH0-N-S-T-EH2-D             crrssshhnnsedd       christiansted\n",
      "   AA0-R-K-EY1-D                            arqaded              arcade\n",
      "   R-IH1-NG                                 winng                ringe\n",
      "   K-R-AH1-M-L-IY0                          crumley              crumly\n",
      "   S-T-R-AE1-N-D                            strand               strand\n",
      "   P-R-EH1-G-N-AH0-N-S-IY0-Z                pregnancies          pregnancies\n",
      "   K-ER1-V-IH0-N                            kurvin               curvin\n",
      "   W-AA1-D-L-IH0-NG-T-AH0-N                 wadlinggon           wadlington\n",
      "   K-AA1-R-L-IY2-N                          carleee              carlene\n",
      "   UW1-Z-B-EH0-K                            uzbeck               uzbek\n",
      "   AW1-T-F-L-AE2-NG-K                       outflank             outflank\n",
      "   L-EH1-K-IY0                              lechye               leckie\n",
      "   K-R-AH1-CH-ER0                           crutcher             crutcher\n",
      "   F-R-AH1-N-T-IH0-JH                       frontige             frontage\n",
      "   M-AA1-B-S-T-ER0                          mobster              mobster\n",
      "   D-AA1-N-Z-B-AA2-K                        donbbock             donsbach\n",
      "   D-IH1-S-T-AH0-L-EY2-T-S                  distilatiss          distillates\n",
      "   IH1-V-AH0-N-AO0-F                        iiannff              ivanoff\n",
      "   K-AH0-M-EH1-N-T-S-AA2-V                  kompenszvv           kamentsev\n",
      "   EH1-L-K-AO2-R                            elccre               elcor\n",
      "   T-ER1-M-IH0-N-AY2                        turminiey            termini\n",
      "   N-IY0-K-OW1-L-IY0                        niccoli              nicoli\n",
      "   IH2-R-IH1-D-IY0-AH0-M                    irridimm             iridium\n",
      "   OW2-V-ER0-R-EH2-G-Y-AH0-L-EY1-SH-AH0-N   overrugulation       overregulation\n",
      "   K-AO1-R-B-IH0-T                          corbett              corbet\n",
      "   R-OW0-N-D-IY0-N-EH1-L-IY0                randinelli           rondinelli\n",
      "   V-AH0-N-EH1-S-AH0                        vanessa              vanessa\n",
      "   EH2-T-S-IY2-OW1-N-IY0                    etiicnn              etzioni\n",
      "   W-ER1-S-AH0-N                            worsen               worsen\n",
      "   N-AH0-K-IY1-AH0                          nakeah               nekia\n",
      "   B-UW0-K-OW1-L-AH0                        buckola              buccola\n",
      "   IH0-M-B-AY1-B-D                          embiied              imbibed\n",
      "   M-AH1-SH-R-UH2-M-IH0-NG                  mushroaming          mushrooming\n",
      "   S-T-R-EH1-V-IH0-G                        strevig              strevig\n",
      "   B-AY0-AH0-L-AA1-JH-IH0-K-S               biologics            biologics\n",
      "   S-K-AY1-L-AY2-T-S                        skylights            skylites\n",
      "   V-AH0-S-IH1-F-ER0-EY0-T                  vociferate           vociferate\n",
      "   AA1-R-T-M-AH0-N                          artman               artman\n",
      "   AH2-N-B-AH0-L-IY1-V-IH0-NG               unbalieving          unbelieving\n",
      "   R-AH1-S-AH0-L-V-IH2-L                    russeeville          russellville\n"
     ]
    }
   ],
   "source": [
    "input_test1=test_batch[0]\n",
    "labels_test1=test_batch[1]\n",
    "print ('  Phonemes_________________________________predictions____________label')\n",
    "for index in range(128):\n",
    "    phoneme = '-'.join([phonemes[p] for p in input_test1[index]])\n",
    "    prediction = [letters[l] for l in combine[:, index]]\n",
    "    real = [letters[l] for l in labels_test1[index]]\n",
    "    print ('  ',phoneme.strip('-_').ljust(40), ''.join(prediction).strip('_').ljust(20), \n",
    "           ''.join(real).strip('_'))"
   ]
  },
  {
   "cell_type": "code",
   "execution_count": 87,
   "metadata": {},
   "outputs": [
    {
     "name": "stderr",
     "output_type": "stream",
     "text": [
      "/opt/anaconda/lib/python3.6/site-packages/torch/serialization.py:147: UserWarning: Couldn't retrieve source code for container of type EncoderRNN. It won't be checked for correctness upon loading.\n",
      "  \"type \" + obj.__name__ + \". It won't be checked \"\n"
     ]
    }
   ],
   "source": [
    "torch.save(encoder, 'models/encoder.dat')"
   ]
  },
  {
   "cell_type": "code",
   "execution_count": 88,
   "metadata": {},
   "outputs": [
    {
     "name": "stderr",
     "output_type": "stream",
     "text": [
      "/opt/anaconda/lib/python3.6/site-packages/torch/serialization.py:147: UserWarning: Couldn't retrieve source code for container of type DecoderRNN. It won't be checked for correctness upon loading.\n",
      "  \"type \" + obj.__name__ + \". It won't be checked \"\n"
     ]
    }
   ],
   "source": [
    "torch.save(decoder, 'models/decoder.dat')"
   ]
  },
  {
   "cell_type": "code",
   "execution_count": null,
   "metadata": {
    "collapsed": true
   },
   "outputs": [],
   "source": []
  }
 ],
 "metadata": {
  "kernelspec": {
   "display_name": "Python 3",
   "language": "python",
   "name": "python3"
  },
  "language_info": {
   "codemirror_mode": {
    "name": "ipython",
    "version": 3
   },
   "file_extension": ".py",
   "mimetype": "text/x-python",
   "name": "python",
   "nbconvert_exporter": "python",
   "pygments_lexer": "ipython3",
   "version": "3.6.2"
  },
  "latex_envs": {
   "LaTeX_envs_menu_present": true,
   "autocomplete": true,
   "bibliofile": "biblio.bib",
   "cite_by": "apalike",
   "current_citInitial": 1,
   "eqLabelWithNumbers": true,
   "eqNumInitial": 1,
   "hotkeys": {
    "equation": "Ctrl-E",
    "itemize": "Ctrl-I"
   },
   "labels_anchors": false,
   "latex_user_defs": false,
   "report_style_numbering": false,
   "user_envs_cfg": false
  }
 },
 "nbformat": 4,
 "nbformat_minor": 2
}
