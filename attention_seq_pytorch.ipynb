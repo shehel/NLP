{
 "cells": [
  {
   "cell_type": "markdown",
   "metadata": {},
   "source": [
    "# Attention, Beamsearch seq2seq - Pytorch"
   ]
  },
  {
   "cell_type": "markdown",
   "metadata": {},
   "source": [
    "Dataset: [CMU spelling dictionary](http://svn.code.sf.net/p/cmusphinx/code/trunk/cmudict/cmudict-0.7b) <br>\n",
    "The goal of this notebook is to implement a seq2seq attention model and a regular seq2seq is implemented alongside to gain a more complete picture.  "
   ]
  },
  {
   "cell_type": "markdown",
   "metadata": {},
   "source": [
    "## Motivating Attention"
   ]
  },
  {
   "cell_type": "markdown",
   "metadata": {},
   "source": [
    "The dataset used in this notebook contains mapping of words in English and their pronounciations as a set of phoneme word pairs like so <br>\n",
    "<small><p style=\"margin-left: 40px\">S-AE1-N-AH0-T-IY0   sanity</p></small>\n",
    "The task is to use a seq2seq model to learn this mapping so that given a set of phonemes, the model outputs the correct word. It can be seen as emulating spelling bee. Given below is an image of the results obtained from a regular seq2seq model\n",
    "<img src=\"png/seq2seq.png\">\n",
    "The predictions highlighted with red border shows a common problem with seq2seq- If only the context vector, i.e., the last hidden state in the encoder network is passed betweeen the encoder and decoder, that single vector carries the burden of encoding the entire sentence, extending upto the last timestep of the decoder. \n",
    "\n",
    "Attention allows the decoder network to \"focus\" on a different part of the encoder's outputs for every time step of the decoder's own outputs."
   ]
  },
  {
   "cell_type": "code",
   "execution_count": 85,
   "metadata": {
    "ExecuteTime": {
     "end_time": "2018-02-16T04:08:07.495269Z",
     "start_time": "2018-02-16T04:08:07.486607Z"
    },
    "collapsed": true
   },
   "outputs": [],
   "source": [
    "%matplotlib inline\n",
    "\n",
    "import numpy as np\n",
    "import matplotlib.pyplot as plt\n",
    "import matplotlib.ticker as ticker\n",
    "import re\n",
    "import time, math, random\n",
    "from sklearn.model_selection import train_test_split\n",
    "from tqdm import tqdm_notebook\n",
    "import pdb\n",
    "\n",
    "import torch.nn as nn\n",
    "import torch.nn.parallel\n",
    "import torch.nn.functional as F\n",
    "import torch.optim as optim\n",
    "from torch.autograd import Variable\n",
    "from torch.optim import lr_scheduler\n",
    "\n",
    "from clr import CyclicLR\n",
    "Path = 'data/'"
   ]
  },
  {
   "cell_type": "code",
   "execution_count": 86,
   "metadata": {
    "ExecuteTime": {
     "end_time": "2018-02-16T04:08:07.506510Z",
     "start_time": "2018-02-16T04:08:07.496222Z"
    },
    "cell_style": "center"
   },
   "outputs": [
    {
     "data": {
      "text/html": [
       "<style>.container { width:100% !important; }</style>"
      ],
      "text/plain": [
       "<IPython.core.display.HTML object>"
      ]
     },
     "metadata": {},
     "output_type": "display_data"
    }
   ],
   "source": [
    "from IPython.core.display import display, HTML\n",
    "display(HTML(\"<style>.container { width:100% !important; }</style>\"))"
   ]
  },
  {
   "cell_type": "markdown",
   "metadata": {},
   "source": [
    "## Preprocessing"
   ]
  },
  {
   "cell_type": "code",
   "execution_count": 87,
   "metadata": {
    "ExecuteTime": {
     "end_time": "2018-02-16T04:08:07.995751Z",
     "start_time": "2018-02-16T04:08:07.553305Z"
    }
   },
   "outputs": [
    {
     "data": {
      "text/plain": [
       "('A', ['AH0'])"
      ]
     },
     "execution_count": 87,
     "metadata": {},
     "output_type": "execute_result"
    }
   ],
   "source": [
    "#Get each word that begins with A-Z from each line into a list \n",
    "lines = [l.strip().split(\"  \") for l in open(Path+'cmudict-0.7b', encoding='latin1') \n",
    "         if re.match('^[A-Z]', l)]\n",
    "#Split words and phonemes\n",
    "lines = [(w, ps.split()) for w, ps in lines]\n",
    "lines[0]"
   ]
  },
  {
   "cell_type": "code",
   "execution_count": 88,
   "metadata": {
    "ExecuteTime": {
     "end_time": "2018-02-16T04:08:08.041601Z",
     "start_time": "2018-02-16T04:08:07.996646Z"
    }
   },
   "outputs": [
    {
     "data": {
      "text/plain": [
       "70"
      ]
     },
     "execution_count": 88,
     "metadata": {},
     "output_type": "execute_result"
    }
   ],
   "source": [
    "#Get a list of all the unique phonemes from lines and adding _ to position 0 because it corresponds to padding\n",
    "#when tokenised\n",
    "phonemes = [\"_\"]+sorted(set(p for w, ps in lines for p in ps))\n",
    "len(phonemes)"
   ]
  },
  {
   "cell_type": "code",
   "execution_count": 89,
   "metadata": {
    "ExecuteTime": {
     "end_time": "2018-02-16T04:08:08.047037Z",
     "start_time": "2018-02-16T04:08:08.042497Z"
    },
    "collapsed": true
   },
   "outputs": [],
   "source": [
    "#Map phonemes to indices and letters to indices.\n",
    "p2i = dict((v, k) for k, v in enumerate(phonemes))\n",
    "letters = \"_abcdefghijklmnopqrstuvwxyz*\"\n",
    "l2i = dict((v, k) for k, v in enumerate(letters))"
   ]
  },
  {
   "cell_type": "code",
   "execution_count": 90,
   "metadata": {
    "ExecuteTime": {
     "end_time": "2018-02-16T04:08:08.198441Z",
     "start_time": "2018-02-16T04:08:08.047948Z"
    }
   },
   "outputs": [
    {
     "data": {
      "text/plain": [
       "108006"
      ]
     },
     "execution_count": 90,
     "metadata": {},
     "output_type": "execute_result"
    }
   ],
   "source": [
    "#Start of sentence token\n",
    "SOS_token = 0\n",
    "\n",
    "maxlen = 15\n",
    "#Map words to corresponding list of phoneme indices with constraints. \n",
    "pronounce_dict = {w.lower(): [p2i[p] for p in ps] for w, ps in lines\n",
    "                    if (5<=len(w)<=maxlen) and re.match(\"^[A-Z]+$\", w)}\n",
    "len(pronounce_dict)"
   ]
  },
  {
   "cell_type": "code",
   "execution_count": 91,
   "metadata": {
    "ExecuteTime": {
     "end_time": "2018-02-16T04:08:08.209567Z",
     "start_time": "2018-02-16T04:08:08.199268Z"
    }
   },
   "outputs": [
    {
     "data": {
      "text/plain": [
       "16"
      ]
     },
     "execution_count": 91,
     "metadata": {},
     "output_type": "execute_result"
    }
   ],
   "source": [
    "maxlen_p = max([len(v) for k,v in pronounce_dict.items()]); maxlen_p"
   ]
  },
  {
   "cell_type": "code",
   "execution_count": 92,
   "metadata": {
    "ExecuteTime": {
     "end_time": "2018-02-16T04:08:08.641375Z",
     "start_time": "2018-02-16T04:08:08.210419Z"
    },
    "collapsed": true
   },
   "outputs": [],
   "source": [
    "#words contain the number of words in the filtered dictionary\n",
    "words = np.random.permutation(list(pronounce_dict.keys()))\n",
    "n = len(words)\n",
    "\n",
    "#Initialise the input and labels array with zeros so that everywhere except \n",
    "#the position of values is padded\n",
    "input_ = np.zeros((n, maxlen_p), np.int32)\n",
    "labels_ = np.zeros((n, maxlen), np.int32)\n",
    "\n",
    "#Fill in the non zero indices\n",
    "for i, k in enumerate(words):\n",
    "    for j, p in enumerate(pronounce_dict[k]): input_[i][j]=p\n",
    "    for j, p in enumerate(k): labels_[i][j] = l2i[p]\n",
    "        "
   ]
  },
  {
   "cell_type": "code",
   "execution_count": 93,
   "metadata": {
    "ExecuteTime": {
     "end_time": "2018-02-16T04:08:08.651341Z",
     "start_time": "2018-02-16T04:08:08.642306Z"
    },
    "collapsed": true
   },
   "outputs": [],
   "source": [
    "#Create train, validation sets\n",
    "(input_train, input_test, labels_train, labels_test, \n",
    "    ) = train_test_split(input_, labels_, test_size=0.1)"
   ]
  },
  {
   "cell_type": "code",
   "execution_count": 94,
   "metadata": {
    "ExecuteTime": {
     "end_time": "2018-02-16T04:08:08.654446Z",
     "start_time": "2018-02-16T04:08:08.652275Z"
    }
   },
   "outputs": [
    {
     "data": {
      "text/plain": [
       "(70, 28)"
      ]
     },
     "execution_count": 94,
     "metadata": {},
     "output_type": "execute_result"
    }
   ],
   "source": [
    "input_vocab_size, output_vocab_size = len(phonemes), len(letters);input_vocab_size, output_vocab_size"
   ]
  },
  {
   "cell_type": "code",
   "execution_count": 95,
   "metadata": {
    "ExecuteTime": {
     "end_time": "2018-02-16T04:08:08.658007Z",
     "start_time": "2018-02-16T04:08:08.655276Z"
    },
    "collapsed": true
   },
   "outputs": [],
   "source": [
    "def get_batch(x, y, batch_size=128):\n",
    "    idxs = np.random.permutation(len(x))[:batch_size]\n",
    "    return x[idxs], y[idxs]"
   ]
  },
  {
   "cell_type": "code",
   "execution_count": 96,
   "metadata": {
    "ExecuteTime": {
     "end_time": "2018-02-16T04:08:08.662542Z",
     "start_time": "2018-02-16T04:08:08.658800Z"
    }
   },
   "outputs": [
    {
     "data": {
      "text/plain": [
       "array([ 8, 53, 21, 18, 42,  0,  0,  0,  0,  0,  0,  0,  0,  0,  0,  0], dtype=int32)"
      ]
     },
     "execution_count": 96,
     "metadata": {},
     "output_type": "execute_result"
    }
   ],
   "source": [
    "input_train[1]"
   ]
  },
  {
   "cell_type": "markdown",
   "metadata": {},
   "source": [
    "## Model"
   ]
  },
  {
   "cell_type": "code",
   "execution_count": 97,
   "metadata": {
    "ExecuteTime": {
     "end_time": "2018-02-16T04:08:08.666136Z",
     "start_time": "2018-02-16T04:08:08.663259Z"
    },
    "collapsed": true
   },
   "outputs": [],
   "source": [
    "dim = 512#Hidden units\n",
    "batch_size = 128\n",
    "ln = 0.7 #Length normalization parameter for beam search"
   ]
  },
  {
   "cell_type": "markdown",
   "metadata": {},
   "source": [
    "### Encoder"
   ]
  },
  {
   "cell_type": "code",
   "execution_count": 98,
   "metadata": {
    "ExecuteTime": {
     "end_time": "2018-02-16T04:08:08.688378Z",
     "start_time": "2018-02-16T04:08:08.666913Z"
    },
    "collapsed": true
   },
   "outputs": [],
   "source": [
    "class EncoderRNN(nn.Module):\n",
    "    def __init__(self, input_size, hidden_size, n_layers=1, dropout_p=0.1):\n",
    "        super(EncoderRNN, self).__init__()\n",
    "        self.hidden_size = hidden_size\n",
    "        self.embedding = nn.Embedding(input_size, hidden_size//2)\n",
    "        self.dropout = nn.Dropout(dropout_p)\n",
    "        self.grubi = nn.GRU(hidden_size//2, hidden_size//2, dropout=dropout_p, batch_first=True, num_layers=1,\n",
    "                         bidirectional=True)\n",
    "        self.gru = nn.GRU(hidden_size, hidden_size, batch_first=True, dropout=dropout_p,\n",
    "                            num_layers=1)\n",
    "        #self.gru2 = nn.GRU(hidden_size, hidden_size, batch_first=True, dropout=dropout_p,num_layers=1)\n",
    "    def forward(self, input, hidden):\n",
    "        x = self.embedding(input) \n",
    "        x = self.dropout(x)\n",
    "        \n",
    "        x, hidden = self.grubi(x, hidden)\n",
    "        #Concatenating hidden state to get a single layer because\n",
    "        #bidirectional return a layer for each direction. \n",
    "        hidden = torch.cat(torch.chunk(hidden, 2, 0),2)\n",
    "        output, hidden = self.gru(x, hidden)\n",
    "        #output, hidden = self.gru2(x, hidden)\n",
    "        return output, hidden\n",
    "\n",
    "    def initHidden(self, batch_size):\n",
    "        #2 for bidirectional, change to 1 otherwise.\n",
    "        return Variable(torch.zeros(2, batch_size, self.hidden_size//2))"
   ]
  },
  {
   "cell_type": "markdown",
   "metadata": {},
   "source": [
    "### Decoder"
   ]
  },
  {
   "cell_type": "code",
   "execution_count": 99,
   "metadata": {
    "ExecuteTime": {
     "end_time": "2018-02-16T04:08:08.700175Z",
     "start_time": "2018-02-16T04:08:08.689199Z"
    },
    "cell_style": "center",
    "code_folding": [],
    "collapsed": true
   },
   "outputs": [],
   "source": [
    "class DecoderRNN(nn.Module):\n",
    "    def __init__(self, hidden_size, output_size, n_layers=1):\n",
    "        super(DecoderRNN, self).__init__()\n",
    "        self.hidden_size = hidden_size\n",
    "        \n",
    "        self.embedding = nn.Embedding(output_size, hidden_size) #Optional\n",
    "        \n",
    "        self.gru = nn.GRU(hidden_size, hidden_size, batch_first=True, num_layers=1)\n",
    "        #self.gru2 = nn.GRU(hidden_size, hidden_size, batch_first=True, num_layers=1)\n",
    "\n",
    "        self.out = nn.Linear(hidden_size, output_size)\n",
    "        self.sm = nn.LogSoftmax()\n",
    "        \n",
    "    def forward(self, input, hidden):\n",
    "        emb = self.embedding(input).unsqueeze(1)\n",
    "        res, hidden = self.gru(emb, hidden)\n",
    "        #res, hidden = self.gru2(res, hidden)\n",
    "        output = self.sm(self.out(res[:,0]))\n",
    "        return output, hidden"
   ]
  },
  {
   "cell_type": "markdown",
   "metadata": {
    "cell_style": "center"
   },
   "source": [
    "### Decoder with Bahdanau Attention"
   ]
  },
  {
   "cell_type": "markdown",
   "metadata": {
    "cell_style": "split"
   },
   "source": [
    "#### Attention module\n",
    "<img src=\"png/formular.png\">\n",
    "Attn class implements the above equations <br>\n",
    "L - Number of layers,\n",
    "B - Batch size,\n",
    "H - Hidden size"
   ]
  },
  {
   "cell_type": "code",
   "execution_count": 100,
   "metadata": {
    "ExecuteTime": {
     "end_time": "2018-02-16T04:08:08.715742Z",
     "start_time": "2018-02-16T04:08:08.700970Z"
    },
    "cell_style": "center",
    "code_folding": [],
    "collapsed": true
   },
   "outputs": [],
   "source": [
    "class Attn(nn.Module):\n",
    "    def __init__(self, hidden_size):\n",
    "        super(Attn, self).__init__()\n",
    "        self.hidden_size = hidden_size\n",
    "    \n",
    "        self.attn = nn.Linear(self.hidden_size * 2, hidden_size)\n",
    "        self.v = nn.Parameter(nn.init.xavier_normal(torch.rand(1, hidden_size)))\n",
    "        self.softmax = nn.Softmax()\n",
    "        self.tanh = nn.Tanh()\n",
    "    \n",
    "    def forward(self, hidden, encoder_outputs):\n",
    "        '''\n",
    "        Inputs:\n",
    "            hidden - hidden state of previous layer [LxBxH]\n",
    "            encoder_outputs - encoder outputs for each timestep [BxTxH]\n",
    "        Output: \n",
    "            Normalized weightings for each of the encoder output [BxT]\n",
    "        '''\n",
    "        maxlen_p = encoder_outputs.size(1) \n",
    "        H = hidden.repeat(maxlen_p, 1, 1).transpose(0,1)\n",
    "        weights = self.attn(torch.cat([H, encoder_outputs], 2)) #[BxTx2H]->[BxTxH]\n",
    "        weights = self.tanh(weights) \n",
    "        weights = weights.transpose(2,1) #[BxHxT]\n",
    "        v = self.v.repeat(encoder_outputs.data.shape[0],1).unsqueeze(1) #[Bx1xH]\n",
    "        weights = torch.bmm(v, weights) #[Bx1xH]*[BxHxT]->[Bx1xT]\n",
    "        weights = weights.squeeze(1) #softmax requires 2D tensor\n",
    "        return self.softmax(weights).unsqueeze(1)"
   ]
  },
  {
   "cell_type": "code",
   "execution_count": 101,
   "metadata": {
    "ExecuteTime": {
     "end_time": "2018-02-16T04:08:08.737779Z",
     "start_time": "2018-02-16T04:08:08.716550Z"
    },
    "collapsed": true
   },
   "outputs": [],
   "source": [
    "class AttnDecoderRNN(nn.Module):\n",
    "    def __init__(self, hidden_size, output_size, maxlen_p, n_layers=1, dropout_p=0.1):\n",
    "        super(AttnDecoderRNN, self).__init__()\n",
    "        self.hidden_size = hidden_size\n",
    "        self.output_size = output_size\n",
    "        self.maxlen_p = maxlen_p\n",
    "\n",
    "        self.embedding = nn.Embedding(output_size, hidden_size) \n",
    "        self.dropout = nn.Dropout(dropout_p)\n",
    "        self.attn = Attn(hidden_size)\n",
    "        self.gru = nn.GRU(hidden_size*2, hidden_size, batch_first=True, num_layers=1, dropout=dropout_p)\n",
    "        #self.gru2 = nn.GRU(hidden_size, hidden_size, batch_first=True, num_layers=1, dropout=dropout_p)\n",
    "\n",
    "        self.out = nn.Linear(hidden_size, output_size)\n",
    "        self.sm = nn.LogSoftmax()\n",
    "        \n",
    "    def forward(self, input, hidden, enc_outputs):\n",
    "        '''\n",
    "        Inputs:\n",
    "            input - initial token, decoder output or target(teacher forcing) [B] \n",
    "            hidden - hidden state of previous layer [LxBxH]\n",
    "            encoder_outputs - encoder outputs for each timestep [BxTxH]\n",
    "        Output: \n",
    "            Normalized weightings for each of the encoder output [BxT]\n",
    "        '''\n",
    "        emb = self.embedding(input).unsqueeze(1) #[Bx1xH]\n",
    "        emb = self.dropout(emb) \n",
    "        weights = self.attn(hidden, enc_outputs) #[Bx1xT]       \n",
    "        context = weights.bmm(enc_outputs) #[Bx1xT]*[BxTxH]->[Bx1xH]\n",
    "        rnn_input = torch.cat((emb, context), 2) #[Bx1xH*2]\n",
    "        \n",
    "        res, hidden = self.gru(rnn_input, hidden) \n",
    "        #res, hidden = self.gru(rnn_input, hidden)\n",
    "        output = self.sm(self.out(res[:,0]))\n",
    "        return output, hidden"
   ]
  },
  {
   "cell_type": "markdown",
   "metadata": {},
   "source": [
    "## Training"
   ]
  },
  {
   "cell_type": "markdown",
   "metadata": {},
   "source": [
    "### Train loop"
   ]
  },
  {
   "cell_type": "markdown",
   "metadata": {},
   "source": [
    "I - Input sequence length\n",
    "O - Output sequence length"
   ]
  },
  {
   "cell_type": "code",
   "execution_count": 102,
   "metadata": {
    "ExecuteTime": {
     "end_time": "2018-02-16T04:08:08.774874Z",
     "start_time": "2018-02-16T04:08:08.738942Z"
    },
    "cell_style": "center",
    "collapsed": true
   },
   "outputs": [],
   "source": [
    "def train(attention, input_variable, target_variable, encoder, decoder, \n",
    "          encoder_optimizer, decoder_optimizer, criterion, teach_force_t):\n",
    "    '''\n",
    "    Inputs:\n",
    "        attention - boolean determines if attention needs to be calculated \n",
    "        input_variable - training samples [BxI]\n",
    "        target_variable - used to calculate loss and as decoder input [BxO]\n",
    "        encoder, optimizer \n",
    "        decoder, optimizer\n",
    "        criterion - loss function\n",
    "        teach_force_t - threshold after which teacher force will be used \n",
    "    Output: \n",
    "        loss\n",
    "    '''\n",
    "    batch_size= input_variable.size()[0]\n",
    "    target_length = target_variable.size()[1]\n",
    "    encoder_hidden = encoder.initHidden(batch_size).cuda()\n",
    "    encoder_optimizer.zero_grad()\n",
    "    decoder_optimizer.zero_grad()\n",
    "    loss = 0\n",
    "\n",
    "    encoder_output, encoder_hidden = encoder(input_variable, encoder_hidden)\n",
    "    decoder_hidden = encoder_hidden\n",
    "    \n",
    "    decoder_input = Variable(torch.LongTensor([SOS_token]*batch_size)).cuda()\n",
    "    \n",
    "    if (random.random() > teach_force_t):\n",
    "        for di in range(target_length):\n",
    "            if attention:\n",
    "                decoder_output, decoder_hidden = decoder(decoder_input, decoder_hidden, encoder_output)\n",
    "            else:\n",
    "                decoder_output, decoder_hidden = decoder(decoder_input, decoder_hidden)          \n",
    "\n",
    "            targ = target_variable[:, di]\n",
    "            loss += criterion(decoder_output, targ)\n",
    "            decoder_input = targ\n",
    "        \n",
    "            \n",
    "    else:\n",
    "        for di in range(target_length):\n",
    "            if attention:\n",
    "                decoder_output, decoder_hidden = decoder(decoder_input, decoder_hidden, encoder_output)\n",
    "            else:\n",
    "                decoder_output, decoder_hidden = decoder(decoder_input, decoder_hidden)                    \n",
    "            \n",
    "            targ = target_variable[:, di]\n",
    "            loss += criterion(decoder_output, targ)\n",
    "            _, indices = torch.max(decoder_output, 1)\n",
    "            decoder_input = indices\n",
    "    loss.backward()\n",
    "    encoder_optimizer.step()\n",
    "    decoder_optimizer.step()\n",
    "    \n",
    "    return loss.data[0] / target_length"
   ]
  },
  {
   "cell_type": "code",
   "execution_count": 135,
   "metadata": {
    "ExecuteTime": {
     "end_time": "2018-02-16T05:26:34.544122Z",
     "start_time": "2018-02-16T05:26:34.488910Z"
    },
    "code_folding": [],
    "collapsed": true
   },
   "outputs": [],
   "source": [
    "def trainIters(attention, encoder, decoder, iters, print_every=1000, plot_every=100, \n",
    "                learning_rate=0.01, teacher_force_t=0.5):\n",
    "\n",
    "    lrs = []\n",
    "    plot_losses = []\n",
    "    print_loss_total = 0 # Reset every print_every\n",
    "    plot_loss_total = 0 # Reset every plot_every\n",
    "    best_loss = 10\n",
    "    encoder_optimizer = optim.SGD(encoder.parameters(), lr=learning_rate, momentum=0.9)\n",
    "    decoder_optimizer = optim.SGD(decoder.parameters(), lr=learning_rate, momentum=0.9)\n",
    "    criterion = nn.NLLLoss().cuda()\n",
    "    clr = CyclicLR(decoder_optimizer, base_lr=0.00001, max_lr=0.0001, step_size=3*(len(input_train)/128), \n",
    "           mode='triangular2', scale_mode='iterations')\n",
    "    clr2 = CyclicLR(encoder_optimizer, base_lr=0.00001, max_lr=0.0001, step_size=3*(len(input_train)/128), \n",
    "           mode='triangular2', scale_mode='iterations')\n",
    "    #clr_find = CyclicLR(decoder_optimizer, base_lr=1e-6, max_lr=1, step_size=360, mode='finder', scale_mode='iterations')\n",
    "    canneal = optim.lr_scheduler.CosineAnnealingLR(decoder_optimizer, T_max=(len(input_train)/128), eta_min=0.00001)\n",
    "    canneal = optim.lr_scheduler.CosineAnnealingLR(encoder_optimizer, T_max=(len(input_train)/128), eta_min=0.00001)\n",
    "  \n",
    "    for iter in tqdm_notebook(range(1, iters + 1)):\n",
    "        training_batch = get_batch(input_train, labels_train, 128)\n",
    "        input_variable = Variable(torch.LongTensor((training_batch[0].astype('int64')))).cuda()\n",
    "        target_variable = Variable(torch.LongTensor(training_batch[1].astype('int64'))).cuda()\n",
    "        loss = train(attention, input_variable, target_variable, encoder, decoder, encoder_optimizer, \n",
    "                             decoder_optimizer, criterion, teacher_force_t)\n",
    "        '''if loss < best_loss:\n",
    "            best_loss = loss\n",
    "        if loss > best_loss*2:\n",
    "            break'''\n",
    "        #canneal.step()\n",
    "        #canneal.step()\n",
    "        clr.batch_step()\n",
    "        clr2.batch_step()\n",
    "        #clr_find.batch_step()\n",
    "        print_loss_total += loss\n",
    "        plot_loss_total += loss\n",
    "\n",
    "        if iter % print_every == 0:\n",
    "            print_loss_avg = print_loss_total / print_every\n",
    "            print_loss_total = 0\n",
    "            print('Loss: ',print_loss_avg, 'LR: ', clr.get_lr(),  end=\"\\r\", flush=True)\n",
    "            \n",
    "        if iter % plot_every == 0:\n",
    "            lrs.append(clr.get_lr())\n",
    "            plot_loss_avg = plot_loss_total / plot_every\n",
    "            plot_losses.append(plot_loss_avg)\n",
    "            plot_loss_total = 0\n",
    "    plot_lr_loss(plot_losses, lrs)\n",
    "    #showPlot(plot_losses, lrs)"
   ]
  },
  {
   "cell_type": "markdown",
   "metadata": {},
   "source": [
    "### Train"
   ]
  },
  {
   "cell_type": "code",
   "execution_count": 136,
   "metadata": {
    "ExecuteTime": {
     "end_time": "2018-02-16T05:26:36.038837Z",
     "start_time": "2018-02-16T05:26:36.035745Z"
    },
    "collapsed": true
   },
   "outputs": [],
   "source": [
    "def plot_lr_loss(losses, lrs):\n",
    "    plt.ylabel(\"Loss\")\n",
    "    plt.xlabel(\"learning rate (log scale)\")\n",
    "    plt.plot(lrs, losses)\n",
    "    plt.xscale('log')\n",
    "\n",
    "\n"
   ]
  },
  {
   "cell_type": "code",
   "execution_count": 137,
   "metadata": {
    "ExecuteTime": {
     "end_time": "2018-02-16T05:26:36.903849Z",
     "start_time": "2018-02-16T05:26:36.900906Z"
    },
    "code_folding": [],
    "collapsed": true
   },
   "outputs": [],
   "source": [
    "def showPlot(points):\n",
    "    plt.figure()\n",
    "    fig, ax = plt.subplots()\n",
    "    loc = ticker.MultipleLocator(base=0.2) # this locator puts ticks at regular intervals\n",
    "    ax.yaxis.set_major_locator(loc)\n",
    "    plt.plot(points)"
   ]
  },
  {
   "cell_type": "code",
   "execution_count": 129,
   "metadata": {
    "ExecuteTime": {
     "end_time": "2018-02-16T04:54:41.484187Z",
     "start_time": "2018-02-16T04:54:41.387688Z"
    },
    "collapsed": true
   },
   "outputs": [],
   "source": [
    "encoder = EncoderRNN(input_vocab_size, dim, dropout_p=0.3).cuda()\n",
    "#decoder = DecoderRNN(dim, output_vocab_size).cuda(); attn=False\n",
    "decoder = AttnDecoderRNN(dim, output_vocab_size, maxlen_p, dropout_p=0.3).cuda(); attn=True"
   ]
  },
  {
   "cell_type": "code",
   "execution_count": 138,
   "metadata": {
    "ExecuteTime": {
     "end_time": "2018-02-16T05:38:44.716446Z",
     "start_time": "2018-02-16T05:26:38.889258Z"
    },
    "scrolled": true
   },
   "outputs": [
    {
     "data": {
      "application/vnd.jupyter.widget-view+json": {
       "model_id": "35396558ab4745e5ab6a8d39d5c70e84",
       "version_major": 2,
       "version_minor": 0
      },
      "text/html": [
       "<p>Failed to display Jupyter Widget of type <code>HBox</code>.</p>\n",
       "<p>\n",
       "  If you're reading this message in the Jupyter Notebook or JupyterLab Notebook, it may mean\n",
       "  that the widgets JavaScript is still loading. If this message persists, it\n",
       "  likely means that the widgets JavaScript library is either not installed or\n",
       "  not enabled. See the <a href=\"https://ipywidgets.readthedocs.io/en/stable/user_install.html\">Jupyter\n",
       "  Widgets Documentation</a> for setup instructions.\n",
       "</p>\n",
       "<p>\n",
       "  If you're reading this message in another frontend (for example, a static\n",
       "  rendering on GitHub or <a href=\"https://nbviewer.jupyter.org/\">NBViewer</a>),\n",
       "  it may mean that your frontend doesn't currently support widgets.\n",
       "</p>\n"
      ],
      "text/plain": [
       "HBox(children=(IntProgress(value=0, max=10000), HTML(value='')))"
      ]
     },
     "metadata": {},
     "output_type": "display_data"
    },
    {
     "name": "stdout",
     "output_type": "stream",
     "text": [
      "Loss:  0.20143600050608312 LR:  [1.8750475798570033e-05]\n"
     ]
    },
    {
     "data": {
      "image/png": "[encoded data removed]",
      "text/plain": [
       "<matplotlib.figure.Figure at 0x7f483ab93588>"
      ]
     },
     "metadata": {},
     "output_type": "display_data"
    }
   ],
   "source": [
    "trainIters(attn, encoder, decoder,10000, print_every=50, plot_every=10, learning_rate=0.05, teacher_force_t=0)"
   ]
  },
  {
   "cell_type": "markdown",
   "metadata": {},
   "source": [
    "## Beam Search\n",
    "Beam search is a solution to the NP complete Viterbi algorithm. Viterbi algorithm, from a large set of potential choices, tries to find the best possible combination by calculating the probabilities of every single combination and in this case, that is in each timestep. <br>\n",
    "Beam search removes low probability partial hypotheses[means a possible choice] in each timestep but preserves k most probable hypotheses in each timestep rather than a single most probable value. <br>\n",
    "<b> An observation is that spelling a word maybe too constrained a problem especially given the fact that the model becomes 'rigid' after ~5000 iterations and predicts with high probabilities for what it thinks is right reducing the chances of other hypotheses becoming viable</b>. To make best use of beamsearch, it is more important to allow the model to learn a conservative representation than a overconfident one with lower loss. One consequence of this can be seen by using excessive teacher forcing whereby beam search becomes less effective. It is also to be noted that this implementation can be made more efficient. \n",
    "<img src=\"png/beamsearchc.png\">"
   ]
  },
  {
   "cell_type": "code",
   "execution_count": 143,
   "metadata": {
    "ExecuteTime": {
     "end_time": "2018-02-15T16:00:40.632885Z",
     "start_time": "2018-02-15T16:00:40.506551Z"
    },
    "cell_style": "center",
    "code_folding": [],
    "collapsed": true
   },
   "outputs": [],
   "source": [
    "def beam_search(test_batch,attention, encoder, decoder,dim, batch_size=128, ln=0.7):\n",
    "    totAcc = 0\n",
    "    preds_beam = []\n",
    "    for num in tqdm_notebook(range(batch_size)): \n",
    "        k=5\n",
    "        input_variable = Variable(torch.LongTensor((test_batch[0][num].astype('int64'))), volatile=True).cuda() #[1x16]\n",
    "        target_variable = Variable(torch.LongTensor(test_batch[1][num].astype('int64')), volatile=True).cuda() #[1x15]\n",
    "        input_variable = input_variable.unsqueeze(0)\n",
    "        target_variable = target_variable.unsqueeze(0)\n",
    "\n",
    "        target_length = target_variable.size()[1]\n",
    "        encoder_hidden = encoder.initHidden(1).cuda()\n",
    "\n",
    "        hypothesis = [] #List storing list of initial hypotheses\n",
    "        nhypothesis = [] #List to store updated hypotheses\n",
    "        lhypothesis = Variable(torch.LongTensor([0]*k)).cuda() #Variable storing the most recent entry in each of the k hypotheses\n",
    "        kprobs = Variable(torch.zeros(k)) #Probability of each hypothesis\n",
    "        hstates = Variable(torch.zeros(k, 1,dim)) #Initial hidden states of hypotheses\n",
    "        nhstates = Variable(torch.zeros(k, 1,dim)) #Changed hidden states of hypotheses\n",
    "        bestk_p = Variable(torch.zeros(k*k)) #Vector storing probability of best k for each of top k hypotheses\n",
    "        bestk_i = Variable(torch.zeros(k*k)) #Vector storing index of best k for each of top k hypotheses\n",
    "        \n",
    "        encoder_output, encoder_hidden = encoder(input_variable, encoder_hidden)\n",
    "        decoder_input = Variable(torch.LongTensor([SOS_token]), volatile=True).cuda()\n",
    "        if attention:\n",
    "            decoder_output, decoder_hidden = decoder(decoder_input, encoder_hidden, encoder_output)\n",
    "        else:\n",
    "            decoder_output, decoder_hidden = decoder(decoder_input, encoder_hidden)        \n",
    "        decoder_output = decoder_output.squeeze(0)\n",
    "        vals, indices = torch.topk(decoder_output, k, 0) #Finding the initial values of k hypothesis \n",
    "        for i in range(k):\n",
    "            hypothesis.append([indices[i].data.cpu().numpy().item()])\n",
    "            nhypothesis=list(hypothesis)\n",
    "            lhypothesis[i] = indices[i]\n",
    "            kprobs[i] = (vals[i].data)\n",
    "\n",
    "        repeated_probs = torch.zeros(k*k) #Vector to hold k probabilities repeated for operations \n",
    "        hstates = decoder_hidden.repeat(k, 1, 1) #Initially, every k share the same hidden state\n",
    "        for di in range(target_length-1):\n",
    "            for i in range(k):\n",
    "                decoder_input = lhypothesis[i]\n",
    "\n",
    "                decoder_hidden = hstates[i].unsqueeze(0)\n",
    "                if attention:\n",
    "                    decoder_output, decoder_hidden = decoder(decoder_input, decoder_hidden, encoder_output)\n",
    "                else:\n",
    "                    decoder_output, decoder_hidden = decoder(decoder_input, decoder_hidden)                      \n",
    "                decoder_output = decoder_output.squeeze(0)\n",
    "                nvals, nindices = torch.topk(decoder_output, k, 0) #[1xk]\n",
    "                nhstates[i] = decoder_hidden\n",
    "                bestk_p[k*i:(k*i+k)] = nvals\n",
    "                bestk_i[k*i:(k*i+k)] = nindices\n",
    "            for i in range(k): repeated_probs[k*i:(k*i+k)]=kprobs[i].data.repeat(k)\n",
    "            summed_p = (repeated_probs.numpy() + bestk_p.cpu().data.numpy())\n",
    "        \n",
    "            vals, nindices = torch.topk(torch.from_numpy((1/target_length**ln)*(summed_p)), k, 0) \n",
    "            lhypothesis = Variable(torch.LongTensor([0]*k)).cuda() #Reinitialise required??\n",
    "            for i,x in enumerate(nindices):\n",
    "                kprobs[i] = float(summed_p[x])\n",
    "                lhypothesis[i]=bestk_i[x]\n",
    "                hstates[i]=nhstates[np.floor(x/k)]\n",
    "                nhypothesis[i]=list(hypothesis[int(np.floor(x/k))])\n",
    "                nhypothesis[i].append(int(bestk_i[x].data.numpy()))\n",
    "            hypothesis = list(nhypothesis)\n",
    "\n",
    "        preds_beam.append(np.array(hypothesis[0]))\n",
    "    preds_beam = np.asarray(preds_beam)\n",
    "    print ('Accuracy', np.mean([all(real==p) for real, p in zip(test_batch[1], preds_beam)])*100,'%')\n",
    "    return preds_beam"
   ]
  },
  {
   "cell_type": "markdown",
   "metadata": {},
   "source": [
    "## Evaluation"
   ]
  },
  {
   "cell_type": "code",
   "execution_count": 144,
   "metadata": {
    "ExecuteTime": {
     "end_time": "2018-02-15T16:00:40.996040Z",
     "start_time": "2018-02-15T16:00:40.994285Z"
    },
    "collapsed": true
   },
   "outputs": [],
   "source": [
    "batch_size = 1024"
   ]
  },
  {
   "cell_type": "code",
   "execution_count": 145,
   "metadata": {
    "ExecuteTime": {
     "end_time": "2018-02-15T16:00:41.458764Z",
     "start_time": "2018-02-15T16:00:41.456863Z"
    },
    "collapsed": true
   },
   "outputs": [],
   "source": [
    "test_batch = get_batch(input_test, labels_test, batch_size)"
   ]
  },
  {
   "cell_type": "code",
   "execution_count": 146,
   "metadata": {
    "ExecuteTime": {
     "end_time": "2018-02-15T16:00:42.364375Z",
     "start_time": "2018-02-15T16:00:42.341050Z"
    },
    "code_folding": [
     0
    ],
    "collapsed": true
   },
   "outputs": [],
   "source": [
    "def evaluate(test_batch, attention, encoder, decoder, batch_size=128):  \n",
    "\n",
    "    input_variable = Variable(torch.LongTensor((test_batch[0].astype('int64'))), volatile=True).cuda()\n",
    "    target_variable = Variable(torch.LongTensor(test_batch[1].astype('int64')), volatile=True).cuda()\n",
    "\n",
    "    target_length = target_variable.size()[1]\n",
    "    encoder_hidden = encoder.initHidden(batch_size).cuda()\n",
    "\n",
    "    encoder_output, encoder_hidden = encoder(input_variable, encoder_hidden)\n",
    "    decoder_input = Variable(torch.LongTensor([SOS_token]*batch_size), volatile=True).cuda()\n",
    "    \n",
    "    decoder_hidden = encoder_hidden\n",
    "    decoded_words = []\n",
    "    for di in range(target_length):\n",
    "        if attention:\n",
    "            decoder_output, decoder_hidden = decoder(decoder_input, decoder_hidden, encoder_output)\n",
    "        else:\n",
    "            decoder_output, decoder_hidden = decoder(decoder_input, decoder_hidden)                \n",
    "        _, indices = torch.max(decoder_output, 1)\n",
    "        decoded_words.append(indices)\n",
    "        decoder_input = indices\n",
    "    preds = []\n",
    "    for x in decoded_words:\n",
    "        preds.append(x.cpu().data.numpy())\n",
    "    preds = np.array(preds).T\n",
    "    print ('Accuracy', np.mean([all(real==p) for real, p in zip(test_batch[1], preds)])*100,'%')\n",
    "    return (preds)\n",
    "    "
   ]
  },
  {
   "cell_type": "code",
   "execution_count": 147,
   "metadata": {
    "ExecuteTime": {
     "end_time": "2018-02-15T16:00:43.105703Z",
     "start_time": "2018-02-15T16:00:43.017609Z"
    }
   },
   "outputs": [
    {
     "name": "stdout",
     "output_type": "stream",
     "text": [
      "Accuracy 39.16015625 %\n"
     ]
    }
   ],
   "source": [
    "preds = evaluate(test_batch, attn, encoder, decoder, batch_size)"
   ]
  },
  {
   "cell_type": "code",
   "execution_count": 148,
   "metadata": {
    "ExecuteTime": {
     "end_time": "2018-02-15T16:01:49.593210Z",
     "start_time": "2018-02-15T16:00:43.577971Z"
    }
   },
   "outputs": [
    {
     "data": {
      "application/vnd.jupyter.widget-view+json": {
       "model_id": "9eb6d3ee50fb4509b19a858969732c42",
       "version_major": 2,
       "version_minor": 0
      },
      "text/html": [
       "<p>Failed to display Jupyter Widget of type <code>HBox</code>.</p>\n",
       "<p>\n",
       "  If you're reading this message in the Jupyter Notebook or JupyterLab Notebook, it may mean\n",
       "  that the widgets JavaScript is still loading. If this message persists, it\n",
       "  likely means that the widgets JavaScript library is either not installed or\n",
       "  not enabled. See the <a href=\"https://ipywidgets.readthedocs.io/en/stable/user_install.html\">Jupyter\n",
       "  Widgets Documentation</a> for setup instructions.\n",
       "</p>\n",
       "<p>\n",
       "  If you're reading this message in another frontend (for example, a static\n",
       "  rendering on GitHub or <a href=\"https://nbviewer.jupyter.org/\">NBViewer</a>),\n",
       "  it may mean that your frontend doesn't currently support widgets.\n",
       "</p>\n"
      ],
      "text/plain": [
       "HBox(children=(IntProgress(value=0, max=1024), HTML(value='')))"
      ]
     },
     "metadata": {},
     "output_type": "display_data"
    },
    {
     "name": "stdout",
     "output_type": "stream",
     "text": [
      "\n",
      "Accuracy 40.4296875 %\n"
     ]
    }
   ],
   "source": [
    "preds_beam = beam_search(test_batch,attn, encoder, decoder, dim,batch_size)"
   ]
  },
  {
   "cell_type": "code",
   "execution_count": 82,
   "metadata": {
    "ExecuteTime": {
     "end_time": "2018-02-09T18:55:11.558137Z",
     "start_time": "2018-02-09T18:55:11.522601Z"
    },
    "code_folding": [],
    "collapsed": true
   },
   "outputs": [],
   "source": [
    "def results(preds_beam, preds, test_batch):\n",
    "    print ('  Phonemes_________________________________predictions___________beam_________________label')\n",
    "    for index in range(32, 50):\n",
    "        phoneme = '-'.join([phonemes[p] for p in test_batch[0][index]])\n",
    "        prediction = [letters[l] for l in preds[index]]\n",
    "        real = [letters[l] for l in test_batch[1][index]]\n",
    "        beamed = [letters[l] for l in preds_beam[index]]\n",
    "        print ('  ',phoneme.strip('-_').ljust(40), ''.join(prediction).strip('_').ljust(20), ''.join(beamed).strip('_').ljust(20),\n",
    "               ''.join(real).strip('_'))"
   ]
  },
  {
   "cell_type": "code",
   "execution_count": 83,
   "metadata": {
    "ExecuteTime": {
     "end_time": "2018-02-09T18:55:13.542618Z",
     "start_time": "2018-02-09T18:55:13.535721Z"
    }
   },
   "outputs": [
    {
     "name": "stdout",
     "output_type": "stream",
     "text": [
      "  Phonemes_________________________________predictions___________beam_________________label\n",
      "   B-AO1-SH                                 bosch                bosch                bosch\n",
      "   M-ER0-EH0-N-D-IY1-N-OW2                  merendino            merendino            merendino\n",
      "   D-R-AY1-W-AA2-L                          dreiall              dreiall              drywall\n",
      "   V-AA0-N-AA0-K-AO1-R-IY0                  vanacorr             vanakori             vanacore\n",
      "   M-AA1-D-ER0-N                            modern               modorn               modern\n",
      "   AH0-F-EH1-K-SH-AH0-N-Z                   affections           affections           affections\n",
      "   B-UH1-R-D                                boored               boored               boord\n",
      "   K-L-AA1-Z-AH0-T-IH0-D                    closited             closited             closeted\n",
      "   AA0-L-IY1-M-AH0                          alima                alima                alima\n",
      "   B-ER1-S-T-S                              bersts               bersts               bursts\n",
      "   D-AY0-AE1-F-AH0-N-IH0-S                  diaphenis            diaphenis            diaphanous\n",
      "   M-AH1-L-K-AH0-HH-IY0                     mulcahee             mulkahye             mulcahey\n",
      "   K-W-AE1-K-ER0-IY0                        quackery             quackary             quackery\n",
      "   B-OW1-S                                  bowse                bowse                boese\n",
      "   T-R-AE1-V-N-IH0-K                        travnick             travnick             travnik\n",
      "   P-EH2-L-AH0-P-AH0-N-IY1-ZH-AH0-N         peleponesian         peleponesian         peloponnesian\n",
      "   G-AA0-B-R-AW1-N-IY2                      gabrowne             gabrowne             gabrowny\n",
      "   R-UW1-D-IH0-M-AH0-N-T                    rudement             rudement             rudiment\n"
     ]
    }
   ],
   "source": [
    "results(preds_beam, preds, test_batch)"
   ]
  },
  {
   "cell_type": "markdown",
   "metadata": {},
   "source": [
    "## Serialization"
   ]
  },
  {
   "cell_type": "code",
   "execution_count": null,
   "metadata": {
    "ExecuteTime": {
     "end_time": "2018-02-08T10:48:24.391296Z",
     "start_time": "2018-02-08T10:48:24.366088Z"
    },
    "collapsed": true
   },
   "outputs": [],
   "source": [
    "torch.save(encoder, 'models/encoder07.dat')\n",
    "torch.save(decoder, 'models/decoder07.dat')"
   ]
  },
  {
   "cell_type": "code",
   "execution_count": 20,
   "metadata": {
    "ExecuteTime": {
     "end_time": "2018-02-09T09:46:56.918629Z",
     "start_time": "2018-02-09T09:46:55.866527Z"
    },
    "collapsed": true
   },
   "outputs": [],
   "source": [
    "encoder = torch.load('models/encoder08.dat')\n",
    "decoder = torch.load('models/decoder08.dat')"
   ]
  },
  {
   "cell_type": "markdown",
   "metadata": {},
   "source": [
    "## References \n",
    "<ol>\n",
    "<li>[Neural Machine Translation by Jointly Learning to Align and Translate](https://arxiv.org/abs/1409.0473)</li>\n",
    "<li>[Spro's seq2seq Pytorch Tutorial](https://github.com/spro/practical-pytorch/blob/master/seq2seq-translation/seq2seq-translation.ipynb)</li> \n",
    "<li>[fast.ai MOOC](http://www.fast.ai/)</li>\n",
    "<li>[AuCson's implementation](https://github.com/AuCson/PyTorch-Batch-Attention-Seq2seq/blob/master/attentionRNN.py)</li>\n",
    "<li>[Datalogue Blog about attention](https://medium.com/datalogue/attention-in-keras-1892773a4f22)\n",
    "</ol>\n"
   ]
  },
  {
   "cell_type": "code",
   "execution_count": null,
   "metadata": {
    "collapsed": true
   },
   "outputs": [],
   "source": []
  }
 ],
 "metadata": {
  "kernelspec": {
   "display_name": "Python 3",
   "language": "python",
   "name": "python3"
  },
  "language_info": {
   "codemirror_mode": {
    "name": "ipython",
    "version": 3
   },
   "file_extension": ".py",
   "mimetype": "text/x-python",
   "name": "python",
   "nbconvert_exporter": "python",
   "pygments_lexer": "ipython3",
   "version": "3.6.4"
  },
  "latex_envs": {
   "LaTeX_envs_menu_present": true,
   "autocomplete": true,
   "bibliofile": "biblio.bib",
   "cite_by": "apalike",
   "current_citInitial": 1,
   "eqLabelWithNumbers": true,
   "eqNumInitial": 1,
   "hotkeys": {
    "equation": "Ctrl-E",
    "itemize": "Ctrl-I"
   },
   "labels_anchors": false,
   "latex_user_defs": false,
   "report_style_numbering": false,
   "user_envs_cfg": false
  }
 },
 "nbformat": 4,
 "nbformat_minor": 2
}
